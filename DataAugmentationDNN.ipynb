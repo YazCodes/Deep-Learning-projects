{
  "nbformat": 4,
  "nbformat_minor": 0,
  "metadata": {
    "colab": {
      "name": "DataAugmentationDNN.ipynb",
      "provenance": [],
      "collapsed_sections": [],
      "include_colab_link": true
    },
    "kernelspec": {
      "name": "python3",
      "display_name": "Python 3"
    },
    "accelerator": "GPU"
  },
  "cells": [
    {
      "cell_type": "markdown",
      "metadata": {
        "id": "view-in-github",
        "colab_type": "text"
      },
      "source": [
        "<a href=\"https://colab.research.google.com/github/YazCodes/Deep-Learning-projects/blob/main/DataAugmentationDNN.ipynb\" target=\"_parent\"><img src=\"https://colab.research.google.com/assets/colab-badge.svg\" alt=\"Open In Colab\"/></a>"
      ]
    },
    {
      "cell_type": "markdown",
      "metadata": {
        "id": "jqjWYb8Gm_qX"
      },
      "source": [
        "#Data Augmentation with DNN Exercise"
      ]
    },
    {
      "cell_type": "markdown",
      "metadata": {
        "id": "1b_sHIg-hmbQ"
      },
      "source": [
        "##Get standard MNIST dataset"
      ]
    },
    {
      "cell_type": "markdown",
      "metadata": {
        "id": "6M5QyeAxd7NK"
      },
      "source": [
        "Data augmentation in data analysis are techniques used to increase the amount of data by adding slightly modified copies of already existing data or newly created synthetic data from existing data. It acts as a regularizer and helps reduce overfitting when training a machine learning model."
      ]
    },
    {
      "cell_type": "code",
      "metadata": {
        "id": "8fx336_OhBt6",
        "colab": {
          "base_uri": "https://localhost:8080/"
        },
        "outputId": "e72ba146-1a60-46b4-ba23-f9b6af16731f"
      },
      "source": [
        "# load the mnist dataset from keras\r\n",
        "import keras\r\n",
        "from keras import datasets\r\n",
        "(x_train, y_train), (x_test, y_test) = datasets.mnist.load_data()\r\n",
        "\r\n",
        "#normalisation \r\n",
        "# Normalize pixel values between 0 and 1\r\n",
        "x_train = x_train.astype('float32') / 255.0 #the biggest pixel value in the grayscale image \r\n",
        "x_test = x_test.astype('float32') / 255.0\r\n",
        "\r\n",
        "# One hot encode the output data\r\n",
        "y_train = keras.utils.to_categorical(y_train, 10)\r\n",
        "y_test = keras.utils.to_categorical(y_test, 10)"
      ],
      "execution_count": null,
      "outputs": [
        {
          "output_type": "stream",
          "text": [
            "Downloading data from https://storage.googleapis.com/tensorflow/tf-keras-datasets/mnist.npz\n",
            "11493376/11490434 [==============================] - 0s 0us/step\n"
          ],
          "name": "stdout"
        }
      ]
    },
    {
      "cell_type": "markdown",
      "metadata": {
        "id": "juKvSmMMhxvo"
      },
      "source": [
        "## Create, compile and fit model with original MNIST data only"
      ]
    },
    {
      "cell_type": "code",
      "metadata": {
        "id": "7djlySPcKO2u",
        "colab": {
          "base_uri": "https://localhost:8080/",
          "height": 1000
        },
        "outputId": "5856a2e3-6fff-45c2-d34f-f9d4d57bbd67"
      },
      "source": [
        "# Create, compile and fit the model with the original MNIST data\r\n",
        "from keras import layers\r\n",
        "from keras import Sequential\r\n",
        "from keras.layers import Dense\r\n",
        "model = keras.Sequential() #making our model \r\n",
        "model.add(keras.layers.Flatten(input_shape=(28, 28))) #input layer is flattern and our input shape. flatting our 2d 28,28 image \r\n",
        "model.add(Dense(units=10, activation='relu')) #10 units in output layer = the number of classes. our data has 10 digits from0-9\r\n",
        "model.add(Dense(units=10, activation='softmax'))\r\n",
        "\r\n",
        "model.compile(optimizer = 'adam', loss = 'categorical_crossentropy', metrics = ['accuracy']) #we're classfificying our images to numbers 0-9\r\n",
        "\r\n",
        "history = model.fit(x_train, y_train, epochs = 20, validation_data = (x_test, y_test)) #y_train is our catergorical data \r\n",
        "\r\n",
        "# plot the history of the training\r\n",
        "import matplotlib.pyplot as plt\r\n",
        "\r\n",
        "# summarize the history for accuracy \r\n",
        "plt.plot(history.history['accuracy'])\r\n",
        "plt.plot(history.history['val_accuracy'])\r\n",
        "plt.title('model accuracy')\r\n",
        "plt.ylabel('accuracy')\r\n",
        "plt.xlabel('epoch')\r\n",
        "plt.legend(['train','test'], loc='upper left')\r\n",
        "plt.show()\r\n",
        "\r\n",
        "# summarize the history for loss\r\n",
        "plt.plot(history.history['loss'])\r\n",
        "plt.plot(history.history['val_loss'])\r\n",
        "plt.title('model loss')\r\n",
        "plt.ylabel('loss')\r\n",
        "plt.xlabel('epoch')\r\n",
        "plt.legend(['train','test'], loc='upper left')\r\n",
        "plt.show()"
      ],
      "execution_count": null,
      "outputs": [
        {
          "output_type": "stream",
          "text": [
            "Epoch 1/20\n",
            "1875/1875 [==============================] - 6s 2ms/step - loss: 0.9234 - accuracy: 0.7142 - val_loss: 0.3051 - val_accuracy: 0.9106\n",
            "Epoch 2/20\n",
            "1875/1875 [==============================] - 4s 2ms/step - loss: 0.3056 - accuracy: 0.9135 - val_loss: 0.2578 - val_accuracy: 0.9246\n",
            "Epoch 3/20\n",
            "1875/1875 [==============================] - 4s 2ms/step - loss: 0.2642 - accuracy: 0.9247 - val_loss: 0.2449 - val_accuracy: 0.9278\n",
            "Epoch 4/20\n",
            "1875/1875 [==============================] - 4s 2ms/step - loss: 0.2402 - accuracy: 0.9321 - val_loss: 0.2352 - val_accuracy: 0.9320\n",
            "Epoch 5/20\n",
            "1875/1875 [==============================] - 4s 2ms/step - loss: 0.2266 - accuracy: 0.9349 - val_loss: 0.2277 - val_accuracy: 0.9306\n",
            "Epoch 6/20\n",
            "1875/1875 [==============================] - 4s 2ms/step - loss: 0.2223 - accuracy: 0.9360 - val_loss: 0.2236 - val_accuracy: 0.9324\n",
            "Epoch 7/20\n",
            "1875/1875 [==============================] - 4s 2ms/step - loss: 0.2108 - accuracy: 0.9391 - val_loss: 0.2161 - val_accuracy: 0.9372\n",
            "Epoch 8/20\n",
            "1875/1875 [==============================] - 4s 2ms/step - loss: 0.2084 - accuracy: 0.9403 - val_loss: 0.2102 - val_accuracy: 0.9403\n",
            "Epoch 9/20\n",
            "1875/1875 [==============================] - 4s 2ms/step - loss: 0.2018 - accuracy: 0.9415 - val_loss: 0.2079 - val_accuracy: 0.9385\n",
            "Epoch 10/20\n",
            "1875/1875 [==============================] - 4s 2ms/step - loss: 0.1953 - accuracy: 0.9429 - val_loss: 0.2153 - val_accuracy: 0.9374\n",
            "Epoch 11/20\n",
            "1875/1875 [==============================] - 4s 2ms/step - loss: 0.1922 - accuracy: 0.9442 - val_loss: 0.2097 - val_accuracy: 0.9392\n",
            "Epoch 12/20\n",
            "1875/1875 [==============================] - 4s 2ms/step - loss: 0.1976 - accuracy: 0.9430 - val_loss: 0.2120 - val_accuracy: 0.9367\n",
            "Epoch 13/20\n",
            "1875/1875 [==============================] - 4s 2ms/step - loss: 0.1886 - accuracy: 0.9456 - val_loss: 0.2090 - val_accuracy: 0.9393\n",
            "Epoch 14/20\n",
            "1875/1875 [==============================] - 4s 2ms/step - loss: 0.1841 - accuracy: 0.9473 - val_loss: 0.2076 - val_accuracy: 0.9375\n",
            "Epoch 15/20\n",
            "1875/1875 [==============================] - 4s 2ms/step - loss: 0.1847 - accuracy: 0.9464 - val_loss: 0.2051 - val_accuracy: 0.9393\n",
            "Epoch 16/20\n",
            "1875/1875 [==============================] - 4s 2ms/step - loss: 0.1878 - accuracy: 0.9460 - val_loss: 0.2091 - val_accuracy: 0.9388\n",
            "Epoch 17/20\n",
            "1875/1875 [==============================] - 4s 2ms/step - loss: 0.1758 - accuracy: 0.9480 - val_loss: 0.2078 - val_accuracy: 0.9387\n",
            "Epoch 18/20\n",
            "1875/1875 [==============================] - 4s 2ms/step - loss: 0.1809 - accuracy: 0.9457 - val_loss: 0.2111 - val_accuracy: 0.9370\n",
            "Epoch 19/20\n",
            "1875/1875 [==============================] - 4s 2ms/step - loss: 0.1747 - accuracy: 0.9494 - val_loss: 0.2117 - val_accuracy: 0.9403\n",
            "Epoch 20/20\n",
            "1875/1875 [==============================] - 4s 2ms/step - loss: 0.1740 - accuracy: 0.9493 - val_loss: 0.2118 - val_accuracy: 0.9415\n"
          ],
          "name": "stdout"
        },
        {
          "output_type": "display_data",
          "data": {
            "image/png": "[encoded data removed]",
            "text/plain": [
              "<Figure size 432x288 with 1 Axes>"
            ]
          },
          "metadata": {
            "tags": [],
            "needs_background": "light"
          }
        },
        {
          "output_type": "display_data",
          "data": {
            "image/png": "[encoded data removed]",
            "text/plain": [
              "<Figure size 432x288 with 1 Axes>"
            ]
          },
          "metadata": {
            "tags": [],
            "needs_background": "light"
          }
        }
      ]
    },
    {
      "cell_type": "markdown",
      "metadata": {
        "id": "2OgCRyOUfgNW"
      },
      "source": [
        "The data is overfitting because the accuracy is higher in the test than training?"
      ]
    },
    {
      "cell_type": "markdown",
      "metadata": {
        "id": "PLKKSL3LfXBB"
      },
      "source": [
        "##Augment the MNIST dataset with rotated, zoomed, width and height shifts"
      ]
    },
    {
      "cell_type": "code",
      "metadata": {
        "id": "iLAcxRkJGEo8",
        "colab": {
          "base_uri": "https://localhost:8080/"
        },
        "outputId": "5eeddbfd-2860-4d1a-b3be-e10a4764d278"
      },
      "source": [
        "# use the image data generator from keras to augment the data\r\n",
        "from keras.preprocessing.image import ImageDataGenerator\r\n",
        "# setup the generator that will augment the images\r\n",
        "train_gen = ImageDataGenerator(rotation_range=8,   # rotate\r\n",
        "                               width_shift_range=0.08,  # width shiift\r\n",
        "                               shear_range=0.3,   # shear\r\n",
        "                               height_shift_range=0.08, # height shift\r\n",
        "                               zoom_range=0.08 )   # zoom  - All these values were from trial and error \r\n",
        "\r\n",
        "\r\n",
        "import numpy as np\r\n",
        "# Generate aungemnted images for the training data\r\n",
        "x_train = np.reshape(x_train, (60000,28,28,1)) #6000 training images needs to be 3d to work so add our 2d 28,28 and then add a 1 \r\n",
        "training_set = train_gen.flow(x_train, y_train, batch_size=x_train.shape[0])\r\n",
        "\r\n",
        "# Generate aungemnted images for the test data\r\n",
        "x_test = np.reshape(x_test, (10000,28,28,1))\r\n",
        "test_set= train_gen.flow(x_test, y_test, batch_size=x_test.shape[0]) #adding flow function\r\n",
        "#batch size set to the size of our training data - 60000\r\n",
        "\r\n",
        "# extract the augmented images from the output flow of the generator\r\n",
        "# add the augmented images generated from the training data to the original training data\r\n",
        "i = 0\r\n",
        "for x, y in training_set:\r\n",
        "  if i < 2:\r\n",
        "    print(i)\r\n",
        "    x_train = np.concatenate((x_train, x))\r\n",
        "    y_train = np.concatenate((y_train, y))\r\n",
        "    print(x_train.shape)\r\n",
        "    print(y_train.shape)\r\n",
        "  else:\r\n",
        "    break\r\n",
        "  i += 1\r\n",
        "\r\n",
        "# add the augmented images generated from the test data to the original test data\r\n",
        "i = 0\r\n",
        "for x, y in test_set:\r\n",
        "  if i < 2:\r\n",
        "    print(i)\r\n",
        "    x_test_aug = np.concatenate((x_test, x))\r\n",
        "    y_test_aug = np.concatenate((y_test, y))\r\n",
        "    print(x_test.shape)\r\n",
        "    print(y_test.shape)\r\n",
        "  else:\r\n",
        "    break\r\n",
        "  i += 1"
      ],
      "execution_count": null,
      "outputs": [
        {
          "output_type": "stream",
          "text": [
            "0\n",
            "(120000, 28, 28, 1)\n",
            "(120000, 10)\n",
            "1\n",
            "(180000, 28, 28, 1)\n",
            "(180000, 10)\n",
            "0\n",
            "(10000, 28, 28, 1)\n",
            "(10000, 10)\n",
            "1\n",
            "(10000, 28, 28, 1)\n",
            "(10000, 10)\n"
          ],
          "name": "stdout"
        }
      ]
    },
    {
      "cell_type": "markdown",
      "metadata": {
        "id": "wi1sdqrFiOEy"
      },
      "source": [
        "##Create, compile and fit the model with the augmented MNIST data\r\n",
        "(this is the same code as used above to create, compile and fit the model)\r\n",
        "\r\n",
        "Compare this accuracy/loss with the accuracy/loss achieved with the original MNIST dataset above"
      ]
    },
    {
      "cell_type": "code",
      "metadata": {
        "id": "IbDx0kNzg0tq"
      },
      "source": [
        "# same as code above to create, compile and fit the model but now using the new augmented data\r\n",
        "from keras import layers\r\n",
        "from keras import Sequential\r\n",
        "from keras.layers import Dense\r\n",
        "model = keras.Sequential()\r\n",
        "model.add(keras.layers.Flatten(input_shape=(28, 28)))\r\n",
        "model.add(Dense(units=10, activation='relu'))\r\n",
        "model.add(Dense(units=10, activation='softmax'))\r\n",
        "\r\n",
        "model.compile(optimizer = 'adam', loss = 'categorical_crossentropy', metrics = ['accuracy'])\r\n",
        "\r\n",
        "history = model.fit(x_train, y_train, epochs = 20, validation_data = (x_test, y_test))\r\n",
        "\r\n",
        "# plot the history of the training\r\n",
        "import matplotlib.pyplot as plt\r\n",
        "\r\n",
        "# summarize the history for accuracy\r\n",
        "plt.plot(history.history['accuracy'])\r\n",
        "plt.plot(history.history['val_accuracy'])\r\n",
        "plt.title('model accuracy')\r\n",
        "plt.ylabel('accuracy')\r\n",
        "plt.xlabel('epoch')\r\n",
        "plt.legend(['train','test'], loc='upper left')\r\n",
        "plt.show()\r\n",
        "\r\n",
        "# summarize the history for loss\r\n",
        "plt.plot(history.history['loss'])\r\n",
        "plt.plot(history.history['val_loss'])\r\n",
        "plt.title('model loss')\r\n",
        "plt.ylabel('loss')\r\n",
        "plt.xlabel('epoch')\r\n",
        "plt.legend(['train','test'], loc='upper left')\r\n",
        "plt.show()"
      ],
      "execution_count": null,
      "outputs": []
    },
    {
      "cell_type": "markdown",
      "metadata": {
        "id": "tIfN4RUOjWRR"
      },
      "source": [
        "test data is higher than training data as we have added more test data into it. therefore no overfitting "
      ]
    },
    {
      "cell_type": "markdown",
      "metadata": {
        "id": "Zm_xVOZ2_jQ9"
      },
      "source": [
        "The validation accuracy may be roughly the same but it was overfitting before and now the validation accuracy is much better than the training accuracy"
      ]
    },
    {
      "cell_type": "markdown",
      "metadata": {
        "id": "POzu6pzf-O38"
      },
      "source": [
        "## Investigate the Keras `ImageDataGenerator` and see what other augmentation you could apply"
      ]
    }
  ]
}