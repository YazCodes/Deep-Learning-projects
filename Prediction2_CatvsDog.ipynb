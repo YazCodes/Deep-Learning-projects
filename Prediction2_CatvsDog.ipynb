{
  "nbformat": 4,
  "nbformat_minor": 0,
  "metadata": {
    "colab": {
      "name": "Prediction2- CatvsDog.ipynb",
      "provenance": [],
      "mount_file_id": "1ibozGXkbNtQhTIUa_nxyh8fnzRvNodBa",
      "authorship_tag": "ABX9TyNFoJK/qd4rZOaBGyXarO5V",
      "include_colab_link": true
    },
    "kernelspec": {
      "name": "python3",
      "display_name": "Python 3"
    },
    "language_info": {
      "name": "python"
    }
  },
  "cells": [
    {
      "cell_type": "markdown",
      "metadata": {
        "id": "view-in-github",
        "colab_type": "text"
      },
      "source": [
        "<a href=\"https://colab.research.google.com/github/YazCodes/Deep-Learning-projects/blob/main/Prediction2_CatvsDog.ipynb\" target=\"_parent\"><img src=\"https://colab.research.google.com/assets/colab-badge.svg\" alt=\"Open In Colab\"/></a>"
      ]
    },
    {
      "cell_type": "markdown",
      "metadata": {
        "id": "3Y9ahsiP-HlL"
      },
      "source": [
        "# Classification of Images of dogs and cats using a CNN"
      ]
    },
    {
      "cell_type": "code",
      "metadata": {
        "id": "VzydZoCc8IXh"
      },
      "source": [
        "# load the libraries\n",
        "import os\n",
        "import zipfile\n",
        "import matplotlib.pyplot as plt\n",
        "import matplotlib.image as mpimg\n",
        "import tensorflow as tf\n",
        "from tensorflow.keras.preprocessing.image import ImageDataGenerator\n",
        "import numpy as np\n",
        "from google.colab import files\n",
        "from tensorflow.keras.preprocessing import image\n",
        "import random\n",
        "from tensorflow.keras.preprocessing.image import img_to_array, load_img\n",
        "from tensorflow import keras"
      ],
      "execution_count": 1,
      "outputs": []
    },
    {
      "cell_type": "code",
      "metadata": {
        "id": "w0hTIbK6-Nas"
      },
      "source": [
        "base_dir = '/content/drive/MyDrive/dogs-vs-cats-vvsmall'\n",
        "train_dir = os.path.join(base_dir, 'train')\n",
        "validation_dir = os.path.join(base_dir, 'validation')\n",
        "\n",
        "#directory with out training cat pictutes\n",
        "train_cats_dir = os.path.join(train_dir, 'cats')\n",
        "\n",
        "#directory with out training dog pictutes\n",
        "train_cats_dir = os.path.join(train_dir, 'dogs')\n",
        "\n",
        "#directory with out validation cat pictutes\n",
        "train_cats_dir = os.path.join(validation_dir, 'cats')\n",
        "\n",
        "#directory with out validation dog pictutes\n",
        "train_cats_dir = os.path.join(validation_dir, 'dogs')\n"
      ],
      "execution_count": 3,
      "outputs": []
    }
  ]
}