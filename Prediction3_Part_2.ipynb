{
  "nbformat": 4,
  "nbformat_minor": 0,
  "metadata": {
    "colab": {
      "name": "Prediction3 Part 2.ipynb",
      "provenance": [],
      "authorship_tag": "ABX9TyOiok72+achZmuREek/17ql",
      "include_colab_link": true
    },
    "kernelspec": {
      "name": "python3",
      "display_name": "Python 3"
    },
    "language_info": {
      "name": "python"
    }
  },
  "cells": [
    {
      "cell_type": "markdown",
      "metadata": {
        "id": "view-in-github",
        "colab_type": "text"
      },
      "source": [
        "<a href=\"https://colab.research.google.com/github/YazCodes/Deep-Learning-projects/blob/main/Prediction3_Part_2.ipynb\" target=\"_parent\"><img src=\"https://colab.research.google.com/assets/colab-badge.svg\" alt=\"Open In Colab\"/></a>"
      ]
    },
    {
      "cell_type": "markdown",
      "metadata": {
        "id": "_CUKWUcft3Hg"
      },
      "source": [
        "DQN for cartpole"
      ]
    },
    {
      "cell_type": "code",
      "metadata": {
        "colab": {
          "base_uri": "https://localhost:8080/"
        },
        "id": "aQNVaN0XtuNB",
        "outputId": "df4fbf4c-3070-49f3-a45c-1becdafe397a"
      },
      "source": [
        "# install keras rl2 (we need to install keras-rl2 so it works with the tensorflow 2 version that comes pre-installed with colab)\n",
        "!pip install keras-rl2"
      ],
      "execution_count": 1,
      "outputs": [
        {
          "output_type": "stream",
          "text": [
            "Collecting keras-rl2\n",
            "\u001b[?25l  Downloading https://files.pythonhosted.org/packages/dd/34/94ffeab44eef43e22a01d82aa0ca062a97392c2c2415ba8b210e72053285/keras_rl2-1.0.4-py3-none-any.whl (53kB)\n",
            "\r\u001b[K     |██████▏                         | 10kB 12.8MB/s eta 0:00:01\r\u001b[K     |████████████▎                   | 20kB 8.7MB/s eta 0:00:01\r\u001b[K     |██████████████████▌             | 30kB 8.5MB/s eta 0:00:01\r\u001b[K     |████████████████████████▋       | 40kB 6.7MB/s eta 0:00:01\r\u001b[K     |██████████████████████████████▉ | 51kB 4.5MB/s eta 0:00:01\r\u001b[K     |████████████████████████████████| 61kB 3.1MB/s \n",
            "\u001b[?25hRequirement already satisfied: tensorflow>=2.1.0 in /usr/local/lib/python3.7/dist-packages (from keras-rl2) (2.4.1)\n",
            "Requirement already satisfied: grpcio~=1.32.0 in /usr/local/lib/python3.7/dist-packages (from tensorflow>=2.1.0->keras-rl2) (1.32.0)\n",
            "Requirement already satisfied: keras-preprocessing~=1.1.2 in /usr/local/lib/python3.7/dist-packages (from tensorflow>=2.1.0->keras-rl2) (1.1.2)\n",
            "Requirement already satisfied: six~=1.15.0 in /usr/local/lib/python3.7/dist-packages (from tensorflow>=2.1.0->keras-rl2) (1.15.0)\n",
            "Requirement already satisfied: gast==0.3.3 in /usr/local/lib/python3.7/dist-packages (from tensorflow>=2.1.0->keras-rl2) (0.3.3)\n",
            "Requirement already satisfied: tensorflow-estimator<2.5.0,>=2.4.0 in /usr/local/lib/python3.7/dist-packages (from tensorflow>=2.1.0->keras-rl2) (2.4.0)\n",
            "Requirement already satisfied: astunparse~=1.6.3 in /usr/local/lib/python3.7/dist-packages (from tensorflow>=2.1.0->keras-rl2) (1.6.3)\n",
            "Requirement already satisfied: opt-einsum~=3.3.0 in /usr/local/lib/python3.7/dist-packages (from tensorflow>=2.1.0->keras-rl2) (3.3.0)\n",
            "Requirement already satisfied: google-pasta~=0.2 in /usr/local/lib/python3.7/dist-packages (from tensorflow>=2.1.0->keras-rl2) (0.2.0)\n",
            "Requirement already satisfied: protobuf>=3.9.2 in /usr/local/lib/python3.7/dist-packages (from tensorflow>=2.1.0->keras-rl2) (3.12.4)\n",
            "Requirement already satisfied: h5py~=2.10.0 in /usr/local/lib/python3.7/dist-packages (from tensorflow>=2.1.0->keras-rl2) (2.10.0)\n",
            "Requirement already satisfied: absl-py~=0.10 in /usr/local/lib/python3.7/dist-packages (from tensorflow>=2.1.0->keras-rl2) (0.10.0)\n",
            "Requirement already satisfied: flatbuffers~=1.12.0 in /usr/local/lib/python3.7/dist-packages (from tensorflow>=2.1.0->keras-rl2) (1.12)\n",
            "Requirement already satisfied: wheel~=0.35 in /usr/local/lib/python3.7/dist-packages (from tensorflow>=2.1.0->keras-rl2) (0.36.2)\n",
            "Requirement already satisfied: wrapt~=1.12.1 in /usr/local/lib/python3.7/dist-packages (from tensorflow>=2.1.0->keras-rl2) (1.12.1)\n",
            "Requirement already satisfied: tensorboard~=2.4 in /usr/local/lib/python3.7/dist-packages (from tensorflow>=2.1.0->keras-rl2) (2.4.1)\n",
            "Requirement already satisfied: numpy~=1.19.2 in /usr/local/lib/python3.7/dist-packages (from tensorflow>=2.1.0->keras-rl2) (1.19.5)\n",
            "Requirement already satisfied: typing-extensions~=3.7.4 in /usr/local/lib/python3.7/dist-packages (from tensorflow>=2.1.0->keras-rl2) (3.7.4.3)\n",
            "Requirement already satisfied: termcolor~=1.1.0 in /usr/local/lib/python3.7/dist-packages (from tensorflow>=2.1.0->keras-rl2) (1.1.0)\n",
            "Requirement already satisfied: setuptools in /usr/local/lib/python3.7/dist-packages (from protobuf>=3.9.2->tensorflow>=2.1.0->keras-rl2) (54.1.2)\n",
            "Requirement already satisfied: markdown>=2.6.8 in /usr/local/lib/python3.7/dist-packages (from tensorboard~=2.4->tensorflow>=2.1.0->keras-rl2) (3.3.4)\n",
            "Requirement already satisfied: google-auth-oauthlib<0.5,>=0.4.1 in /usr/local/lib/python3.7/dist-packages (from tensorboard~=2.4->tensorflow>=2.1.0->keras-rl2) (0.4.3)\n",
            "Requirement already satisfied: tensorboard-plugin-wit>=1.6.0 in /usr/local/lib/python3.7/dist-packages (from tensorboard~=2.4->tensorflow>=2.1.0->keras-rl2) (1.8.0)\n",
            "Requirement already satisfied: requests<3,>=2.21.0 in /usr/local/lib/python3.7/dist-packages (from tensorboard~=2.4->tensorflow>=2.1.0->keras-rl2) (2.23.0)\n",
            "Requirement already satisfied: google-auth<2,>=1.6.3 in /usr/local/lib/python3.7/dist-packages (from tensorboard~=2.4->tensorflow>=2.1.0->keras-rl2) (1.27.1)\n",
            "Requirement already satisfied: werkzeug>=0.11.15 in /usr/local/lib/python3.7/dist-packages (from tensorboard~=2.4->tensorflow>=2.1.0->keras-rl2) (1.0.1)\n",
            "Requirement already satisfied: importlib-metadata; python_version < \"3.8\" in /usr/local/lib/python3.7/dist-packages (from markdown>=2.6.8->tensorboard~=2.4->tensorflow>=2.1.0->keras-rl2) (3.7.2)\n",
            "Requirement already satisfied: requests-oauthlib>=0.7.0 in /usr/local/lib/python3.7/dist-packages (from google-auth-oauthlib<0.5,>=0.4.1->tensorboard~=2.4->tensorflow>=2.1.0->keras-rl2) (1.3.0)\n",
            "Requirement already satisfied: urllib3!=1.25.0,!=1.25.1,<1.26,>=1.21.1 in /usr/local/lib/python3.7/dist-packages (from requests<3,>=2.21.0->tensorboard~=2.4->tensorflow>=2.1.0->keras-rl2) (1.24.3)\n",
            "Requirement already satisfied: idna<3,>=2.5 in /usr/local/lib/python3.7/dist-packages (from requests<3,>=2.21.0->tensorboard~=2.4->tensorflow>=2.1.0->keras-rl2) (2.10)\n",
            "Requirement already satisfied: chardet<4,>=3.0.2 in /usr/local/lib/python3.7/dist-packages (from requests<3,>=2.21.0->tensorboard~=2.4->tensorflow>=2.1.0->keras-rl2) (3.0.4)\n",
            "Requirement already satisfied: certifi>=2017.4.17 in /usr/local/lib/python3.7/dist-packages (from requests<3,>=2.21.0->tensorboard~=2.4->tensorflow>=2.1.0->keras-rl2) (2020.12.5)\n",
            "Requirement already satisfied: rsa<5,>=3.1.4; python_version >= \"3.6\" in /usr/local/lib/python3.7/dist-packages (from google-auth<2,>=1.6.3->tensorboard~=2.4->tensorflow>=2.1.0->keras-rl2) (4.7.2)\n",
            "Requirement already satisfied: pyasn1-modules>=0.2.1 in /usr/local/lib/python3.7/dist-packages (from google-auth<2,>=1.6.3->tensorboard~=2.4->tensorflow>=2.1.0->keras-rl2) (0.2.8)\n",
            "Requirement already satisfied: cachetools<5.0,>=2.0.0 in /usr/local/lib/python3.7/dist-packages (from google-auth<2,>=1.6.3->tensorboard~=2.4->tensorflow>=2.1.0->keras-rl2) (4.2.1)\n",
            "Requirement already satisfied: zipp>=0.5 in /usr/local/lib/python3.7/dist-packages (from importlib-metadata; python_version < \"3.8\"->markdown>=2.6.8->tensorboard~=2.4->tensorflow>=2.1.0->keras-rl2) (3.4.1)\n",
            "Requirement already satisfied: oauthlib>=3.0.0 in /usr/local/lib/python3.7/dist-packages (from requests-oauthlib>=0.7.0->google-auth-oauthlib<0.5,>=0.4.1->tensorboard~=2.4->tensorflow>=2.1.0->keras-rl2) (3.1.0)\n",
            "Requirement already satisfied: pyasn1>=0.1.3 in /usr/local/lib/python3.7/dist-packages (from rsa<5,>=3.1.4; python_version >= \"3.6\"->google-auth<2,>=1.6.3->tensorboard~=2.4->tensorflow>=2.1.0->keras-rl2) (0.4.8)\n",
            "Installing collected packages: keras-rl2\n",
            "Successfully installed keras-rl2-1.0.4\n"
          ],
          "name": "stdout"
        }
      ]
    },
    {
      "cell_type": "code",
      "metadata": {
        "colab": {
          "base_uri": "https://localhost:8080/"
        },
        "id": "zr6MBOzWuFJY",
        "outputId": "196e1d33-faf3-415d-9abe-54ca63056308"
      },
      "source": [
        "!pip install gym"
      ],
      "execution_count": 2,
      "outputs": [
        {
          "output_type": "stream",
          "text": [
            "Requirement already satisfied: gym in /usr/local/lib/python3.7/dist-packages (0.17.3)\n",
            "Requirement already satisfied: scipy in /usr/local/lib/python3.7/dist-packages (from gym) (1.4.1)\n",
            "Requirement already satisfied: cloudpickle<1.7.0,>=1.2.0 in /usr/local/lib/python3.7/dist-packages (from gym) (1.3.0)\n",
            "Requirement already satisfied: pyglet<=1.5.0,>=1.4.0 in /usr/local/lib/python3.7/dist-packages (from gym) (1.5.0)\n",
            "Requirement already satisfied: numpy>=1.10.4 in /usr/local/lib/python3.7/dist-packages (from gym) (1.19.5)\n",
            "Requirement already satisfied: future in /usr/local/lib/python3.7/dist-packages (from pyglet<=1.5.0,>=1.4.0->gym) (0.16.0)\n"
          ],
          "name": "stdout"
        }
      ]
    },
    {
      "cell_type": "code",
      "metadata": {
        "id": "VCP8mBGnuJ1E"
      },
      "source": [
        "# load the gym module\n",
        "import gym\n",
        "import matplotlib.pyplot as plt\n",
        "# import the usual Keras modules for creating deep neural networks\n",
        "from keras import Sequential\n",
        "from keras.layers import Input, Flatten, Dense\n",
        "from keras.optimizers import Adam\n",
        "\n",
        "ENV_NAME = 'CartPole-v0'\n",
        "env = gym.make(ENV_NAME)"
      ],
      "execution_count": 3,
      "outputs": []
    },
    {
      "cell_type": "code",
      "metadata": {
        "colab": {
          "base_uri": "https://localhost:8080/"
        },
        "id": "mhQ1EbZLwhWD",
        "outputId": "36b2cf90-80ea-4cda-8073-d688fcc5cac6"
      },
      "source": [
        "print(env.observation_space.shape) #gives us a tupel. 0 is the first element of the tupel"
      ],
      "execution_count": null,
      "outputs": [
        {
          "output_type": "stream",
          "text": [
            "(4,)\n"
          ],
          "name": "stdout"
        }
      ]
    },
    {
      "cell_type": "code",
      "metadata": {
        "colab": {
          "base_uri": "https://localhost:8080/"
        },
        "id": "eUIQR1wtxnwL",
        "outputId": "2a7a65d4-44cf-4a08-faa8-beeaefa45504"
      },
      "source": [
        "#number of actions \n",
        "print(env.action_space.n)"
      ],
      "execution_count": null,
      "outputs": [
        {
          "output_type": "stream",
          "text": [
            "2\n"
          ],
          "name": "stdout"
        }
      ]
    },
    {
      "cell_type": "code",
      "metadata": {
        "colab": {
          "base_uri": "https://localhost:8080/",
          "height": 1000
        },
        "id": "dEJwofrluTC2",
        "outputId": "32e8831f-e6c9-44d2-fa25-13031a638eeb"
      },
      "source": [
        "import rl\n",
        "from rl.memory import SequentialMemory  # import the exerience replay buffer module\n",
        "from rl.policy import BoltzmannQPolicy, LinearAnnealedPolicy, EpsGreedyQPolicy  # import the policy\n",
        "from rl.agents.dqn import DQNAgent      # import the DQN agent\n",
        "\n",
        "memory = SequentialMemory(limit=10000, window_length=1) #setting up the experince replay buffer\n",
        "#limit = the numer of steps of episodes stored in the replay buffer\n",
        "\n",
        "# define the policy (how we select the actions)\n",
        "# setup the Linear annealed policy with the EpsGreedyQPolicy as the inner policy\n",
        "policy =  LinearAnnealedPolicy(inner_policy=EpsGreedyQPolicy(),   # policy used to select actions\n",
        "                               attr='eps',                        # attribute in the inner policy to vary             \n",
        "                               value_max=1.,                       # maximum value of attribute that is varying\n",
        "                               value_min=.1,                      # minimum value of attribute that is varying\n",
        "                               value_test=.09,  #0.9??                  # test if the value selected is < 0.05\n",
        "                               nb_steps=8000)                    # the number of steps between value_max and value_min\n",
        "\n",
        "#need to change the value_max and value_min. \n",
        "# Q-Network\n",
        "model = Sequential() #sequnetial model \n",
        "model.add(Input(shape=(1,env.observation_space.shape[0]))) # 1 = one observation and env.observation_space.shape is the number of states within our observation. 0 = the first element of the tupel\n",
        "model.add(Flatten())\n",
        "# extra layers here\n",
        "model.add(Dense(16, activation='relu')) #layer 1\n",
        "model.add(Dense(32, activation='relu')) #layer 2\n",
        "#model.add(Dense(64, activation='relu')) #layer 2\n",
        "\n",
        "model.add(Dense(env.action_space.n, activation='linear'))   # the output is the number of actions in the action space. Activation has to be linear due to how the q value does its calculation\n",
        "print(model.summary())\n",
        "\n",
        "# define the agent using the DQNAgent class\n",
        "dqn = DQNAgent(model=model,                     # Q-Network model created above ^\n",
        "               nb_actions=env.action_space.n,   # number of actions used above - the data from the enviroment\n",
        "               memory=memory,                   # experience replay memory\n",
        "               nb_steps_warmup=10,              # how many steps are waited before starting experience replay\n",
        "               target_model_update=1e-2,        # how often the target network is updated\n",
        "               policy=policy)                   # the action selection policy\n",
        "\n",
        "dqn.compile(Adam(lr=1e-3), metrics=['mae'])\n",
        "\n",
        "history = dqn.fit(env, nb_steps=8000, visualize=False, verbose=2) #visualize false to save time\n",
        "\n",
        "\n",
        "# summarize the history for number  of episode steps\n",
        "plt.plot(history.history['nb_episode_steps'])\n",
        "plt.ylabel('nb_episode_steps')\n",
        "plt.xlabel('episodes')\n",
        "plt.show()\n",
        "dqn.test(env, nb_episodes=20, visualize=False) #testing for 20 episodes, reward should all be 200- evaluating my algortithm \n",
        "\n"
      ],
      "execution_count": 13,
      "outputs": [
        {
          "output_type": "stream",
          "text": [
            "Model: \"sequential_9\"\n",
            "_________________________________________________________________\n",
            "Layer (type)                 Output Shape              Param #   \n",
            "=================================================================\n",
            "flatten_9 (Flatten)          (None, 4)                 0         \n",
            "_________________________________________________________________\n",
            "dense_29 (Dense)             (None, 16)                80        \n",
            "_________________________________________________________________\n",
            "dense_30 (Dense)             (None, 32)                544       \n",
            "_________________________________________________________________\n",
            "dense_31 (Dense)             (None, 2)                 66        \n",
            "=================================================================\n",
            "Total params: 690\n",
            "Trainable params: 690\n",
            "Non-trainable params: 0\n",
            "_________________________________________________________________\n",
            "None\n",
            "Training for 8000 steps ...\n"
          ],
          "name": "stdout"
        },
        {
          "output_type": "stream",
          "text": [
            "/usr/local/lib/python3.7/dist-packages/tensorflow/python/keras/engine/training.py:2325: UserWarning: `Model.state_updates` will be removed in a future version. This property should not be used in TensorFlow 2.0, as `updates` are applied automatically.\n",
            "  warnings.warn('`Model.state_updates` will be removed in a future version. '\n",
            "/usr/local/lib/python3.7/dist-packages/rl/memory.py:40: UserWarning: Not enough entries to sample without replacement. Consider increasing your warm-up phase to avoid oversampling!\n",
            "  warnings.warn('Not enough entries to sample without replacement. Consider increasing your warm-up phase to avoid oversampling!')\n"
          ],
          "name": "stderr"
        },
        {
          "output_type": "stream",
          "text": [
            "   11/8000: episode: 1, duration: 3.102s, episode steps:  11, steps per second:   4, episode reward: 11.000, mean reward:  1.000 [ 1.000,  1.000], mean action: 0.182 [0.000, 1.000],  loss: --, mae: --, mean_q: --, mean_eps: --\n",
            "   31/8000: episode: 2, duration: 0.173s, episode steps:  20, steps per second: 115, episode reward: 20.000, mean reward:  1.000 [ 1.000,  1.000], mean action: 0.700 [0.000, 1.000],  loss: 0.434517, mae: 0.571529, mean_q: 0.483668, mean_eps: 0.997694\n"
          ],
          "name": "stdout"
        },
        {
          "output_type": "stream",
          "text": [
            "/usr/local/lib/python3.7/dist-packages/rl/memory.py:40: UserWarning: Not enough entries to sample without replacement. Consider increasing your warm-up phase to avoid oversampling!\n",
            "  warnings.warn('Not enough entries to sample without replacement. Consider increasing your warm-up phase to avoid oversampling!')\n"
          ],
          "name": "stderr"
        },
        {
          "output_type": "stream",
          "text": [
            "   42/8000: episode: 3, duration: 0.116s, episode steps:  11, steps per second:  95, episode reward: 11.000, mean reward:  1.000 [ 1.000,  1.000], mean action: 0.636 [0.000, 1.000],  loss: 0.337874, mae: 0.580384, mean_q: 0.527409, mean_eps: 0.995950\n",
            "   73/8000: episode: 4, duration: 0.303s, episode steps:  31, steps per second: 102, episode reward: 31.000, mean reward:  1.000 [ 1.000,  1.000], mean action: 0.516 [0.000, 1.000],  loss: 0.222962, mae: 0.597442, mean_q: 0.639426, mean_eps: 0.993588\n",
            "   88/8000: episode: 5, duration: 0.164s, episode steps:  15, steps per second:  91, episode reward: 15.000, mean reward:  1.000 [ 1.000,  1.000], mean action: 0.600 [0.000, 1.000],  loss: 0.136964, mae: 0.629038, mean_q: 0.856374, mean_eps: 0.991000\n",
            "  104/8000: episode: 6, duration: 0.166s, episode steps:  16, steps per second:  96, episode reward: 16.000, mean reward:  1.000 [ 1.000,  1.000], mean action: 0.562 [0.000, 1.000],  loss: 0.075219, mae: 0.667891, mean_q: 1.052083, mean_eps: 0.989256\n",
            "  143/8000: episode: 7, duration: 0.373s, episode steps:  39, steps per second: 105, episode reward: 39.000, mean reward:  1.000 [ 1.000,  1.000], mean action: 0.436 [0.000, 1.000],  loss: 0.056542, mae: 0.775465, mean_q: 1.352922, mean_eps: 0.986163\n",
            "  155/8000: episode: 8, duration: 0.121s, episode steps:  12, steps per second:  99, episode reward: 12.000, mean reward:  1.000 [ 1.000,  1.000], mean action: 0.833 [0.000, 1.000],  loss: 0.051379, mae: 0.887117, mean_q: 1.627143, mean_eps: 0.983294\n",
            "  176/8000: episode: 9, duration: 0.207s, episode steps:  21, steps per second: 102, episode reward: 21.000, mean reward:  1.000 [ 1.000,  1.000], mean action: 0.571 [0.000, 1.000],  loss: 0.067997, mae: 0.929842, mean_q: 1.707639, mean_eps: 0.981438\n",
            "  225/8000: episode: 10, duration: 0.471s, episode steps:  49, steps per second: 104, episode reward: 49.000, mean reward:  1.000 [ 1.000,  1.000], mean action: 0.347 [0.000, 1.000],  loss: 0.058837, mae: 1.035407, mean_q: 1.921327, mean_eps: 0.977500\n",
            "  271/8000: episode: 11, duration: 0.428s, episode steps:  46, steps per second: 108, episode reward: 46.000, mean reward:  1.000 [ 1.000,  1.000], mean action: 0.413 [0.000, 1.000],  loss: 0.079547, mae: 1.245568, mean_q: 2.331990, mean_eps: 0.972156\n",
            "  283/8000: episode: 12, duration: 0.125s, episode steps:  12, steps per second:  96, episode reward: 12.000, mean reward:  1.000 [ 1.000,  1.000], mean action: 0.667 [0.000, 1.000],  loss: 0.124226, mae: 1.378831, mean_q: 2.641056, mean_eps: 0.968894\n",
            "  298/8000: episode: 13, duration: 0.147s, episode steps:  15, steps per second: 102, episode reward: 15.000, mean reward:  1.000 [ 1.000,  1.000], mean action: 0.333 [0.000, 1.000],  loss: 0.106427, mae: 1.426056, mean_q: 2.701057, mean_eps: 0.967375\n",
            "  324/8000: episode: 14, duration: 0.258s, episode steps:  26, steps per second: 101, episode reward: 26.000, mean reward:  1.000 [ 1.000,  1.000], mean action: 0.423 [0.000, 1.000],  loss: 0.121811, mae: 1.507862, mean_q: 2.878811, mean_eps: 0.965069\n",
            "  338/8000: episode: 15, duration: 0.142s, episode steps:  14, steps per second:  99, episode reward: 14.000, mean reward:  1.000 [ 1.000,  1.000], mean action: 0.357 [0.000, 1.000],  loss: 0.127218, mae: 1.609092, mean_q: 3.078541, mean_eps: 0.962819\n",
            "  349/8000: episode: 16, duration: 0.118s, episode steps:  11, steps per second:  94, episode reward: 11.000, mean reward:  1.000 [ 1.000,  1.000], mean action: 0.364 [0.000, 1.000],  loss: 0.136971, mae: 1.654668, mean_q: 3.160456, mean_eps: 0.961413\n",
            "  386/8000: episode: 17, duration: 0.365s, episode steps:  37, steps per second: 101, episode reward: 37.000, mean reward:  1.000 [ 1.000,  1.000], mean action: 0.486 [0.000, 1.000],  loss: 0.153135, mae: 1.752903, mean_q: 3.364265, mean_eps: 0.958713\n",
            "  399/8000: episode: 18, duration: 0.136s, episode steps:  13, steps per second:  95, episode reward: 13.000, mean reward:  1.000 [ 1.000,  1.000], mean action: 0.615 [0.000, 1.000],  loss: 0.171180, mae: 1.848565, mean_q: 3.583211, mean_eps: 0.955900\n",
            "  421/8000: episode: 19, duration: 0.222s, episode steps:  22, steps per second:  99, episode reward: 22.000, mean reward:  1.000 [ 1.000,  1.000], mean action: 0.409 [0.000, 1.000],  loss: 0.156665, mae: 1.913302, mean_q: 3.667189, mean_eps: 0.953931\n",
            "  447/8000: episode: 20, duration: 0.255s, episode steps:  26, steps per second: 102, episode reward: 26.000, mean reward:  1.000 [ 1.000,  1.000], mean action: 0.462 [0.000, 1.000],  loss: 0.132047, mae: 1.995521, mean_q: 3.877535, mean_eps: 0.951231\n",
            "  463/8000: episode: 21, duration: 0.160s, episode steps:  16, steps per second: 100, episode reward: 16.000, mean reward:  1.000 [ 1.000,  1.000], mean action: 0.250 [0.000, 1.000],  loss: 0.265410, mae: 2.112881, mean_q: 3.956053, mean_eps: 0.948869\n",
            "  530/8000: episode: 22, duration: 0.654s, episode steps:  67, steps per second: 102, episode reward: 67.000, mean reward:  1.000 [ 1.000,  1.000], mean action: 0.552 [0.000, 1.000],  loss: 0.205064, mae: 2.272186, mean_q: 4.376528, mean_eps: 0.944200\n",
            "  544/8000: episode: 23, duration: 0.145s, episode steps:  14, steps per second:  97, episode reward: 14.000, mean reward:  1.000 [ 1.000,  1.000], mean action: 0.286 [0.000, 1.000],  loss: 0.299340, mae: 2.490337, mean_q: 4.739111, mean_eps: 0.939644\n",
            "  566/8000: episode: 24, duration: 0.220s, episode steps:  22, steps per second: 100, episode reward: 22.000, mean reward:  1.000 [ 1.000,  1.000], mean action: 0.500 [0.000, 1.000],  loss: 0.214144, mae: 2.522913, mean_q: 4.898521, mean_eps: 0.937619\n",
            "  582/8000: episode: 25, duration: 0.166s, episode steps:  16, steps per second:  97, episode reward: 16.000, mean reward:  1.000 [ 1.000,  1.000], mean action: 0.562 [0.000, 1.000],  loss: 0.174837, mae: 2.594592, mean_q: 5.000606, mean_eps: 0.935481\n",
            "  605/8000: episode: 26, duration: 0.232s, episode steps:  23, steps per second:  99, episode reward: 23.000, mean reward:  1.000 [ 1.000,  1.000], mean action: 0.522 [0.000, 1.000],  loss: 0.201608, mae: 2.695535, mean_q: 5.275339, mean_eps: 0.933288\n",
            "  620/8000: episode: 27, duration: 0.151s, episode steps:  15, steps per second:  99, episode reward: 15.000, mean reward:  1.000 [ 1.000,  1.000], mean action: 0.533 [0.000, 1.000],  loss: 0.264629, mae: 2.751377, mean_q: 5.389604, mean_eps: 0.931150\n",
            "  637/8000: episode: 28, duration: 0.176s, episode steps:  17, steps per second:  97, episode reward: 17.000, mean reward:  1.000 [ 1.000,  1.000], mean action: 0.412 [0.000, 1.000],  loss: 0.304116, mae: 2.852246, mean_q: 5.526157, mean_eps: 0.929350\n",
            "  665/8000: episode: 29, duration: 0.291s, episode steps:  28, steps per second:  96, episode reward: 28.000, mean reward:  1.000 [ 1.000,  1.000], mean action: 0.536 [0.000, 1.000],  loss: 0.366279, mae: 2.952641, mean_q: 5.614620, mean_eps: 0.926819\n",
            "  688/8000: episode: 30, duration: 0.222s, episode steps:  23, steps per second: 103, episode reward: 23.000, mean reward:  1.000 [ 1.000,  1.000], mean action: 0.652 [0.000, 1.000],  loss: 0.483496, mae: 3.041933, mean_q: 5.810038, mean_eps: 0.923950\n",
            "  701/8000: episode: 31, duration: 0.119s, episode steps:  13, steps per second: 109, episode reward: 13.000, mean reward:  1.000 [ 1.000,  1.000], mean action: 0.692 [0.000, 1.000],  loss: 0.386623, mae: 3.131792, mean_q: 6.079571, mean_eps: 0.921925\n",
            "  717/8000: episode: 32, duration: 0.150s, episode steps:  16, steps per second: 106, episode reward: 16.000, mean reward:  1.000 [ 1.000,  1.000], mean action: 0.562 [0.000, 1.000],  loss: 0.448276, mae: 3.156876, mean_q: 5.955587, mean_eps: 0.920294\n",
            "  730/8000: episode: 33, duration: 0.117s, episode steps:  13, steps per second: 111, episode reward: 13.000, mean reward:  1.000 [ 1.000,  1.000], mean action: 0.231 [0.000, 1.000],  loss: 0.452129, mae: 3.269853, mean_q: 6.268003, mean_eps: 0.918663\n",
            "  740/8000: episode: 34, duration: 0.100s, episode steps:  10, steps per second: 100, episode reward: 10.000, mean reward:  1.000 [ 1.000,  1.000], mean action: 0.800 [0.000, 1.000],  loss: 0.333604, mae: 3.273775, mean_q: 6.386884, mean_eps: 0.917369\n",
            "  762/8000: episode: 35, duration: 0.209s, episode steps:  22, steps per second: 105, episode reward: 22.000, mean reward:  1.000 [ 1.000,  1.000], mean action: 0.636 [0.000, 1.000],  loss: 0.557077, mae: 3.354314, mean_q: 6.409392, mean_eps: 0.915569\n",
            "  801/8000: episode: 36, duration: 0.408s, episode steps:  39, steps per second:  96, episode reward: 39.000, mean reward:  1.000 [ 1.000,  1.000], mean action: 0.564 [0.000, 1.000],  loss: 0.443933, mae: 3.489158, mean_q: 6.716453, mean_eps: 0.912137\n",
            "  828/8000: episode: 37, duration: 0.276s, episode steps:  27, steps per second:  98, episode reward: 27.000, mean reward:  1.000 [ 1.000,  1.000], mean action: 0.556 [0.000, 1.000],  loss: 0.408686, mae: 3.602457, mean_q: 6.996679, mean_eps: 0.908425\n",
            "  853/8000: episode: 38, duration: 0.264s, episode steps:  25, steps per second:  95, episode reward: 25.000, mean reward:  1.000 [ 1.000,  1.000], mean action: 0.480 [0.000, 1.000],  loss: 0.582963, mae: 3.712148, mean_q: 7.097726, mean_eps: 0.905500\n",
            "  876/8000: episode: 39, duration: 0.282s, episode steps:  23, steps per second:  82, episode reward: 23.000, mean reward:  1.000 [ 1.000,  1.000], mean action: 0.522 [0.000, 1.000],  loss: 0.422092, mae: 3.818677, mean_q: 7.430469, mean_eps: 0.902800\n",
            "  905/8000: episode: 40, duration: 0.302s, episode steps:  29, steps per second:  96, episode reward: 29.000, mean reward:  1.000 [ 1.000,  1.000], mean action: 0.517 [0.000, 1.000],  loss: 0.548613, mae: 3.935629, mean_q: 7.606305, mean_eps: 0.899875\n",
            "  930/8000: episode: 41, duration: 0.264s, episode steps:  25, steps per second:  95, episode reward: 25.000, mean reward:  1.000 [ 1.000,  1.000], mean action: 0.440 [0.000, 1.000],  loss: 0.474811, mae: 4.058877, mean_q: 7.864360, mean_eps: 0.896838\n",
            "  973/8000: episode: 42, duration: 0.429s, episode steps:  43, steps per second: 100, episode reward: 43.000, mean reward:  1.000 [ 1.000,  1.000], mean action: 0.512 [0.000, 1.000],  loss: 0.556423, mae: 4.173997, mean_q: 8.043162, mean_eps: 0.893012\n",
            " 1029/8000: episode: 43, duration: 0.564s, episode steps:  56, steps per second:  99, episode reward: 56.000, mean reward:  1.000 [ 1.000,  1.000], mean action: 0.536 [0.000, 1.000],  loss: 0.665024, mae: 4.377263, mean_q: 8.415149, mean_eps: 0.887444\n",
            " 1046/8000: episode: 44, duration: 0.198s, episode steps:  17, steps per second:  86, episode reward: 17.000, mean reward:  1.000 [ 1.000,  1.000], mean action: 0.706 [0.000, 1.000],  loss: 0.599956, mae: 4.510221, mean_q: 8.716076, mean_eps: 0.883337\n",
            " 1099/8000: episode: 45, duration: 0.480s, episode steps:  53, steps per second: 111, episode reward: 53.000, mean reward:  1.000 [ 1.000,  1.000], mean action: 0.509 [0.000, 1.000],  loss: 0.577540, mae: 4.665388, mean_q: 9.087457, mean_eps: 0.879400\n",
            " 1146/8000: episode: 46, duration: 0.403s, episode steps:  47, steps per second: 116, episode reward: 47.000, mean reward:  1.000 [ 1.000,  1.000], mean action: 0.511 [0.000, 1.000],  loss: 0.558276, mae: 4.882493, mean_q: 9.587169, mean_eps: 0.873775\n",
            " 1175/8000: episode: 47, duration: 0.269s, episode steps:  29, steps per second: 108, episode reward: 29.000, mean reward:  1.000 [ 1.000,  1.000], mean action: 0.483 [0.000, 1.000],  loss: 0.702082, mae: 5.044002, mean_q: 9.834958, mean_eps: 0.869500\n",
            " 1232/8000: episode: 48, duration: 0.544s, episode steps:  57, steps per second: 105, episode reward: 57.000, mean reward:  1.000 [ 1.000,  1.000], mean action: 0.439 [0.000, 1.000],  loss: 0.745090, mae: 5.202752, mean_q: 10.142703, mean_eps: 0.864663\n",
            " 1287/8000: episode: 49, duration: 0.557s, episode steps:  55, steps per second:  99, episode reward: 55.000, mean reward:  1.000 [ 1.000,  1.000], mean action: 0.491 [0.000, 1.000],  loss: 0.720379, mae: 5.442566, mean_q: 10.644803, mean_eps: 0.858363\n",
            " 1298/8000: episode: 50, duration: 0.117s, episode steps:  11, steps per second:  94, episode reward: 11.000, mean reward:  1.000 [ 1.000,  1.000], mean action: 0.636 [0.000, 1.000],  loss: 0.821864, mae: 5.619297, mean_q: 11.030509, mean_eps: 0.854650\n",
            " 1314/8000: episode: 51, duration: 0.156s, episode steps:  16, steps per second: 103, episode reward: 16.000, mean reward:  1.000 [ 1.000,  1.000], mean action: 0.500 [0.000, 1.000],  loss: 1.075417, mae: 5.567163, mean_q: 10.783633, mean_eps: 0.853131\n",
            " 1344/8000: episode: 52, duration: 0.315s, episode steps:  30, steps per second:  95, episode reward: 30.000, mean reward:  1.000 [ 1.000,  1.000], mean action: 0.533 [0.000, 1.000],  loss: 1.113562, mae: 5.626418, mean_q: 10.867220, mean_eps: 0.850544\n",
            " 1366/8000: episode: 53, duration: 0.232s, episode steps:  22, steps per second:  95, episode reward: 22.000, mean reward:  1.000 [ 1.000,  1.000], mean action: 0.500 [0.000, 1.000],  loss: 0.660388, mae: 5.853074, mean_q: 11.493679, mean_eps: 0.847619\n",
            " 1381/8000: episode: 54, duration: 0.153s, episode steps:  15, steps per second:  98, episode reward: 15.000, mean reward:  1.000 [ 1.000,  1.000], mean action: 0.467 [0.000, 1.000],  loss: 0.713856, mae: 5.834209, mean_q: 11.415968, mean_eps: 0.845537\n",
            " 1442/8000: episode: 55, duration: 0.610s, episode steps:  61, steps per second: 100, episode reward: 61.000, mean reward:  1.000 [ 1.000,  1.000], mean action: 0.541 [0.000, 1.000],  loss: 0.976599, mae: 6.026060, mean_q: 11.777478, mean_eps: 0.841263\n",
            " 1466/8000: episode: 56, duration: 0.256s, episode steps:  24, steps per second:  94, episode reward: 24.000, mean reward:  1.000 [ 1.000,  1.000], mean action: 0.375 [0.000, 1.000],  loss: 0.837937, mae: 6.226474, mean_q: 12.201661, mean_eps: 0.836481\n",
            " 1487/8000: episode: 57, duration: 0.221s, episode steps:  21, steps per second:  95, episode reward: 21.000, mean reward:  1.000 [ 1.000,  1.000], mean action: 0.381 [0.000, 1.000],  loss: 0.738259, mae: 6.314791, mean_q: 12.422003, mean_eps: 0.833950\n",
            " 1511/8000: episode: 58, duration: 0.245s, episode steps:  24, steps per second:  98, episode reward: 24.000, mean reward:  1.000 [ 1.000,  1.000], mean action: 0.542 [0.000, 1.000],  loss: 0.825211, mae: 6.391437, mean_q: 12.550675, mean_eps: 0.831419\n",
            " 1543/8000: episode: 59, duration: 0.354s, episode steps:  32, steps per second:  91, episode reward: 32.000, mean reward:  1.000 [ 1.000,  1.000], mean action: 0.500 [0.000, 1.000],  loss: 1.063377, mae: 6.420433, mean_q: 12.605326, mean_eps: 0.828269\n",
            " 1572/8000: episode: 60, duration: 0.288s, episode steps:  29, steps per second: 101, episode reward: 29.000, mean reward:  1.000 [ 1.000,  1.000], mean action: 0.552 [0.000, 1.000],  loss: 1.143761, mae: 6.500560, mean_q: 12.739647, mean_eps: 0.824837\n",
            " 1600/8000: episode: 61, duration: 0.268s, episode steps:  28, steps per second: 104, episode reward: 28.000, mean reward:  1.000 [ 1.000,  1.000], mean action: 0.357 [0.000, 1.000],  loss: 1.113648, mae: 6.691565, mean_q: 13.129051, mean_eps: 0.821631\n",
            " 1619/8000: episode: 62, duration: 0.167s, episode steps:  19, steps per second: 114, episode reward: 19.000, mean reward:  1.000 [ 1.000,  1.000], mean action: 0.579 [0.000, 1.000],  loss: 1.064931, mae: 6.797844, mean_q: 13.414023, mean_eps: 0.818988\n",
            " 1642/8000: episode: 63, duration: 0.212s, episode steps:  23, steps per second: 108, episode reward: 23.000, mean reward:  1.000 [ 1.000,  1.000], mean action: 0.565 [0.000, 1.000],  loss: 1.124576, mae: 6.804957, mean_q: 13.345929, mean_eps: 0.816625\n",
            " 1686/8000: episode: 64, duration: 0.426s, episode steps:  44, steps per second: 103, episode reward: 44.000, mean reward:  1.000 [ 1.000,  1.000], mean action: 0.523 [0.000, 1.000],  loss: 0.879785, mae: 6.932907, mean_q: 13.696423, mean_eps: 0.812856\n",
            " 1846/8000: episode: 65, duration: 1.586s, episode steps: 160, steps per second: 101, episode reward: 160.000, mean reward:  1.000 [ 1.000,  1.000], mean action: 0.512 [0.000, 1.000],  loss: 0.938448, mae: 7.385362, mean_q: 14.643068, mean_eps: 0.801381\n",
            " 1888/8000: episode: 66, duration: 0.429s, episode steps:  42, steps per second:  98, episode reward: 42.000, mean reward:  1.000 [ 1.000,  1.000], mean action: 0.405 [0.000, 1.000],  loss: 1.292341, mae: 7.824261, mean_q: 15.536338, mean_eps: 0.790019\n",
            " 1911/8000: episode: 67, duration: 0.265s, episode steps:  23, steps per second:  87, episode reward: 23.000, mean reward:  1.000 [ 1.000,  1.000], mean action: 0.391 [0.000, 1.000],  loss: 1.117278, mae: 7.896162, mean_q: 15.722115, mean_eps: 0.786363\n",
            " 1943/8000: episode: 68, duration: 0.312s, episode steps:  32, steps per second: 103, episode reward: 32.000, mean reward:  1.000 [ 1.000,  1.000], mean action: 0.562 [0.000, 1.000],  loss: 0.998236, mae: 8.091005, mean_q: 16.108620, mean_eps: 0.783269\n",
            " 1969/8000: episode: 69, duration: 0.256s, episode steps:  26, steps per second: 101, episode reward: 26.000, mean reward:  1.000 [ 1.000,  1.000], mean action: 0.500 [0.000, 1.000],  loss: 0.806516, mae: 8.174466, mean_q: 16.341834, mean_eps: 0.780006\n",
            " 1992/8000: episode: 70, duration: 0.221s, episode steps:  23, steps per second: 104, episode reward: 23.000, mean reward:  1.000 [ 1.000,  1.000], mean action: 0.565 [0.000, 1.000],  loss: 0.927484, mae: 8.282278, mean_q: 16.643739, mean_eps: 0.777250\n",
            " 2036/8000: episode: 71, duration: 0.402s, episode steps:  44, steps per second: 109, episode reward: 44.000, mean reward:  1.000 [ 1.000,  1.000], mean action: 0.500 [0.000, 1.000],  loss: 1.166903, mae: 8.419189, mean_q: 16.924619, mean_eps: 0.773481\n",
            " 2051/8000: episode: 72, duration: 0.149s, episode steps:  15, steps per second: 101, episode reward: 15.000, mean reward:  1.000 [ 1.000,  1.000], mean action: 0.467 [0.000, 1.000],  loss: 1.217595, mae: 8.594583, mean_q: 17.295481, mean_eps: 0.770163\n",
            " 2078/8000: episode: 73, duration: 0.253s, episode steps:  27, steps per second: 107, episode reward: 27.000, mean reward:  1.000 [ 1.000,  1.000], mean action: 0.407 [0.000, 1.000],  loss: 1.238357, mae: 8.528440, mean_q: 17.020526, mean_eps: 0.767800\n",
            " 2118/8000: episode: 74, duration: 0.361s, episode steps:  40, steps per second: 111, episode reward: 40.000, mean reward:  1.000 [ 1.000,  1.000], mean action: 0.525 [0.000, 1.000],  loss: 1.441948, mae: 8.694648, mean_q: 17.364377, mean_eps: 0.764031\n",
            " 2209/8000: episode: 75, duration: 0.826s, episode steps:  91, steps per second: 110, episode reward: 91.000, mean reward:  1.000 [ 1.000,  1.000], mean action: 0.495 [0.000, 1.000],  loss: 1.509815, mae: 9.001746, mean_q: 17.994917, mean_eps: 0.756662\n",
            " 2222/8000: episode: 76, duration: 0.116s, episode steps:  13, steps per second: 112, episode reward: 13.000, mean reward:  1.000 [ 1.000,  1.000], mean action: 0.462 [0.000, 1.000],  loss: 1.362744, mae: 9.290763, mean_q: 18.669675, mean_eps: 0.750812\n",
            " 2246/8000: episode: 77, duration: 0.224s, episode steps:  24, steps per second: 107, episode reward: 24.000, mean reward:  1.000 [ 1.000,  1.000], mean action: 0.417 [0.000, 1.000],  loss: 1.555701, mae: 9.339020, mean_q: 18.663558, mean_eps: 0.748731\n",
            " 2265/8000: episode: 78, duration: 0.183s, episode steps:  19, steps per second: 104, episode reward: 19.000, mean reward:  1.000 [ 1.000,  1.000], mean action: 0.474 [0.000, 1.000],  loss: 1.739025, mae: 9.429493, mean_q: 18.829563, mean_eps: 0.746313\n",
            " 2294/8000: episode: 79, duration: 0.280s, episode steps:  29, steps per second: 104, episode reward: 29.000, mean reward:  1.000 [ 1.000,  1.000], mean action: 0.586 [0.000, 1.000],  loss: 1.483391, mae: 9.489194, mean_q: 19.026785, mean_eps: 0.743612\n",
            " 2494/8000: episode: 80, duration: 1.767s, episode steps: 200, steps per second: 113, episode reward: 200.000, mean reward:  1.000 [ 1.000,  1.000], mean action: 0.510 [0.000, 1.000],  loss: 1.466741, mae: 9.916747, mean_q: 19.953851, mean_eps: 0.730731\n",
            " 2534/8000: episode: 81, duration: 0.366s, episode steps:  40, steps per second: 109, episode reward: 40.000, mean reward:  1.000 [ 1.000,  1.000], mean action: 0.400 [0.000, 1.000],  loss: 1.301865, mae: 10.350436, mean_q: 20.892917, mean_eps: 0.717231\n",
            " 2554/8000: episode: 82, duration: 0.191s, episode steps:  20, steps per second: 105, episode reward: 20.000, mean reward:  1.000 [ 1.000,  1.000], mean action: 0.550 [0.000, 1.000],  loss: 1.669110, mae: 10.425879, mean_q: 21.011552, mean_eps: 0.713856\n",
            " 2585/8000: episode: 83, duration: 0.318s, episode steps:  31, steps per second:  97, episode reward: 31.000, mean reward:  1.000 [ 1.000,  1.000], mean action: 0.613 [0.000, 1.000],  loss: 2.055394, mae: 10.546019, mean_q: 21.241967, mean_eps: 0.710987\n",
            " 2649/8000: episode: 84, duration: 0.636s, episode steps:  64, steps per second: 101, episode reward: 64.000, mean reward:  1.000 [ 1.000,  1.000], mean action: 0.500 [0.000, 1.000],  loss: 1.824572, mae: 10.627477, mean_q: 21.373766, mean_eps: 0.705644\n",
            " 2665/8000: episode: 85, duration: 0.153s, episode steps:  16, steps per second: 104, episode reward: 16.000, mean reward:  1.000 [ 1.000,  1.000], mean action: 0.438 [0.000, 1.000],  loss: 2.140633, mae: 10.778549, mean_q: 21.606408, mean_eps: 0.701144\n",
            " 2748/8000: episode: 86, duration: 0.735s, episode steps:  83, steps per second: 113, episode reward: 83.000, mean reward:  1.000 [ 1.000,  1.000], mean action: 0.494 [0.000, 1.000],  loss: 1.601835, mae: 11.077040, mean_q: 22.340428, mean_eps: 0.695575\n",
            " 2783/8000: episode: 87, duration: 0.343s, episode steps:  35, steps per second: 102, episode reward: 35.000, mean reward:  1.000 [ 1.000,  1.000], mean action: 0.429 [0.000, 1.000],  loss: 1.589152, mae: 11.299711, mean_q: 22.766119, mean_eps: 0.688937\n",
            " 2802/8000: episode: 88, duration: 0.194s, episode steps:  19, steps per second:  98, episode reward: 19.000, mean reward:  1.000 [ 1.000,  1.000], mean action: 0.579 [0.000, 1.000],  loss: 1.850980, mae: 11.381231, mean_q: 22.937723, mean_eps: 0.685900\n",
            " 2961/8000: episode: 89, duration: 1.582s, episode steps: 159, steps per second: 101, episode reward: 159.000, mean reward:  1.000 [ 1.000,  1.000], mean action: 0.503 [0.000, 1.000],  loss: 1.852447, mae: 11.832544, mean_q: 23.941413, mean_eps: 0.675888\n",
            " 3038/8000: episode: 90, duration: 0.711s, episode steps:  77, steps per second: 108, episode reward: 77.000, mean reward:  1.000 [ 1.000,  1.000], mean action: 0.468 [0.000, 1.000],  loss: 1.883370, mae: 12.357137, mean_q: 25.021706, mean_eps: 0.662613\n",
            " 3158/8000: episode: 91, duration: 1.148s, episode steps: 120, steps per second: 105, episode reward: 120.000, mean reward:  1.000 [ 1.000,  1.000], mean action: 0.525 [0.000, 1.000],  loss: 2.036887, mae: 12.814506, mean_q: 25.955455, mean_eps: 0.651531\n",
            " 3177/8000: episode: 92, duration: 0.179s, episode steps:  19, steps per second: 106, episode reward: 19.000, mean reward:  1.000 [ 1.000,  1.000], mean action: 0.368 [0.000, 1.000],  loss: 2.552908, mae: 13.102915, mean_q: 26.446427, mean_eps: 0.643713\n",
            " 3199/8000: episode: 93, duration: 0.210s, episode steps:  22, steps per second: 105, episode reward: 22.000, mean reward:  1.000 [ 1.000,  1.000], mean action: 0.364 [0.000, 1.000],  loss: 2.270283, mae: 13.414399, mean_q: 27.152093, mean_eps: 0.641406\n",
            " 3262/8000: episode: 94, duration: 0.550s, episode steps:  63, steps per second: 115, episode reward: 63.000, mean reward:  1.000 [ 1.000,  1.000], mean action: 0.508 [0.000, 1.000],  loss: 2.231678, mae: 13.346014, mean_q: 26.947189, mean_eps: 0.636625\n",
            " 3286/8000: episode: 95, duration: 0.214s, episode steps:  24, steps per second: 112, episode reward: 24.000, mean reward:  1.000 [ 1.000,  1.000], mean action: 0.500 [0.000, 1.000],  loss: 2.579368, mae: 13.738346, mean_q: 27.921307, mean_eps: 0.631731\n",
            " 3384/8000: episode: 96, duration: 0.872s, episode steps:  98, steps per second: 112, episode reward: 98.000, mean reward:  1.000 [ 1.000,  1.000], mean action: 0.449 [0.000, 1.000],  loss: 2.275659, mae: 13.867825, mean_q: 28.167920, mean_eps: 0.624869\n",
            " 3441/8000: episode: 97, duration: 0.506s, episode steps:  57, steps per second: 113, episode reward: 57.000, mean reward:  1.000 [ 1.000,  1.000], mean action: 0.491 [0.000, 1.000],  loss: 2.182263, mae: 14.163709, mean_q: 28.765798, mean_eps: 0.616150\n",
            " 3601/8000: episode: 98, duration: 1.444s, episode steps: 160, steps per second: 111, episode reward: 160.000, mean reward:  1.000 [ 1.000,  1.000], mean action: 0.469 [0.000, 1.000],  loss: 2.489272, mae: 14.656347, mean_q: 29.851692, mean_eps: 0.603944\n",
            " 3622/8000: episode: 99, duration: 0.180s, episode steps:  21, steps per second: 117, episode reward: 21.000, mean reward:  1.000 [ 1.000,  1.000], mean action: 0.476 [0.000, 1.000],  loss: 1.811671, mae: 15.114878, mean_q: 30.735363, mean_eps: 0.593762\n",
            " 3749/8000: episode: 100, duration: 1.180s, episode steps: 127, steps per second: 108, episode reward: 127.000, mean reward:  1.000 [ 1.000,  1.000], mean action: 0.496 [0.000, 1.000],  loss: 2.164474, mae: 15.508238, mean_q: 31.547763, mean_eps: 0.585438\n",
            " 3859/8000: episode: 101, duration: 1.068s, episode steps: 110, steps per second: 103, episode reward: 110.000, mean reward:  1.000 [ 1.000,  1.000], mean action: 0.518 [0.000, 1.000],  loss: 3.249977, mae: 15.977514, mean_q: 32.404964, mean_eps: 0.572106\n",
            " 3905/8000: episode: 102, duration: 0.466s, episode steps:  46, steps per second:  99, episode reward: 46.000, mean reward:  1.000 [ 1.000,  1.000], mean action: 0.565 [0.000, 1.000],  loss: 2.977142, mae: 16.314494, mean_q: 33.267500, mean_eps: 0.563331\n",
            " 4033/8000: episode: 103, duration: 1.319s, episode steps: 128, steps per second:  97, episode reward: 128.000, mean reward:  1.000 [ 1.000,  1.000], mean action: 0.477 [0.000, 1.000],  loss: 2.897414, mae: 16.691143, mean_q: 33.931021, mean_eps: 0.553544\n",
            " 4061/8000: episode: 104, duration: 0.297s, episode steps:  28, steps per second:  94, episode reward: 28.000, mean reward:  1.000 [ 1.000,  1.000], mean action: 0.464 [0.000, 1.000],  loss: 3.107537, mae: 17.184416, mean_q: 35.021736, mean_eps: 0.544769\n",
            " 4255/8000: episode: 105, duration: 1.816s, episode steps: 194, steps per second: 107, episode reward: 194.000, mean reward:  1.000 [ 1.000,  1.000], mean action: 0.495 [0.000, 1.000],  loss: 3.206333, mae: 17.591420, mean_q: 35.853366, mean_eps: 0.532281\n",
            " 4377/8000: episode: 106, duration: 1.050s, episode steps: 122, steps per second: 116, episode reward: 122.000, mean reward:  1.000 [ 1.000,  1.000], mean action: 0.475 [0.000, 1.000],  loss: 4.333756, mae: 18.230403, mean_q: 37.085753, mean_eps: 0.514506\n",
            " 4577/8000: episode: 107, duration: 1.737s, episode steps: 200, steps per second: 115, episode reward: 200.000, mean reward:  1.000 [ 1.000,  1.000], mean action: 0.500 [0.000, 1.000],  loss: 2.857135, mae: 19.015273, mean_q: 38.893709, mean_eps: 0.496394\n",
            " 4695/8000: episode: 108, duration: 1.019s, episode steps: 118, steps per second: 116, episode reward: 118.000, mean reward:  1.000 [ 1.000,  1.000], mean action: 0.475 [0.000, 1.000],  loss: 4.759966, mae: 19.920997, mean_q: 40.517342, mean_eps: 0.478506\n",
            " 4799/8000: episode: 109, duration: 0.939s, episode steps: 104, steps per second: 111, episode reward: 104.000, mean reward:  1.000 [ 1.000,  1.000], mean action: 0.490 [0.000, 1.000],  loss: 3.983870, mae: 20.205807, mean_q: 41.366592, mean_eps: 0.466019\n",
            " 4948/8000: episode: 110, duration: 1.442s, episode steps: 149, steps per second: 103, episode reward: 149.000, mean reward:  1.000 [ 1.000,  1.000], mean action: 0.463 [0.000, 1.000],  loss: 4.006076, mae: 20.947784, mean_q: 42.758909, mean_eps: 0.451788\n",
            " 5148/8000: episode: 111, duration: 1.821s, episode steps: 200, steps per second: 110, episode reward: 200.000, mean reward:  1.000 [ 1.000,  1.000], mean action: 0.500 [0.000, 1.000],  loss: 4.435976, mae: 21.566022, mean_q: 44.092768, mean_eps: 0.432156\n",
            " 5327/8000: episode: 112, duration: 1.658s, episode steps: 179, steps per second: 108, episode reward: 179.000, mean reward:  1.000 [ 1.000,  1.000], mean action: 0.492 [0.000, 1.000],  loss: 5.037743, mae: 22.597974, mean_q: 46.030469, mean_eps: 0.410838\n",
            " 5501/8000: episode: 113, duration: 1.725s, episode steps: 174, steps per second: 101, episode reward: 174.000, mean reward:  1.000 [ 1.000,  1.000], mean action: 0.500 [0.000, 1.000],  loss: 5.916608, mae: 23.509364, mean_q: 47.735540, mean_eps: 0.390981\n",
            " 5701/8000: episode: 114, duration: 1.886s, episode steps: 200, steps per second: 106, episode reward: 200.000, mean reward:  1.000 [ 1.000,  1.000], mean action: 0.485 [0.000, 1.000],  loss: 4.027896, mae: 24.184009, mean_q: 49.445084, mean_eps: 0.369944\n",
            " 5901/8000: episode: 115, duration: 1.940s, episode steps: 200, steps per second: 103, episode reward: 200.000, mean reward:  1.000 [ 1.000,  1.000], mean action: 0.485 [0.000, 1.000],  loss: 6.966163, mae: 25.097690, mean_q: 51.099916, mean_eps: 0.347444\n",
            " 6101/8000: episode: 116, duration: 1.777s, episode steps: 200, steps per second: 113, episode reward: 200.000, mean reward:  1.000 [ 1.000,  1.000], mean action: 0.500 [0.000, 1.000],  loss: 4.479147, mae: 25.962014, mean_q: 52.931012, mean_eps: 0.324944\n",
            " 6301/8000: episode: 117, duration: 1.832s, episode steps: 200, steps per second: 109, episode reward: 200.000, mean reward:  1.000 [ 1.000,  1.000], mean action: 0.495 [0.000, 1.000],  loss: 6.286860, mae: 26.823629, mean_q: 54.399312, mean_eps: 0.302444\n",
            " 6501/8000: episode: 118, duration: 1.937s, episode steps: 200, steps per second: 103, episode reward: 200.000, mean reward:  1.000 [ 1.000,  1.000], mean action: 0.485 [0.000, 1.000],  loss: 8.179188, mae: 27.608780, mean_q: 55.914656, mean_eps: 0.279944\n",
            " 6701/8000: episode: 119, duration: 1.950s, episode steps: 200, steps per second: 103, episode reward: 200.000, mean reward:  1.000 [ 1.000,  1.000], mean action: 0.495 [0.000, 1.000],  loss: 6.434458, mae: 28.312710, mean_q: 57.528302, mean_eps: 0.257444\n",
            " 6901/8000: episode: 120, duration: 1.831s, episode steps: 200, steps per second: 109, episode reward: 200.000, mean reward:  1.000 [ 1.000,  1.000], mean action: 0.500 [0.000, 1.000],  loss: 5.974558, mae: 29.117890, mean_q: 59.173043, mean_eps: 0.234944\n",
            " 7101/8000: episode: 121, duration: 1.924s, episode steps: 200, steps per second: 104, episode reward: 200.000, mean reward:  1.000 [ 1.000,  1.000], mean action: 0.495 [0.000, 1.000],  loss: 7.096574, mae: 29.776462, mean_q: 60.445373, mean_eps: 0.212444\n",
            " 7301/8000: episode: 122, duration: 1.946s, episode steps: 200, steps per second: 103, episode reward: 200.000, mean reward:  1.000 [ 1.000,  1.000], mean action: 0.500 [0.000, 1.000],  loss: 8.398424, mae: 30.723119, mean_q: 62.155516, mean_eps: 0.189944\n",
            " 7501/8000: episode: 123, duration: 1.783s, episode steps: 200, steps per second: 112, episode reward: 200.000, mean reward:  1.000 [ 1.000,  1.000], mean action: 0.495 [0.000, 1.000],  loss: 8.105515, mae: 31.111630, mean_q: 63.031520, mean_eps: 0.167444\n",
            " 7701/8000: episode: 124, duration: 1.776s, episode steps: 200, steps per second: 113, episode reward: 200.000, mean reward:  1.000 [ 1.000,  1.000], mean action: 0.490 [0.000, 1.000],  loss: 7.755374, mae: 31.888933, mean_q: 64.551284, mean_eps: 0.144944\n",
            " 7901/8000: episode: 125, duration: 1.903s, episode steps: 200, steps per second: 105, episode reward: 200.000, mean reward:  1.000 [ 1.000,  1.000], mean action: 0.485 [0.000, 1.000],  loss: 8.304494, mae: 32.433575, mean_q: 65.750656, mean_eps: 0.122444\n",
            "done, took 78.967 seconds\n"
          ],
          "name": "stdout"
        },
        {
          "output_type": "display_data",
          "data": {
            "image/png": "[encoded data removed]",
            "text/plain": [
              "<Figure size 432x288 with 1 Axes>"
            ]
          },
          "metadata": {
            "tags": [],
            "needs_background": "light"
          }
        },
        {
          "output_type": "stream",
          "text": [
            "Testing for 20 episodes ...\n",
            "Episode 1: reward: 200.000, steps: 200\n",
            "Episode 2: reward: 200.000, steps: 200\n",
            "Episode 3: reward: 200.000, steps: 200\n",
            "Episode 4: reward: 200.000, steps: 200\n",
            "Episode 5: reward: 200.000, steps: 200\n",
            "Episode 6: reward: 200.000, steps: 200\n",
            "Episode 7: reward: 200.000, steps: 200\n",
            "Episode 8: reward: 200.000, steps: 200\n",
            "Episode 9: reward: 200.000, steps: 200\n",
            "Episode 10: reward: 200.000, steps: 200\n",
            "Episode 11: reward: 200.000, steps: 200\n",
            "Episode 12: reward: 200.000, steps: 200\n",
            "Episode 13: reward: 200.000, steps: 200\n",
            "Episode 14: reward: 200.000, steps: 200\n",
            "Episode 15: reward: 200.000, steps: 200\n",
            "Episode 16: reward: 200.000, steps: 200\n",
            "Episode 17: reward: 200.000, steps: 200\n",
            "Episode 18: reward: 200.000, steps: 200\n",
            "Episode 19: reward: 200.000, steps: 200\n",
            "Episode 20: reward: 200.000, steps: 200\n"
          ],
          "name": "stdout"
        },
        {
          "output_type": "execute_result",
          "data": {
            "text/plain": [
              "<tensorflow.python.keras.callbacks.History at 0x7f2824bfdc90>"
            ]
          },
          "metadata": {
            "tags": []
          },
          "execution_count": 13
        }
      ]
    }
  ]
}