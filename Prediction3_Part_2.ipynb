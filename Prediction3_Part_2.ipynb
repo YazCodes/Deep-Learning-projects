{
  "nbformat": 4,
  "nbformat_minor": 0,
  "metadata": {
    "colab": {
      "name": "Prediction3 Part 2.ipynb",
      "provenance": [],
      "authorship_tag": "ABX9TyMSvVj+msGZUUadlPWelu/R",
      "include_colab_link": true
    },
    "kernelspec": {
      "name": "python3",
      "display_name": "Python 3"
    },
    "language_info": {
      "name": "python"
    }
  },
  "cells": [
    {
      "cell_type": "markdown",
      "metadata": {
        "id": "view-in-github",
        "colab_type": "text"
      },
      "source": [
        "<a href=\"https://colab.research.google.com/github/YazCodes/Deep-Learning-projects/blob/main/Prediction3_Part_2.ipynb\" target=\"_parent\"><img src=\"https://colab.research.google.com/assets/colab-badge.svg\" alt=\"Open In Colab\"/></a>"
      ]
    },
    {
      "cell_type": "markdown",
      "metadata": {
        "id": "_CUKWUcft3Hg"
      },
      "source": [
        "DQN for cartpole"
      ]
    },
    {
      "cell_type": "code",
      "metadata": {
        "colab": {
          "base_uri": "https://localhost:8080/"
        },
        "id": "aQNVaN0XtuNB",
        "outputId": "df4fbf4c-3070-49f3-a45c-1becdafe397a"
      },
      "source": [
        "# install keras rl2 (we need to install keras-rl2 so it works with the tensorflow 2 version that comes pre-installed with colab)\n",
        "!pip install keras-rl2"
      ],
      "execution_count": 1,
      "outputs": [
        {
          "output_type": "stream",
          "text": [
            "Collecting keras-rl2\n",
            "\u001b[?25l  Downloading https://files.pythonhosted.org/packages/dd/34/94ffeab44eef43e22a01d82aa0ca062a97392c2c2415ba8b210e72053285/keras_rl2-1.0.4-py3-none-any.whl (53kB)\n",
            "\r\u001b[K     |██████▏                         | 10kB 12.8MB/s eta 0:00:01\r\u001b[K     |████████████▎                   | 20kB 8.7MB/s eta 0:00:01\r\u001b[K     |██████████████████▌             | 30kB 8.5MB/s eta 0:00:01\r\u001b[K     |████████████████████████▋       | 40kB 6.7MB/s eta 0:00:01\r\u001b[K     |██████████████████████████████▉ | 51kB 4.5MB/s eta 0:00:01\r\u001b[K     |████████████████████████████████| 61kB 3.1MB/s \n",
            "\u001b[?25hRequirement already satisfied: tensorflow>=2.1.0 in /usr/local/lib/python3.7/dist-packages (from keras-rl2) (2.4.1)\n",
            "Requirement already satisfied: grpcio~=1.32.0 in /usr/local/lib/python3.7/dist-packages (from tensorflow>=2.1.0->keras-rl2) (1.32.0)\n",
            "Requirement already satisfied: keras-preprocessing~=1.1.2 in /usr/local/lib/python3.7/dist-packages (from tensorflow>=2.1.0->keras-rl2) (1.1.2)\n",
            "Requirement already satisfied: six~=1.15.0 in /usr/local/lib/python3.7/dist-packages (from tensorflow>=2.1.0->keras-rl2) (1.15.0)\n",
            "Requirement already satisfied: gast==0.3.3 in /usr/local/lib/python3.7/dist-packages (from tensorflow>=2.1.0->keras-rl2) (0.3.3)\n",
            "Requirement already satisfied: tensorflow-estimator<2.5.0,>=2.4.0 in /usr/local/lib/python3.7/dist-packages (from tensorflow>=2.1.0->keras-rl2) (2.4.0)\n",
            "Requirement already satisfied: astunparse~=1.6.3 in /usr/local/lib/python3.7/dist-packages (from tensorflow>=2.1.0->keras-rl2) (1.6.3)\n",
            "Requirement already satisfied: opt-einsum~=3.3.0 in /usr/local/lib/python3.7/dist-packages (from tensorflow>=2.1.0->keras-rl2) (3.3.0)\n",
            "Requirement already satisfied: google-pasta~=0.2 in /usr/local/lib/python3.7/dist-packages (from tensorflow>=2.1.0->keras-rl2) (0.2.0)\n",
            "Requirement already satisfied: protobuf>=3.9.2 in /usr/local/lib/python3.7/dist-packages (from tensorflow>=2.1.0->keras-rl2) (3.12.4)\n",
            "Requirement already satisfied: h5py~=2.10.0 in /usr/local/lib/python3.7/dist-packages (from tensorflow>=2.1.0->keras-rl2) (2.10.0)\n",
            "Requirement already satisfied: absl-py~=0.10 in /usr/local/lib/python3.7/dist-packages (from tensorflow>=2.1.0->keras-rl2) (0.10.0)\n",
            "Requirement already satisfied: flatbuffers~=1.12.0 in /usr/local/lib/python3.7/dist-packages (from tensorflow>=2.1.0->keras-rl2) (1.12)\n",
            "Requirement already satisfied: wheel~=0.35 in /usr/local/lib/python3.7/dist-packages (from tensorflow>=2.1.0->keras-rl2) (0.36.2)\n",
            "Requirement already satisfied: wrapt~=1.12.1 in /usr/local/lib/python3.7/dist-packages (from tensorflow>=2.1.0->keras-rl2) (1.12.1)\n",
            "Requirement already satisfied: tensorboard~=2.4 in /usr/local/lib/python3.7/dist-packages (from tensorflow>=2.1.0->keras-rl2) (2.4.1)\n",
            "Requirement already satisfied: numpy~=1.19.2 in /usr/local/lib/python3.7/dist-packages (from tensorflow>=2.1.0->keras-rl2) (1.19.5)\n",
            "Requirement already satisfied: typing-extensions~=3.7.4 in /usr/local/lib/python3.7/dist-packages (from tensorflow>=2.1.0->keras-rl2) (3.7.4.3)\n",
            "Requirement already satisfied: termcolor~=1.1.0 in /usr/local/lib/python3.7/dist-packages (from tensorflow>=2.1.0->keras-rl2) (1.1.0)\n",
            "Requirement already satisfied: setuptools in /usr/local/lib/python3.7/dist-packages (from protobuf>=3.9.2->tensorflow>=2.1.0->keras-rl2) (54.1.2)\n",
            "Requirement already satisfied: markdown>=2.6.8 in /usr/local/lib/python3.7/dist-packages (from tensorboard~=2.4->tensorflow>=2.1.0->keras-rl2) (3.3.4)\n",
            "Requirement already satisfied: google-auth-oauthlib<0.5,>=0.4.1 in /usr/local/lib/python3.7/dist-packages (from tensorboard~=2.4->tensorflow>=2.1.0->keras-rl2) (0.4.3)\n",
            "Requirement already satisfied: tensorboard-plugin-wit>=1.6.0 in /usr/local/lib/python3.7/dist-packages (from tensorboard~=2.4->tensorflow>=2.1.0->keras-rl2) (1.8.0)\n",
            "Requirement already satisfied: requests<3,>=2.21.0 in /usr/local/lib/python3.7/dist-packages (from tensorboard~=2.4->tensorflow>=2.1.0->keras-rl2) (2.23.0)\n",
            "Requirement already satisfied: google-auth<2,>=1.6.3 in /usr/local/lib/python3.7/dist-packages (from tensorboard~=2.4->tensorflow>=2.1.0->keras-rl2) (1.27.1)\n",
            "Requirement already satisfied: werkzeug>=0.11.15 in /usr/local/lib/python3.7/dist-packages (from tensorboard~=2.4->tensorflow>=2.1.0->keras-rl2) (1.0.1)\n",
            "Requirement already satisfied: importlib-metadata; python_version < \"3.8\" in /usr/local/lib/python3.7/dist-packages (from markdown>=2.6.8->tensorboard~=2.4->tensorflow>=2.1.0->keras-rl2) (3.7.2)\n",
            "Requirement already satisfied: requests-oauthlib>=0.7.0 in /usr/local/lib/python3.7/dist-packages (from google-auth-oauthlib<0.5,>=0.4.1->tensorboard~=2.4->tensorflow>=2.1.0->keras-rl2) (1.3.0)\n",
            "Requirement already satisfied: urllib3!=1.25.0,!=1.25.1,<1.26,>=1.21.1 in /usr/local/lib/python3.7/dist-packages (from requests<3,>=2.21.0->tensorboard~=2.4->tensorflow>=2.1.0->keras-rl2) (1.24.3)\n",
            "Requirement already satisfied: idna<3,>=2.5 in /usr/local/lib/python3.7/dist-packages (from requests<3,>=2.21.0->tensorboard~=2.4->tensorflow>=2.1.0->keras-rl2) (2.10)\n",
            "Requirement already satisfied: chardet<4,>=3.0.2 in /usr/local/lib/python3.7/dist-packages (from requests<3,>=2.21.0->tensorboard~=2.4->tensorflow>=2.1.0->keras-rl2) (3.0.4)\n",
            "Requirement already satisfied: certifi>=2017.4.17 in /usr/local/lib/python3.7/dist-packages (from requests<3,>=2.21.0->tensorboard~=2.4->tensorflow>=2.1.0->keras-rl2) (2020.12.5)\n",
            "Requirement already satisfied: rsa<5,>=3.1.4; python_version >= \"3.6\" in /usr/local/lib/python3.7/dist-packages (from google-auth<2,>=1.6.3->tensorboard~=2.4->tensorflow>=2.1.0->keras-rl2) (4.7.2)\n",
            "Requirement already satisfied: pyasn1-modules>=0.2.1 in /usr/local/lib/python3.7/dist-packages (from google-auth<2,>=1.6.3->tensorboard~=2.4->tensorflow>=2.1.0->keras-rl2) (0.2.8)\n",
            "Requirement already satisfied: cachetools<5.0,>=2.0.0 in /usr/local/lib/python3.7/dist-packages (from google-auth<2,>=1.6.3->tensorboard~=2.4->tensorflow>=2.1.0->keras-rl2) (4.2.1)\n",
            "Requirement already satisfied: zipp>=0.5 in /usr/local/lib/python3.7/dist-packages (from importlib-metadata; python_version < \"3.8\"->markdown>=2.6.8->tensorboard~=2.4->tensorflow>=2.1.0->keras-rl2) (3.4.1)\n",
            "Requirement already satisfied: oauthlib>=3.0.0 in /usr/local/lib/python3.7/dist-packages (from requests-oauthlib>=0.7.0->google-auth-oauthlib<0.5,>=0.4.1->tensorboard~=2.4->tensorflow>=2.1.0->keras-rl2) (3.1.0)\n",
            "Requirement already satisfied: pyasn1>=0.1.3 in /usr/local/lib/python3.7/dist-packages (from rsa<5,>=3.1.4; python_version >= \"3.6\"->google-auth<2,>=1.6.3->tensorboard~=2.4->tensorflow>=2.1.0->keras-rl2) (0.4.8)\n",
            "Installing collected packages: keras-rl2\n",
            "Successfully installed keras-rl2-1.0.4\n"
          ],
          "name": "stdout"
        }
      ]
    },
    {
      "cell_type": "code",
      "metadata": {
        "colab": {
          "base_uri": "https://localhost:8080/"
        },
        "id": "zr6MBOzWuFJY",
        "outputId": "196e1d33-faf3-415d-9abe-54ca63056308"
      },
      "source": [
        "!pip install gym"
      ],
      "execution_count": 2,
      "outputs": [
        {
          "output_type": "stream",
          "text": [
            "Requirement already satisfied: gym in /usr/local/lib/python3.7/dist-packages (0.17.3)\n",
            "Requirement already satisfied: scipy in /usr/local/lib/python3.7/dist-packages (from gym) (1.4.1)\n",
            "Requirement already satisfied: cloudpickle<1.7.0,>=1.2.0 in /usr/local/lib/python3.7/dist-packages (from gym) (1.3.0)\n",
            "Requirement already satisfied: pyglet<=1.5.0,>=1.4.0 in /usr/local/lib/python3.7/dist-packages (from gym) (1.5.0)\n",
            "Requirement already satisfied: numpy>=1.10.4 in /usr/local/lib/python3.7/dist-packages (from gym) (1.19.5)\n",
            "Requirement already satisfied: future in /usr/local/lib/python3.7/dist-packages (from pyglet<=1.5.0,>=1.4.0->gym) (0.16.0)\n"
          ],
          "name": "stdout"
        }
      ]
    },
    {
      "cell_type": "code",
      "metadata": {
        "id": "VCP8mBGnuJ1E"
      },
      "source": [
        "# load the gym module\n",
        "import gym\n",
        "import matplotlib.pyplot as plt\n",
        "# import the usual Keras modules for creating deep neural networks\n",
        "from keras import Sequential\n",
        "from keras.layers import Input, Flatten, Dense\n",
        "from keras.optimizers import Adam\n",
        "\n",
        "ENV_NAME = 'CartPole-v0'\n",
        "env = gym.make(ENV_NAME)"
      ],
      "execution_count": 3,
      "outputs": []
    },
    {
      "cell_type": "code",
      "metadata": {
        "colab": {
          "base_uri": "https://localhost:8080/"
        },
        "id": "mhQ1EbZLwhWD",
        "outputId": "36b2cf90-80ea-4cda-8073-d688fcc5cac6"
      },
      "source": [
        "print(env.observation_space.shape) #gives us a tupel. 0 is the first element of the tupel"
      ],
      "execution_count": null,
      "outputs": [
        {
          "output_type": "stream",
          "text": [
            "(4,)\n"
          ],
          "name": "stdout"
        }
      ]
    },
    {
      "cell_type": "code",
      "metadata": {
        "colab": {
          "base_uri": "https://localhost:8080/"
        },
        "id": "eUIQR1wtxnwL",
        "outputId": "2a7a65d4-44cf-4a08-faa8-beeaefa45504"
      },
      "source": [
        "#number of actions \n",
        "print(env.action_space.n)"
      ],
      "execution_count": null,
      "outputs": [
        {
          "output_type": "stream",
          "text": [
            "2\n"
          ],
          "name": "stdout"
        }
      ]
    },
    {
      "cell_type": "code",
      "metadata": {
        "colab": {
          "base_uri": "https://localhost:8080/",
          "height": 1000
        },
        "id": "dEJwofrluTC2",
        "outputId": "65055926-0feb-4a3e-b98a-fffa21f34e1f"
      },
      "source": [
        "import rl\n",
        "from rl.memory import SequentialMemory  # import the exerience replay buffer module\n",
        "from rl.policy import BoltzmannQPolicy, LinearAnnealedPolicy, EpsGreedyQPolicy  # import the policy\n",
        "from rl.agents.dqn import DQNAgent      # import the DQN agent\n",
        "\n",
        "memory = SequentialMemory(limit=10000, window_length=1) #setting up the experince replay buffer\n",
        "#limit = the numer of steps of episodes stored in the replay buffer\n",
        "\n",
        "# define the policy (how we select the actions)\n",
        "# setup the Linear annealed policy with the EpsGreedyQPolicy as the inner policy\n",
        "policy =  LinearAnnealedPolicy(inner_policy=EpsGreedyQPolicy(),   # policy used to select actions\n",
        "                               attr='eps',                        # attribute in the inner policy to vary             \n",
        "                               value_max=1.,                       # maximum value of attribute that is varying\n",
        "                               value_min=.1,                      # minimum value of attribute that is varying\n",
        "                               value_test=.05,  #0.9??                  # test if the value selected is < 0.05\n",
        "                               nb_steps=9000)                    # the number of steps between value_max and value_min\n",
        "\n",
        "#need to change the value_max and value_min. \n",
        "# Q-Network\n",
        "model = Sequential() #sequnetial model \n",
        "model.add(Input(shape=(1,env.observation_space.shape[0]))) # 1 = one observation and env.observation_space.shape is the number of states within our observation. 0 = the first element of the tupel\n",
        "model.add(Flatten())\n",
        "# extra layers here\n",
        "model.add(Dense(32, activation='relu')) #layer 1\n",
        "model.add(Dense(64, activation='relu')) #layer 2\n",
        "#model.add(Dense(64, activation='relu')) #layer 2\n",
        "\n",
        "model.add(Dense(env.action_space.n, activation='linear'))   # the output is the number of actions in the action space. Activation has to be linear due to how the q value does its calculation\n",
        "print(model.summary())\n",
        "\n",
        "# define the agent using the DQNAgent class\n",
        "dqn = DQNAgent(model=model,                     # Q-Network model created above ^\n",
        "               nb_actions=env.action_space.n,   # number of actions used above - the data from the enviroment\n",
        "               memory=memory,                   # experience replay memory\n",
        "               nb_steps_warmup=10,              # how many steps are waited before starting experience replay\n",
        "               target_model_update=1e-2,        # how often the target network is updated\n",
        "               policy=policy)                   # the action selection policy\n",
        "\n",
        "dqn.compile(Adam(lr=1e-3), metrics=['mae'])\n",
        "\n",
        "history = dqn.fit(env, nb_steps=9000, visualize=False, verbose=2) #visualize false to save time\n",
        "\n",
        "\n",
        "# summarize the history for number  of episode steps\n",
        "plt.plot(history.history['nb_episode_steps'])\n",
        "plt.ylabel('nb_episode_steps')\n",
        "plt.xlabel('episodes')\n",
        "plt.show()\n",
        "dqn.test(env, nb_episodes=20, visualize=False) #testing for 20 episodes, reward should all be 200- evaluating my algortithm \n",
        "\n"
      ],
      "execution_count": 6,
      "outputs": [
        {
          "output_type": "stream",
          "text": [
            "Model: \"sequential_2\"\n",
            "_________________________________________________________________\n",
            "Layer (type)                 Output Shape              Param #   \n",
            "=================================================================\n",
            "flatten_2 (Flatten)          (None, 4)                 0         \n",
            "_________________________________________________________________\n",
            "dense_6 (Dense)              (None, 32)                160       \n",
            "_________________________________________________________________\n",
            "dense_7 (Dense)              (None, 64)                2112      \n",
            "_________________________________________________________________\n",
            "dense_8 (Dense)              (None, 2)                 130       \n",
            "=================================================================\n",
            "Total params: 2,402\n",
            "Trainable params: 2,402\n",
            "Non-trainable params: 0\n",
            "_________________________________________________________________\n",
            "None\n",
            "Training for 9000 steps ...\n"
          ],
          "name": "stdout"
        },
        {
          "output_type": "stream",
          "text": [
            "/usr/local/lib/python3.7/dist-packages/tensorflow/python/keras/engine/training.py:2325: UserWarning: `Model.state_updates` will be removed in a future version. This property should not be used in TensorFlow 2.0, as `updates` are applied automatically.\n",
            "  warnings.warn('`Model.state_updates` will be removed in a future version. '\n",
            "/usr/local/lib/python3.7/dist-packages/rl/memory.py:40: UserWarning: Not enough entries to sample without replacement. Consider increasing your warm-up phase to avoid oversampling!\n",
            "  warnings.warn('Not enough entries to sample without replacement. Consider increasing your warm-up phase to avoid oversampling!')\n"
          ],
          "name": "stderr"
        },
        {
          "output_type": "stream",
          "text": [
            "   39/9000: episode: 1, duration: 0.982s, episode steps:  39, steps per second:  40, episode reward: 39.000, mean reward:  1.000 [ 1.000,  1.000], mean action: 0.487 [0.000, 1.000],  loss: 0.399234, mae: 0.483572, mean_q: 0.117197, mean_eps: 0.997550\n",
            "   60/9000: episode: 2, duration: 0.156s, episode steps:  21, steps per second: 135, episode reward: 21.000, mean reward:  1.000 [ 1.000,  1.000], mean action: 0.381 [0.000, 1.000],  loss: 0.221424, mae: 0.506824, mean_q: 0.463249, mean_eps: 0.995100\n",
            "  112/9000: episode: 3, duration: 0.397s, episode steps:  52, steps per second: 131, episode reward: 52.000, mean reward:  1.000 [ 1.000,  1.000], mean action: 0.481 [0.000, 1.000],  loss: 0.057190, mae: 0.655638, mean_q: 1.110062, mean_eps: 0.991450\n",
            "  146/9000: episode: 4, duration: 0.256s, episode steps:  34, steps per second: 133, episode reward: 34.000, mean reward:  1.000 [ 1.000,  1.000], mean action: 0.618 [0.000, 1.000],  loss: 0.019674, mae: 0.788883, mean_q: 1.496807, mean_eps: 0.987150\n",
            "  161/9000: episode: 5, duration: 0.116s, episode steps:  15, steps per second: 130, episode reward: 15.000, mean reward:  1.000 [ 1.000,  1.000], mean action: 0.733 [0.000, 1.000],  loss: 0.021272, mae: 0.861217, mean_q: 1.661739, mean_eps: 0.984700\n",
            "  183/9000: episode: 6, duration: 0.186s, episode steps:  22, steps per second: 118, episode reward: 22.000, mean reward:  1.000 [ 1.000,  1.000], mean action: 0.409 [0.000, 1.000],  loss: 0.019896, mae: 0.931582, mean_q: 1.823222, mean_eps: 0.982850\n",
            "  193/9000: episode: 7, duration: 0.082s, episode steps:  10, steps per second: 122, episode reward: 10.000, mean reward:  1.000 [ 1.000,  1.000], mean action: 0.200 [0.000, 1.000],  loss: 0.019836, mae: 0.998287, mean_q: 1.982624, mean_eps: 0.981250\n",
            "  204/9000: episode: 8, duration: 0.097s, episode steps:  11, steps per second: 114, episode reward: 11.000, mean reward:  1.000 [ 1.000,  1.000], mean action: 0.364 [0.000, 1.000],  loss: 0.033949, mae: 1.040447, mean_q: 2.016626, mean_eps: 0.980200\n",
            "  217/9000: episode: 9, duration: 0.116s, episode steps:  13, steps per second: 112, episode reward: 13.000, mean reward:  1.000 [ 1.000,  1.000], mean action: 0.154 [0.000, 1.000],  loss: 0.042815, mae: 1.095868, mean_q: 2.142764, mean_eps: 0.979000\n",
            "  231/9000: episode: 10, duration: 0.112s, episode steps:  14, steps per second: 125, episode reward: 14.000, mean reward:  1.000 [ 1.000,  1.000], mean action: 0.357 [0.000, 1.000],  loss: 0.051085, mae: 1.150853, mean_q: 2.271848, mean_eps: 0.977650\n",
            "  244/9000: episode: 11, duration: 0.109s, episode steps:  13, steps per second: 120, episode reward: 13.000, mean reward:  1.000 [ 1.000,  1.000], mean action: 0.385 [0.000, 1.000],  loss: 0.051486, mae: 1.200539, mean_q: 2.346135, mean_eps: 0.976300\n",
            "  269/9000: episode: 12, duration: 0.196s, episode steps:  25, steps per second: 128, episode reward: 25.000, mean reward:  1.000 [ 1.000,  1.000], mean action: 0.480 [0.000, 1.000],  loss: 0.065295, mae: 1.286392, mean_q: 2.514086, mean_eps: 0.974400\n",
            "  291/9000: episode: 13, duration: 0.174s, episode steps:  22, steps per second: 126, episode reward: 22.000, mean reward:  1.000 [ 1.000,  1.000], mean action: 0.409 [0.000, 1.000],  loss: 0.080504, mae: 1.398022, mean_q: 2.710211, mean_eps: 0.972050\n",
            "  307/9000: episode: 14, duration: 0.133s, episode steps:  16, steps per second: 121, episode reward: 16.000, mean reward:  1.000 [ 1.000,  1.000], mean action: 0.625 [0.000, 1.000],  loss: 0.099691, mae: 1.466535, mean_q: 2.762293, mean_eps: 0.970150\n",
            "  339/9000: episode: 15, duration: 0.256s, episode steps:  32, steps per second: 125, episode reward: 32.000, mean reward:  1.000 [ 1.000,  1.000], mean action: 0.500 [0.000, 1.000],  loss: 0.084907, mae: 1.564225, mean_q: 3.002408, mean_eps: 0.967750\n",
            "  364/9000: episode: 16, duration: 0.192s, episode steps:  25, steps per second: 131, episode reward: 25.000, mean reward:  1.000 [ 1.000,  1.000], mean action: 0.560 [0.000, 1.000],  loss: 0.104466, mae: 1.677699, mean_q: 3.236246, mean_eps: 0.964900\n",
            "  403/9000: episode: 17, duration: 0.292s, episode steps:  39, steps per second: 134, episode reward: 39.000, mean reward:  1.000 [ 1.000,  1.000], mean action: 0.513 [0.000, 1.000],  loss: 0.110221, mae: 1.809296, mean_q: 3.483780, mean_eps: 0.961700\n",
            "  423/9000: episode: 18, duration: 0.152s, episode steps:  20, steps per second: 131, episode reward: 20.000, mean reward:  1.000 [ 1.000,  1.000], mean action: 0.600 [0.000, 1.000],  loss: 0.171401, mae: 1.934780, mean_q: 3.649347, mean_eps: 0.958750\n",
            "  439/9000: episode: 19, duration: 0.147s, episode steps:  16, steps per second: 109, episode reward: 16.000, mean reward:  1.000 [ 1.000,  1.000], mean action: 0.375 [0.000, 1.000],  loss: 0.136420, mae: 2.002448, mean_q: 3.873619, mean_eps: 0.956950\n",
            "  464/9000: episode: 20, duration: 0.209s, episode steps:  25, steps per second: 119, episode reward: 25.000, mean reward:  1.000 [ 1.000,  1.000], mean action: 0.440 [0.000, 1.000],  loss: 0.146590, mae: 2.083675, mean_q: 3.996622, mean_eps: 0.954900\n",
            "  478/9000: episode: 21, duration: 0.115s, episode steps:  14, steps per second: 122, episode reward: 14.000, mean reward:  1.000 [ 1.000,  1.000], mean action: 0.286 [0.000, 1.000],  loss: 0.198997, mae: 2.141386, mean_q: 4.015840, mean_eps: 0.952950\n",
            "  502/9000: episode: 22, duration: 0.198s, episode steps:  24, steps per second: 121, episode reward: 24.000, mean reward:  1.000 [ 1.000,  1.000], mean action: 0.500 [0.000, 1.000],  loss: 0.139686, mae: 2.241373, mean_q: 4.305345, mean_eps: 0.951050\n",
            "  538/9000: episode: 23, duration: 0.287s, episode steps:  36, steps per second: 126, episode reward: 36.000, mean reward:  1.000 [ 1.000,  1.000], mean action: 0.444 [0.000, 1.000],  loss: 0.163620, mae: 2.369755, mean_q: 4.583610, mean_eps: 0.948050\n",
            "  559/9000: episode: 24, duration: 0.171s, episode steps:  21, steps per second: 123, episode reward: 21.000, mean reward:  1.000 [ 1.000,  1.000], mean action: 0.524 [0.000, 1.000],  loss: 0.156702, mae: 2.471812, mean_q: 4.768074, mean_eps: 0.945200\n",
            "  576/9000: episode: 25, duration: 0.147s, episode steps:  17, steps per second: 116, episode reward: 17.000, mean reward:  1.000 [ 1.000,  1.000], mean action: 0.647 [0.000, 1.000],  loss: 0.282570, mae: 2.562835, mean_q: 4.877582, mean_eps: 0.943300\n",
            "  600/9000: episode: 26, duration: 0.183s, episode steps:  24, steps per second: 131, episode reward: 24.000, mean reward:  1.000 [ 1.000,  1.000], mean action: 0.500 [0.000, 1.000],  loss: 0.206251, mae: 2.629499, mean_q: 5.055700, mean_eps: 0.941250\n",
            "  622/9000: episode: 27, duration: 0.169s, episode steps:  22, steps per second: 130, episode reward: 22.000, mean reward:  1.000 [ 1.000,  1.000], mean action: 0.682 [0.000, 1.000],  loss: 0.263414, mae: 2.762826, mean_q: 5.280138, mean_eps: 0.938950\n",
            "  689/9000: episode: 28, duration: 0.476s, episode steps:  67, steps per second: 141, episode reward: 67.000, mean reward:  1.000 [ 1.000,  1.000], mean action: 0.552 [0.000, 1.000],  loss: 0.256914, mae: 2.914400, mean_q: 5.611160, mean_eps: 0.934500\n",
            "  746/9000: episode: 29, duration: 0.413s, episode steps:  57, steps per second: 138, episode reward: 57.000, mean reward:  1.000 [ 1.000,  1.000], mean action: 0.561 [0.000, 1.000],  loss: 0.263981, mae: 3.152825, mean_q: 6.154887, mean_eps: 0.928300\n",
            "  759/9000: episode: 30, duration: 0.108s, episode steps:  13, steps per second: 120, episode reward: 13.000, mean reward:  1.000 [ 1.000,  1.000], mean action: 0.462 [0.000, 1.000],  loss: 0.216704, mae: 3.300801, mean_q: 6.470261, mean_eps: 0.924800\n",
            "  776/9000: episode: 31, duration: 0.148s, episode steps:  17, steps per second: 115, episode reward: 17.000, mean reward:  1.000 [ 1.000,  1.000], mean action: 0.588 [0.000, 1.000],  loss: 0.362400, mae: 3.347451, mean_q: 6.471475, mean_eps: 0.923300\n",
            "  787/9000: episode: 32, duration: 0.092s, episode steps:  11, steps per second: 120, episode reward: 11.000, mean reward:  1.000 [ 1.000,  1.000], mean action: 0.091 [0.000, 1.000],  loss: 0.146847, mae: 3.426235, mean_q: 6.793952, mean_eps: 0.921900\n",
            "  803/9000: episode: 33, duration: 0.136s, episode steps:  16, steps per second: 118, episode reward: 16.000, mean reward:  1.000 [ 1.000,  1.000], mean action: 0.688 [0.000, 1.000],  loss: 0.375283, mae: 3.499464, mean_q: 6.821396, mean_eps: 0.920550\n",
            "  837/9000: episode: 34, duration: 0.284s, episode steps:  34, steps per second: 120, episode reward: 34.000, mean reward:  1.000 [ 1.000,  1.000], mean action: 0.559 [0.000, 1.000],  loss: 0.306944, mae: 3.598306, mean_q: 7.064600, mean_eps: 0.918050\n",
            "  850/9000: episode: 35, duration: 0.105s, episode steps:  13, steps per second: 124, episode reward: 13.000, mean reward:  1.000 [ 1.000,  1.000], mean action: 0.462 [0.000, 1.000],  loss: 0.238229, mae: 3.729365, mean_q: 7.349384, mean_eps: 0.915700\n",
            "  865/9000: episode: 36, duration: 0.133s, episode steps:  15, steps per second: 113, episode reward: 15.000, mean reward:  1.000 [ 1.000,  1.000], mean action: 0.600 [0.000, 1.000],  loss: 0.319615, mae: 3.720139, mean_q: 7.319443, mean_eps: 0.914300\n",
            "  893/9000: episode: 37, duration: 0.231s, episode steps:  28, steps per second: 121, episode reward: 28.000, mean reward:  1.000 [ 1.000,  1.000], mean action: 0.607 [0.000, 1.000],  loss: 0.513536, mae: 3.812353, mean_q: 7.320728, mean_eps: 0.912150\n",
            "  929/9000: episode: 38, duration: 0.280s, episode steps:  36, steps per second: 128, episode reward: 36.000, mean reward:  1.000 [ 1.000,  1.000], mean action: 0.389 [0.000, 1.000],  loss: 0.335392, mae: 3.976550, mean_q: 7.730881, mean_eps: 0.908950\n",
            "  950/9000: episode: 39, duration: 0.175s, episode steps:  21, steps per second: 120, episode reward: 21.000, mean reward:  1.000 [ 1.000,  1.000], mean action: 0.619 [0.000, 1.000],  loss: 0.320973, mae: 4.063405, mean_q: 7.966753, mean_eps: 0.906100\n",
            "  968/9000: episode: 40, duration: 0.157s, episode steps:  18, steps per second: 115, episode reward: 18.000, mean reward:  1.000 [ 1.000,  1.000], mean action: 0.389 [0.000, 1.000],  loss: 0.385315, mae: 4.090821, mean_q: 8.054455, mean_eps: 0.904150\n",
            "  982/9000: episode: 41, duration: 0.130s, episode steps:  14, steps per second: 108, episode reward: 14.000, mean reward:  1.000 [ 1.000,  1.000], mean action: 0.286 [0.000, 1.000],  loss: 0.517529, mae: 4.173201, mean_q: 8.100480, mean_eps: 0.902550\n",
            " 1008/9000: episode: 42, duration: 0.193s, episode steps:  26, steps per second: 134, episode reward: 26.000, mean reward:  1.000 [ 1.000,  1.000], mean action: 0.385 [0.000, 1.000],  loss: 0.376229, mae: 4.264891, mean_q: 8.365219, mean_eps: 0.900550\n",
            " 1020/9000: episode: 43, duration: 0.092s, episode steps:  12, steps per second: 131, episode reward: 12.000, mean reward:  1.000 [ 1.000,  1.000], mean action: 0.500 [0.000, 1.000],  loss: 0.503408, mae: 4.313589, mean_q: 8.467445, mean_eps: 0.898650\n",
            " 1034/9000: episode: 44, duration: 0.105s, episode steps:  14, steps per second: 134, episode reward: 14.000, mean reward:  1.000 [ 1.000,  1.000], mean action: 0.357 [0.000, 1.000],  loss: 0.431836, mae: 4.358026, mean_q: 8.547378, mean_eps: 0.897350\n",
            " 1053/9000: episode: 45, duration: 0.150s, episode steps:  19, steps per second: 127, episode reward: 19.000, mean reward:  1.000 [ 1.000,  1.000], mean action: 0.368 [0.000, 1.000],  loss: 0.480443, mae: 4.466146, mean_q: 8.801477, mean_eps: 0.895700\n",
            " 1067/9000: episode: 46, duration: 0.113s, episode steps:  14, steps per second: 124, episode reward: 14.000, mean reward:  1.000 [ 1.000,  1.000], mean action: 0.571 [0.000, 1.000],  loss: 0.339387, mae: 4.510337, mean_q: 8.995251, mean_eps: 0.894050\n",
            " 1091/9000: episode: 47, duration: 0.186s, episode steps:  24, steps per second: 129, episode reward: 24.000, mean reward:  1.000 [ 1.000,  1.000], mean action: 0.542 [0.000, 1.000],  loss: 0.497713, mae: 4.666849, mean_q: 9.195702, mean_eps: 0.892150\n",
            " 1112/9000: episode: 48, duration: 0.163s, episode steps:  21, steps per second: 129, episode reward: 21.000, mean reward:  1.000 [ 1.000,  1.000], mean action: 0.667 [0.000, 1.000],  loss: 0.602393, mae: 4.737444, mean_q: 9.368256, mean_eps: 0.889900\n",
            " 1148/9000: episode: 49, duration: 0.278s, episode steps:  36, steps per second: 129, episode reward: 36.000, mean reward:  1.000 [ 1.000,  1.000], mean action: 0.444 [0.000, 1.000],  loss: 0.473059, mae: 4.810606, mean_q: 9.545740, mean_eps: 0.887050\n",
            " 1165/9000: episode: 50, duration: 0.135s, episode steps:  17, steps per second: 126, episode reward: 17.000, mean reward:  1.000 [ 1.000,  1.000], mean action: 0.588 [0.000, 1.000],  loss: 0.656170, mae: 4.925881, mean_q: 9.651119, mean_eps: 0.884400\n",
            " 1177/9000: episode: 51, duration: 0.102s, episode steps:  12, steps per second: 118, episode reward: 12.000, mean reward:  1.000 [ 1.000,  1.000], mean action: 0.667 [0.000, 1.000],  loss: 0.473427, mae: 4.971536, mean_q: 9.723072, mean_eps: 0.882950\n",
            " 1188/9000: episode: 52, duration: 0.095s, episode steps:  11, steps per second: 116, episode reward: 11.000, mean reward:  1.000 [ 1.000,  1.000], mean action: 0.545 [0.000, 1.000],  loss: 0.366932, mae: 4.990510, mean_q: 9.953561, mean_eps: 0.881800\n",
            " 1242/9000: episode: 53, duration: 0.433s, episode steps:  54, steps per second: 125, episode reward: 54.000, mean reward:  1.000 [ 1.000,  1.000], mean action: 0.556 [0.000, 1.000],  loss: 0.615457, mae: 5.120934, mean_q: 10.052899, mean_eps: 0.878550\n",
            " 1288/9000: episode: 54, duration: 0.355s, episode steps:  46, steps per second: 129, episode reward: 46.000, mean reward:  1.000 [ 1.000,  1.000], mean action: 0.457 [0.000, 1.000],  loss: 0.555667, mae: 5.371989, mean_q: 10.651160, mean_eps: 0.873550\n",
            " 1300/9000: episode: 55, duration: 0.100s, episode steps:  12, steps per second: 120, episode reward: 12.000, mean reward:  1.000 [ 1.000,  1.000], mean action: 0.667 [0.000, 1.000],  loss: 0.335499, mae: 5.459308, mean_q: 10.988840, mean_eps: 0.870650\n",
            " 1318/9000: episode: 56, duration: 0.158s, episode steps:  18, steps per second: 114, episode reward: 18.000, mean reward:  1.000 [ 1.000,  1.000], mean action: 0.722 [0.000, 1.000],  loss: 0.604155, mae: 5.488459, mean_q: 10.958992, mean_eps: 0.869150\n",
            " 1328/9000: episode: 57, duration: 0.087s, episode steps:  10, steps per second: 115, episode reward: 10.000, mean reward:  1.000 [ 1.000,  1.000], mean action: 0.900 [0.000, 1.000],  loss: 0.264066, mae: 5.639562, mean_q: 11.317328, mean_eps: 0.867750\n",
            " 1399/9000: episode: 58, duration: 0.548s, episode steps:  71, steps per second: 129, episode reward: 71.000, mean reward:  1.000 [ 1.000,  1.000], mean action: 0.493 [0.000, 1.000],  loss: 0.467678, mae: 5.780531, mean_q: 11.580342, mean_eps: 0.863700\n",
            " 1415/9000: episode: 59, duration: 0.122s, episode steps:  16, steps per second: 132, episode reward: 16.000, mean reward:  1.000 [ 1.000,  1.000], mean action: 0.312 [0.000, 1.000],  loss: 0.349326, mae: 5.888531, mean_q: 11.839335, mean_eps: 0.859350\n",
            " 1442/9000: episode: 60, duration: 0.215s, episode steps:  27, steps per second: 125, episode reward: 27.000, mean reward:  1.000 [ 1.000,  1.000], mean action: 0.444 [0.000, 1.000],  loss: 0.658066, mae: 6.034109, mean_q: 11.972078, mean_eps: 0.857200\n",
            " 1487/9000: episode: 61, duration: 0.351s, episode steps:  45, steps per second: 128, episode reward: 45.000, mean reward:  1.000 [ 1.000,  1.000], mean action: 0.511 [0.000, 1.000],  loss: 0.594374, mae: 6.214637, mean_q: 12.343918, mean_eps: 0.853600\n",
            " 1535/9000: episode: 62, duration: 0.371s, episode steps:  48, steps per second: 129, episode reward: 48.000, mean reward:  1.000 [ 1.000,  1.000], mean action: 0.500 [0.000, 1.000],  loss: 0.517406, mae: 6.341774, mean_q: 12.738317, mean_eps: 0.848950\n",
            " 1573/9000: episode: 63, duration: 0.303s, episode steps:  38, steps per second: 125, episode reward: 38.000, mean reward:  1.000 [ 1.000,  1.000], mean action: 0.474 [0.000, 1.000],  loss: 0.475436, mae: 6.551317, mean_q: 13.211021, mean_eps: 0.844650\n",
            " 1584/9000: episode: 64, duration: 0.095s, episode steps:  11, steps per second: 116, episode reward: 11.000, mean reward:  1.000 [ 1.000,  1.000], mean action: 0.364 [0.000, 1.000],  loss: 0.668643, mae: 6.624052, mean_q: 13.291064, mean_eps: 0.842200\n",
            " 1671/9000: episode: 65, duration: 0.636s, episode steps:  87, steps per second: 137, episode reward: 87.000, mean reward:  1.000 [ 1.000,  1.000], mean action: 0.483 [0.000, 1.000],  loss: 0.534026, mae: 6.879647, mean_q: 13.931262, mean_eps: 0.837300\n",
            " 1699/9000: episode: 66, duration: 0.193s, episode steps:  28, steps per second: 145, episode reward: 28.000, mean reward:  1.000 [ 1.000,  1.000], mean action: 0.393 [0.000, 1.000],  loss: 0.527234, mae: 7.137192, mean_q: 14.447806, mean_eps: 0.831550\n",
            " 1760/9000: episode: 67, duration: 0.441s, episode steps:  61, steps per second: 138, episode reward: 61.000, mean reward:  1.000 [ 1.000,  1.000], mean action: 0.574 [0.000, 1.000],  loss: 0.582941, mae: 7.392231, mean_q: 14.969227, mean_eps: 0.827100\n",
            " 1834/9000: episode: 68, duration: 0.586s, episode steps:  74, steps per second: 126, episode reward: 74.000, mean reward:  1.000 [ 1.000,  1.000], mean action: 0.514 [0.000, 1.000],  loss: 0.482548, mae: 7.580570, mean_q: 15.360451, mean_eps: 0.820350\n",
            " 1896/9000: episode: 69, duration: 0.503s, episode steps:  62, steps per second: 123, episode reward: 62.000, mean reward:  1.000 [ 1.000,  1.000], mean action: 0.452 [0.000, 1.000],  loss: 0.656598, mae: 7.910200, mean_q: 16.068115, mean_eps: 0.813550\n",
            " 1914/9000: episode: 70, duration: 0.133s, episode steps:  18, steps per second: 136, episode reward: 18.000, mean reward:  1.000 [ 1.000,  1.000], mean action: 0.556 [0.000, 1.000],  loss: 0.576761, mae: 8.165989, mean_q: 16.646309, mean_eps: 0.809550\n",
            " 2012/9000: episode: 71, duration: 0.701s, episode steps:  98, steps per second: 140, episode reward: 98.000, mean reward:  1.000 [ 1.000,  1.000], mean action: 0.531 [0.000, 1.000],  loss: 0.542339, mae: 8.479762, mean_q: 17.240520, mean_eps: 0.803750\n",
            " 2038/9000: episode: 72, duration: 0.194s, episode steps:  26, steps per second: 134, episode reward: 26.000, mean reward:  1.000 [ 1.000,  1.000], mean action: 0.346 [0.000, 1.000],  loss: 0.514078, mae: 8.842217, mean_q: 18.012454, mean_eps: 0.797550\n",
            " 2055/9000: episode: 73, duration: 0.138s, episode steps:  17, steps per second: 123, episode reward: 17.000, mean reward:  1.000 [ 1.000,  1.000], mean action: 0.353 [0.000, 1.000],  loss: 0.375943, mae: 8.922198, mean_q: 18.272002, mean_eps: 0.795400\n",
            " 2075/9000: episode: 74, duration: 0.159s, episode steps:  20, steps per second: 126, episode reward: 20.000, mean reward:  1.000 [ 1.000,  1.000], mean action: 0.600 [0.000, 1.000],  loss: 0.773702, mae: 8.960008, mean_q: 18.271349, mean_eps: 0.793550\n",
            " 2101/9000: episode: 75, duration: 0.208s, episode steps:  26, steps per second: 125, episode reward: 26.000, mean reward:  1.000 [ 1.000,  1.000], mean action: 0.538 [0.000, 1.000],  loss: 0.985966, mae: 9.085498, mean_q: 18.465956, mean_eps: 0.791250\n",
            " 2149/9000: episode: 76, duration: 0.375s, episode steps:  48, steps per second: 128, episode reward: 48.000, mean reward:  1.000 [ 1.000,  1.000], mean action: 0.458 [0.000, 1.000],  loss: 0.988785, mae: 9.156915, mean_q: 18.657496, mean_eps: 0.787550\n",
            " 2221/9000: episode: 77, duration: 0.527s, episode steps:  72, steps per second: 137, episode reward: 72.000, mean reward:  1.000 [ 1.000,  1.000], mean action: 0.528 [0.000, 1.000],  loss: 0.793389, mae: 9.527621, mean_q: 19.435840, mean_eps: 0.781550\n",
            " 2254/9000: episode: 78, duration: 0.265s, episode steps:  33, steps per second: 125, episode reward: 33.000, mean reward:  1.000 [ 1.000,  1.000], mean action: 0.394 [0.000, 1.000],  loss: 0.977379, mae: 9.827385, mean_q: 20.058676, mean_eps: 0.776300\n",
            " 2314/9000: episode: 79, duration: 0.476s, episode steps:  60, steps per second: 126, episode reward: 60.000, mean reward:  1.000 [ 1.000,  1.000], mean action: 0.500 [0.000, 1.000],  loss: 0.727077, mae: 9.928890, mean_q: 20.383110, mean_eps: 0.771650\n",
            " 2333/9000: episode: 80, duration: 0.139s, episode steps:  19, steps per second: 137, episode reward: 19.000, mean reward:  1.000 [ 1.000,  1.000], mean action: 0.579 [0.000, 1.000],  loss: 1.207895, mae: 10.080647, mean_q: 20.547570, mean_eps: 0.767700\n",
            " 2344/9000: episode: 81, duration: 0.085s, episode steps:  11, steps per second: 130, episode reward: 11.000, mean reward:  1.000 [ 1.000,  1.000], mean action: 0.727 [0.000, 1.000],  loss: 0.884760, mae: 10.420532, mean_q: 21.301078, mean_eps: 0.766200\n",
            " 2396/9000: episode: 82, duration: 0.380s, episode steps:  52, steps per second: 137, episode reward: 52.000, mean reward:  1.000 [ 1.000,  1.000], mean action: 0.481 [0.000, 1.000],  loss: 1.027695, mae: 10.372742, mean_q: 21.304695, mean_eps: 0.763050\n",
            " 2413/9000: episode: 83, duration: 0.126s, episode steps:  17, steps per second: 135, episode reward: 17.000, mean reward:  1.000 [ 1.000,  1.000], mean action: 0.353 [0.000, 1.000],  loss: 0.670223, mae: 10.739432, mean_q: 22.047105, mean_eps: 0.759600\n",
            " 2484/9000: episode: 84, duration: 0.489s, episode steps:  71, steps per second: 145, episode reward: 71.000, mean reward:  1.000 [ 1.000,  1.000], mean action: 0.465 [0.000, 1.000],  loss: 1.001306, mae: 10.909598, mean_q: 22.454325, mean_eps: 0.755200\n",
            " 2498/9000: episode: 85, duration: 0.105s, episode steps:  14, steps per second: 134, episode reward: 14.000, mean reward:  1.000 [ 1.000,  1.000], mean action: 0.357 [0.000, 1.000],  loss: 1.829382, mae: 11.108874, mean_q: 22.475608, mean_eps: 0.750950\n",
            " 2538/9000: episode: 86, duration: 0.304s, episode steps:  40, steps per second: 132, episode reward: 40.000, mean reward:  1.000 [ 1.000,  1.000], mean action: 0.475 [0.000, 1.000],  loss: 0.979916, mae: 11.206561, mean_q: 22.974243, mean_eps: 0.748250\n",
            " 2616/9000: episode: 87, duration: 0.572s, episode steps:  78, steps per second: 136, episode reward: 78.000, mean reward:  1.000 [ 1.000,  1.000], mean action: 0.538 [0.000, 1.000],  loss: 0.964497, mae: 11.431744, mean_q: 23.419776, mean_eps: 0.742350\n",
            " 2701/9000: episode: 88, duration: 0.618s, episode steps:  85, steps per second: 137, episode reward: 85.000, mean reward:  1.000 [ 1.000,  1.000], mean action: 0.471 [0.000, 1.000],  loss: 1.298498, mae: 11.999732, mean_q: 24.527031, mean_eps: 0.734200\n",
            " 2719/9000: episode: 89, duration: 0.131s, episode steps:  18, steps per second: 138, episode reward: 18.000, mean reward:  1.000 [ 1.000,  1.000], mean action: 0.667 [0.000, 1.000],  loss: 1.355428, mae: 12.389897, mean_q: 25.282253, mean_eps: 0.729050\n",
            " 2740/9000: episode: 90, duration: 0.154s, episode steps:  21, steps per second: 136, episode reward: 21.000, mean reward:  1.000 [ 1.000,  1.000], mean action: 0.619 [0.000, 1.000],  loss: 1.343656, mae: 12.494704, mean_q: 25.511139, mean_eps: 0.727100\n",
            " 2791/9000: episode: 91, duration: 0.372s, episode steps:  51, steps per second: 137, episode reward: 51.000, mean reward:  1.000 [ 1.000,  1.000], mean action: 0.510 [0.000, 1.000],  loss: 1.108002, mae: 12.442808, mean_q: 25.548322, mean_eps: 0.723500\n",
            " 2824/9000: episode: 92, duration: 0.242s, episode steps:  33, steps per second: 136, episode reward: 33.000, mean reward:  1.000 [ 1.000,  1.000], mean action: 0.485 [0.000, 1.000],  loss: 1.605261, mae: 12.629423, mean_q: 25.938785, mean_eps: 0.719300\n",
            " 2919/9000: episode: 93, duration: 0.667s, episode steps:  95, steps per second: 142, episode reward: 95.000, mean reward:  1.000 [ 1.000,  1.000], mean action: 0.516 [0.000, 1.000],  loss: 1.129068, mae: 13.145620, mean_q: 26.886426, mean_eps: 0.712900\n",
            " 3065/9000: episode: 94, duration: 1.024s, episode steps: 146, steps per second: 143, episode reward: 146.000, mean reward:  1.000 [ 1.000,  1.000], mean action: 0.486 [0.000, 1.000],  loss: 1.307083, mae: 13.702606, mean_q: 28.049325, mean_eps: 0.700850\n",
            " 3082/9000: episode: 95, duration: 0.139s, episode steps:  17, steps per second: 122, episode reward: 17.000, mean reward:  1.000 [ 1.000,  1.000], mean action: 0.529 [0.000, 1.000],  loss: 1.018911, mae: 14.103589, mean_q: 28.800644, mean_eps: 0.692700\n",
            " 3094/9000: episode: 96, duration: 0.096s, episode steps:  12, steps per second: 125, episode reward: 12.000, mean reward:  1.000 [ 1.000,  1.000], mean action: 0.250 [0.000, 1.000],  loss: 0.578689, mae: 14.193714, mean_q: 29.323449, mean_eps: 0.691250\n",
            " 3111/9000: episode: 97, duration: 0.125s, episode steps:  17, steps per second: 136, episode reward: 17.000, mean reward:  1.000 [ 1.000,  1.000], mean action: 0.647 [0.000, 1.000],  loss: 1.752828, mae: 14.436139, mean_q: 29.656753, mean_eps: 0.689800\n",
            " 3216/9000: episode: 98, duration: 0.734s, episode steps: 105, steps per second: 143, episode reward: 105.000, mean reward:  1.000 [ 1.000,  1.000], mean action: 0.505 [0.000, 1.000],  loss: 1.258812, mae: 14.620254, mean_q: 30.049574, mean_eps: 0.683700\n",
            " 3372/9000: episode: 99, duration: 1.127s, episode steps: 156, steps per second: 138, episode reward: 156.000, mean reward:  1.000 [ 1.000,  1.000], mean action: 0.513 [0.000, 1.000],  loss: 1.406774, mae: 15.547369, mean_q: 31.801886, mean_eps: 0.670650\n",
            " 3471/9000: episode: 100, duration: 0.755s, episode steps:  99, steps per second: 131, episode reward: 99.000, mean reward:  1.000 [ 1.000,  1.000], mean action: 0.475 [0.000, 1.000],  loss: 1.938498, mae: 16.340333, mean_q: 33.393324, mean_eps: 0.657900\n",
            " 3495/9000: episode: 101, duration: 0.193s, episode steps:  24, steps per second: 125, episode reward: 24.000, mean reward:  1.000 [ 1.000,  1.000], mean action: 0.417 [0.000, 1.000],  loss: 2.878024, mae: 16.740507, mean_q: 34.180549, mean_eps: 0.651750\n",
            " 3598/9000: episode: 102, duration: 0.782s, episode steps: 103, steps per second: 132, episode reward: 103.000, mean reward:  1.000 [ 1.000,  1.000], mean action: 0.515 [0.000, 1.000],  loss: 2.300614, mae: 16.639313, mean_q: 34.009885, mean_eps: 0.645400\n",
            " 3727/9000: episode: 103, duration: 0.936s, episode steps: 129, steps per second: 138, episode reward: 129.000, mean reward:  1.000 [ 1.000,  1.000], mean action: 0.473 [0.000, 1.000],  loss: 1.875145, mae: 17.340598, mean_q: 35.368986, mean_eps: 0.633800\n",
            " 3871/9000: episode: 104, duration: 1.040s, episode steps: 144, steps per second: 138, episode reward: 144.000, mean reward:  1.000 [ 1.000,  1.000], mean action: 0.486 [0.000, 1.000],  loss: 2.361114, mae: 18.043883, mean_q: 36.916674, mean_eps: 0.620150\n",
            " 3926/9000: episode: 105, duration: 0.440s, episode steps:  55, steps per second: 125, episode reward: 55.000, mean reward:  1.000 [ 1.000,  1.000], mean action: 0.473 [0.000, 1.000],  loss: 1.839889, mae: 18.607753, mean_q: 38.035928, mean_eps: 0.610200\n",
            " 4056/9000: episode: 106, duration: 1.012s, episode steps: 130, steps per second: 128, episode reward: 130.000, mean reward:  1.000 [ 1.000,  1.000], mean action: 0.469 [0.000, 1.000],  loss: 2.024190, mae: 18.985373, mean_q: 38.854820, mean_eps: 0.600950\n",
            " 4109/9000: episode: 107, duration: 0.420s, episode steps:  53, steps per second: 126, episode reward: 53.000, mean reward:  1.000 [ 1.000,  1.000], mean action: 0.528 [0.000, 1.000],  loss: 2.199698, mae: 19.482338, mean_q: 39.953691, mean_eps: 0.591800\n",
            " 4151/9000: episode: 108, duration: 0.330s, episode steps:  42, steps per second: 127, episode reward: 42.000, mean reward:  1.000 [ 1.000,  1.000], mean action: 0.429 [0.000, 1.000],  loss: 2.052058, mae: 19.788959, mean_q: 40.510065, mean_eps: 0.587050\n",
            " 4351/9000: episode: 109, duration: 1.452s, episode steps: 200, steps per second: 138, episode reward: 200.000, mean reward:  1.000 [ 1.000,  1.000], mean action: 0.485 [0.000, 1.000],  loss: 2.811010, mae: 20.560295, mean_q: 41.991383, mean_eps: 0.574950\n",
            " 4487/9000: episode: 110, duration: 0.942s, episode steps: 136, steps per second: 144, episode reward: 136.000, mean reward:  1.000 [ 1.000,  1.000], mean action: 0.478 [0.000, 1.000],  loss: 3.796279, mae: 21.250847, mean_q: 43.430128, mean_eps: 0.558150\n",
            " 4503/9000: episode: 111, duration: 0.119s, episode steps:  16, steps per second: 134, episode reward: 16.000, mean reward:  1.000 [ 1.000,  1.000], mean action: 0.562 [0.000, 1.000],  loss: 2.255674, mae: 22.037001, mean_q: 44.947977, mean_eps: 0.550550\n",
            " 4561/9000: episode: 112, duration: 0.408s, episode steps:  58, steps per second: 142, episode reward: 58.000, mean reward:  1.000 [ 1.000,  1.000], mean action: 0.466 [0.000, 1.000],  loss: 2.543129, mae: 21.722101, mean_q: 44.653337, mean_eps: 0.546850\n",
            " 4719/9000: episode: 113, duration: 1.173s, episode steps: 158, steps per second: 135, episode reward: 158.000, mean reward:  1.000 [ 1.000,  1.000], mean action: 0.462 [0.000, 1.000],  loss: 3.491591, mae: 22.504773, mean_q: 45.930552, mean_eps: 0.536050\n",
            " 4793/9000: episode: 114, duration: 0.563s, episode steps:  74, steps per second: 132, episode reward: 74.000, mean reward:  1.000 [ 1.000,  1.000], mean action: 0.500 [0.000, 1.000],  loss: 3.493103, mae: 23.038772, mean_q: 46.910503, mean_eps: 0.524450\n",
            " 4824/9000: episode: 115, duration: 0.243s, episode steps:  31, steps per second: 127, episode reward: 31.000, mean reward:  1.000 [ 1.000,  1.000], mean action: 0.419 [0.000, 1.000],  loss: 3.790220, mae: 23.210777, mean_q: 47.566604, mean_eps: 0.519200\n",
            " 4918/9000: episode: 116, duration: 0.733s, episode steps:  94, steps per second: 128, episode reward: 94.000, mean reward:  1.000 [ 1.000,  1.000], mean action: 0.511 [0.000, 1.000],  loss: 4.170955, mae: 23.416973, mean_q: 47.879316, mean_eps: 0.512950\n",
            " 4992/9000: episode: 117, duration: 0.575s, episode steps:  74, steps per second: 129, episode reward: 74.000, mean reward:  1.000 [ 1.000,  1.000], mean action: 0.541 [0.000, 1.000],  loss: 4.145476, mae: 23.944843, mean_q: 48.792292, mean_eps: 0.504550\n",
            " 5026/9000: episode: 118, duration: 0.263s, episode steps:  34, steps per second: 129, episode reward: 34.000, mean reward:  1.000 [ 1.000,  1.000], mean action: 0.471 [0.000, 1.000],  loss: 2.428374, mae: 24.164475, mean_q: 49.517507, mean_eps: 0.499150\n",
            " 5042/9000: episode: 119, duration: 0.128s, episode steps:  16, steps per second: 125, episode reward: 16.000, mean reward:  1.000 [ 1.000,  1.000], mean action: 0.562 [0.000, 1.000],  loss: 3.246080, mae: 24.025935, mean_q: 49.547079, mean_eps: 0.496650\n",
            " 5114/9000: episode: 120, duration: 0.551s, episode steps:  72, steps per second: 131, episode reward: 72.000, mean reward:  1.000 [ 1.000,  1.000], mean action: 0.514 [0.000, 1.000],  loss: 3.093593, mae: 24.627429, mean_q: 50.484903, mean_eps: 0.492250\n",
            " 5172/9000: episode: 121, duration: 0.406s, episode steps:  58, steps per second: 143, episode reward: 58.000, mean reward:  1.000 [ 1.000,  1.000], mean action: 0.448 [0.000, 1.000],  loss: 3.268276, mae: 24.646931, mean_q: 50.439765, mean_eps: 0.485750\n",
            " 5275/9000: episode: 122, duration: 0.750s, episode steps: 103, steps per second: 137, episode reward: 103.000, mean reward:  1.000 [ 1.000,  1.000], mean action: 0.485 [0.000, 1.000],  loss: 4.645920, mae: 25.410505, mean_q: 51.786016, mean_eps: 0.477700\n",
            " 5424/9000: episode: 123, duration: 1.052s, episode steps: 149, steps per second: 142, episode reward: 149.000, mean reward:  1.000 [ 1.000,  1.000], mean action: 0.477 [0.000, 1.000],  loss: 3.653549, mae: 25.906815, mean_q: 52.785114, mean_eps: 0.465100\n",
            " 5450/9000: episode: 124, duration: 0.192s, episode steps:  26, steps per second: 136, episode reward: 26.000, mean reward:  1.000 [ 1.000,  1.000], mean action: 0.500 [0.000, 1.000],  loss: 6.139588, mae: 26.592692, mean_q: 54.225995, mean_eps: 0.456350\n",
            " 5478/9000: episode: 125, duration: 0.203s, episode steps:  28, steps per second: 138, episode reward: 28.000, mean reward:  1.000 [ 1.000,  1.000], mean action: 0.571 [0.000, 1.000],  loss: 3.167807, mae: 26.188861, mean_q: 53.310820, mean_eps: 0.453650\n",
            " 5629/9000: episode: 126, duration: 1.175s, episode steps: 151, steps per second: 129, episode reward: 151.000, mean reward:  1.000 [ 1.000,  1.000], mean action: 0.483 [0.000, 1.000],  loss: 4.347598, mae: 26.818576, mean_q: 54.836489, mean_eps: 0.444700\n",
            " 5805/9000: episode: 127, duration: 1.340s, episode steps: 176, steps per second: 131, episode reward: 176.000, mean reward:  1.000 [ 1.000,  1.000], mean action: 0.472 [0.000, 1.000],  loss: 4.178237, mae: 27.598991, mean_q: 56.370841, mean_eps: 0.428350\n",
            " 5972/9000: episode: 128, duration: 1.161s, episode steps: 167, steps per second: 144, episode reward: 167.000, mean reward:  1.000 [ 1.000,  1.000], mean action: 0.491 [0.000, 1.000],  loss: 4.556279, mae: 28.282358, mean_q: 57.585046, mean_eps: 0.411200\n",
            " 6042/9000: episode: 129, duration: 0.506s, episode steps:  70, steps per second: 138, episode reward: 70.000, mean reward:  1.000 [ 1.000,  1.000], mean action: 0.500 [0.000, 1.000],  loss: 4.544607, mae: 28.437295, mean_q: 58.364224, mean_eps: 0.399350\n",
            " 6230/9000: episode: 130, duration: 1.348s, episode steps: 188, steps per second: 139, episode reward: 188.000, mean reward:  1.000 [ 1.000,  1.000], mean action: 0.473 [0.000, 1.000],  loss: 4.552539, mae: 29.365365, mean_q: 59.957202, mean_eps: 0.386450\n",
            " 6364/9000: episode: 131, duration: 1.022s, episode steps: 134, steps per second: 131, episode reward: 134.000, mean reward:  1.000 [ 1.000,  1.000], mean action: 0.463 [0.000, 1.000],  loss: 5.574518, mae: 29.895447, mean_q: 60.936971, mean_eps: 0.370350\n",
            " 6564/9000: episode: 132, duration: 1.598s, episode steps: 200, steps per second: 125, episode reward: 200.000, mean reward:  1.000 [ 1.000,  1.000], mean action: 0.480 [0.000, 1.000],  loss: 5.724775, mae: 30.448618, mean_q: 62.152525, mean_eps: 0.353650\n",
            " 6764/9000: episode: 133, duration: 1.462s, episode steps: 200, steps per second: 137, episode reward: 200.000, mean reward:  1.000 [ 1.000,  1.000], mean action: 0.475 [0.000, 1.000],  loss: 6.373934, mae: 31.165863, mean_q: 63.468209, mean_eps: 0.333650\n",
            " 6964/9000: episode: 134, duration: 1.501s, episode steps: 200, steps per second: 133, episode reward: 200.000, mean reward:  1.000 [ 1.000,  1.000], mean action: 0.495 [0.000, 1.000],  loss: 4.981392, mae: 31.836059, mean_q: 64.961344, mean_eps: 0.313650\n",
            " 7164/9000: episode: 135, duration: 1.479s, episode steps: 200, steps per second: 135, episode reward: 200.000, mean reward:  1.000 [ 1.000,  1.000], mean action: 0.490 [0.000, 1.000],  loss: 4.925962, mae: 32.788886, mean_q: 66.894108, mean_eps: 0.293650\n",
            " 7364/9000: episode: 136, duration: 1.478s, episode steps: 200, steps per second: 135, episode reward: 200.000, mean reward:  1.000 [ 1.000,  1.000], mean action: 0.485 [0.000, 1.000],  loss: 6.945759, mae: 33.527060, mean_q: 68.374432, mean_eps: 0.273650\n",
            " 7462/9000: episode: 137, duration: 0.743s, episode steps:  98, steps per second: 132, episode reward: 98.000, mean reward:  1.000 [ 1.000,  1.000], mean action: 0.480 [0.000, 1.000],  loss: 7.481930, mae: 34.092132, mean_q: 69.414458, mean_eps: 0.258750\n",
            " 7662/9000: episode: 138, duration: 1.430s, episode steps: 200, steps per second: 140, episode reward: 200.000, mean reward:  1.000 [ 1.000,  1.000], mean action: 0.490 [0.000, 1.000],  loss: 5.633391, mae: 34.627532, mean_q: 70.507115, mean_eps: 0.243850\n",
            " 7862/9000: episode: 139, duration: 1.499s, episode steps: 200, steps per second: 133, episode reward: 200.000, mean reward:  1.000 [ 1.000,  1.000], mean action: 0.500 [0.000, 1.000],  loss: 5.590197, mae: 35.420550, mean_q: 72.184106, mean_eps: 0.223850\n",
            " 8062/9000: episode: 140, duration: 1.515s, episode steps: 200, steps per second: 132, episode reward: 200.000, mean reward:  1.000 [ 1.000,  1.000], mean action: 0.485 [0.000, 1.000],  loss: 7.451679, mae: 36.238639, mean_q: 73.763072, mean_eps: 0.203850\n",
            " 8262/9000: episode: 141, duration: 1.532s, episode steps: 200, steps per second: 131, episode reward: 200.000, mean reward:  1.000 [ 1.000,  1.000], mean action: 0.485 [0.000, 1.000],  loss: 6.906288, mae: 36.663602, mean_q: 74.482204, mean_eps: 0.183850\n",
            " 8462/9000: episode: 142, duration: 1.482s, episode steps: 200, steps per second: 135, episode reward: 200.000, mean reward:  1.000 [ 1.000,  1.000], mean action: 0.490 [0.000, 1.000],  loss: 6.033825, mae: 37.366434, mean_q: 76.075939, mean_eps: 0.163850\n",
            " 8662/9000: episode: 143, duration: 1.408s, episode steps: 200, steps per second: 142, episode reward: 200.000, mean reward:  1.000 [ 1.000,  1.000], mean action: 0.500 [0.000, 1.000],  loss: 8.827579, mae: 37.947239, mean_q: 77.051977, mean_eps: 0.143850\n",
            " 8862/9000: episode: 144, duration: 1.413s, episode steps: 200, steps per second: 142, episode reward: 200.000, mean reward:  1.000 [ 1.000,  1.000], mean action: 0.515 [0.000, 1.000],  loss: 7.210514, mae: 38.595548, mean_q: 78.398544, mean_eps: 0.123850\n",
            "done, took 68.330 seconds\n"
          ],
          "name": "stdout"
        },
        {
          "output_type": "display_data",
          "data": {
            "image/png": "[encoded data removed]",
            "text/plain": [
              "<Figure size 432x288 with 1 Axes>"
            ]
          },
          "metadata": {
            "tags": [],
            "needs_background": "light"
          }
        },
        {
          "output_type": "stream",
          "text": [
            "Testing for 20 episodes ...\n",
            "Episode 1: reward: 200.000, steps: 200\n",
            "Episode 2: reward: 200.000, steps: 200\n",
            "Episode 3: reward: 200.000, steps: 200\n",
            "Episode 4: reward: 200.000, steps: 200\n",
            "Episode 5: reward: 200.000, steps: 200\n",
            "Episode 6: reward: 200.000, steps: 200\n",
            "Episode 7: reward: 200.000, steps: 200\n",
            "Episode 8: reward: 200.000, steps: 200\n",
            "Episode 9: reward: 200.000, steps: 200\n",
            "Episode 10: reward: 200.000, steps: 200\n",
            "Episode 11: reward: 200.000, steps: 200\n",
            "Episode 12: reward: 200.000, steps: 200\n",
            "Episode 13: reward: 200.000, steps: 200\n",
            "Episode 14: reward: 200.000, steps: 200\n",
            "Episode 15: reward: 200.000, steps: 200\n",
            "Episode 16: reward: 200.000, steps: 200\n",
            "Episode 17: reward: 200.000, steps: 200\n",
            "Episode 18: reward: 200.000, steps: 200\n",
            "Episode 19: reward: 200.000, steps: 200\n",
            "Episode 20: reward: 200.000, steps: 200\n"
          ],
          "name": "stdout"
        },
        {
          "output_type": "execute_result",
          "data": {
            "text/plain": [
              "<tensorflow.python.keras.callbacks.History at 0x7f2825e8e6d0>"
            ]
          },
          "metadata": {
            "tags": []
          },
          "execution_count": 6
        }
      ]
    }
  ]
}