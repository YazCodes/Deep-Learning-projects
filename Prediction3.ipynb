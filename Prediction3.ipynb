{
  "nbformat": 4,
  "nbformat_minor": 0,
  "metadata": {
    "colab": {
      "name": "Prediction3.ipynb",
      "provenance": [],
      "authorship_tag": "ABX9TyPvwrqi9In0pj1VHnFUX5dt",
      "include_colab_link": true
    },
    "kernelspec": {
      "name": "python3",
      "display_name": "Python 3"
    },
    "language_info": {
      "name": "python"
    }
  },
  "cells": [
    {
      "cell_type": "markdown",
      "metadata": {
        "id": "view-in-github",
        "colab_type": "text"
      },
      "source": [
        "<a href=\"https://colab.research.google.com/github/YazCodes/Deep-Learning-projects/blob/main/Prediction3.ipynb\" target=\"_parent\"><img src=\"https://colab.research.google.com/assets/colab-badge.svg\" alt=\"Open In Colab\"/></a>"
      ]
    },
    {
      "cell_type": "markdown",
      "metadata": {
        "id": "_CUKWUcft3Hg"
      },
      "source": [
        "DQN for cartpole"
      ]
    },
    {
      "cell_type": "code",
      "metadata": {
        "colab": {
          "base_uri": "https://localhost:8080/"
        },
        "id": "aQNVaN0XtuNB",
        "outputId": "a0dddcd4-7e11-4081-97ed-26791a02eac8"
      },
      "source": [
        "# install keras rl2 (we need to install keras-rl2 so it works with the tensorflow 2 version that comes pre-installed with colab)\n",
        "!pip install keras-rl2"
      ],
      "execution_count": 1,
      "outputs": [
        {
          "output_type": "stream",
          "text": [
            "Collecting keras-rl2\n",
            "\u001b[?25l  Downloading https://files.pythonhosted.org/packages/dd/34/94ffeab44eef43e22a01d82aa0ca062a97392c2c2415ba8b210e72053285/keras_rl2-1.0.4-py3-none-any.whl (53kB)\n",
            "\r\u001b[K     |██████▏                         | 10kB 15.2MB/s eta 0:00:01\r\u001b[K     |████████████▎                   | 20kB 18.3MB/s eta 0:00:01\r\u001b[K     |██████████████████▌             | 30kB 10.0MB/s eta 0:00:01\r\u001b[K     |████████████████████████▋       | 40kB 8.2MB/s eta 0:00:01\r\u001b[K     |██████████████████████████████▉ | 51kB 4.8MB/s eta 0:00:01\r\u001b[K     |████████████████████████████████| 61kB 3.1MB/s \n",
            "\u001b[?25hRequirement already satisfied: tensorflow>=2.1.0 in /usr/local/lib/python3.7/dist-packages (from keras-rl2) (2.4.1)\n",
            "Requirement already satisfied: gast==0.3.3 in /usr/local/lib/python3.7/dist-packages (from tensorflow>=2.1.0->keras-rl2) (0.3.3)\n",
            "Requirement already satisfied: astunparse~=1.6.3 in /usr/local/lib/python3.7/dist-packages (from tensorflow>=2.1.0->keras-rl2) (1.6.3)\n",
            "Requirement already satisfied: h5py~=2.10.0 in /usr/local/lib/python3.7/dist-packages (from tensorflow>=2.1.0->keras-rl2) (2.10.0)\n",
            "Requirement already satisfied: tensorboard~=2.4 in /usr/local/lib/python3.7/dist-packages (from tensorflow>=2.1.0->keras-rl2) (2.4.1)\n",
            "Requirement already satisfied: grpcio~=1.32.0 in /usr/local/lib/python3.7/dist-packages (from tensorflow>=2.1.0->keras-rl2) (1.32.0)\n",
            "Requirement already satisfied: keras-preprocessing~=1.1.2 in /usr/local/lib/python3.7/dist-packages (from tensorflow>=2.1.0->keras-rl2) (1.1.2)\n",
            "Requirement already satisfied: tensorflow-estimator<2.5.0,>=2.4.0 in /usr/local/lib/python3.7/dist-packages (from tensorflow>=2.1.0->keras-rl2) (2.4.0)\n",
            "Requirement already satisfied: flatbuffers~=1.12.0 in /usr/local/lib/python3.7/dist-packages (from tensorflow>=2.1.0->keras-rl2) (1.12)\n",
            "Requirement already satisfied: typing-extensions~=3.7.4 in /usr/local/lib/python3.7/dist-packages (from tensorflow>=2.1.0->keras-rl2) (3.7.4.3)\n",
            "Requirement already satisfied: six~=1.15.0 in /usr/local/lib/python3.7/dist-packages (from tensorflow>=2.1.0->keras-rl2) (1.15.0)\n",
            "Requirement already satisfied: protobuf>=3.9.2 in /usr/local/lib/python3.7/dist-packages (from tensorflow>=2.1.0->keras-rl2) (3.12.4)\n",
            "Requirement already satisfied: wrapt~=1.12.1 in /usr/local/lib/python3.7/dist-packages (from tensorflow>=2.1.0->keras-rl2) (1.12.1)\n",
            "Requirement already satisfied: opt-einsum~=3.3.0 in /usr/local/lib/python3.7/dist-packages (from tensorflow>=2.1.0->keras-rl2) (3.3.0)\n",
            "Requirement already satisfied: termcolor~=1.1.0 in /usr/local/lib/python3.7/dist-packages (from tensorflow>=2.1.0->keras-rl2) (1.1.0)\n",
            "Requirement already satisfied: wheel~=0.35 in /usr/local/lib/python3.7/dist-packages (from tensorflow>=2.1.0->keras-rl2) (0.36.2)\n",
            "Requirement already satisfied: numpy~=1.19.2 in /usr/local/lib/python3.7/dist-packages (from tensorflow>=2.1.0->keras-rl2) (1.19.5)\n",
            "Requirement already satisfied: google-pasta~=0.2 in /usr/local/lib/python3.7/dist-packages (from tensorflow>=2.1.0->keras-rl2) (0.2.0)\n",
            "Requirement already satisfied: absl-py~=0.10 in /usr/local/lib/python3.7/dist-packages (from tensorflow>=2.1.0->keras-rl2) (0.10.0)\n",
            "Requirement already satisfied: requests<3,>=2.21.0 in /usr/local/lib/python3.7/dist-packages (from tensorboard~=2.4->tensorflow>=2.1.0->keras-rl2) (2.23.0)\n",
            "Requirement already satisfied: tensorboard-plugin-wit>=1.6.0 in /usr/local/lib/python3.7/dist-packages (from tensorboard~=2.4->tensorflow>=2.1.0->keras-rl2) (1.8.0)\n",
            "Requirement already satisfied: markdown>=2.6.8 in /usr/local/lib/python3.7/dist-packages (from tensorboard~=2.4->tensorflow>=2.1.0->keras-rl2) (3.3.4)\n",
            "Requirement already satisfied: setuptools>=41.0.0 in /usr/local/lib/python3.7/dist-packages (from tensorboard~=2.4->tensorflow>=2.1.0->keras-rl2) (54.1.2)\n",
            "Requirement already satisfied: google-auth-oauthlib<0.5,>=0.4.1 in /usr/local/lib/python3.7/dist-packages (from tensorboard~=2.4->tensorflow>=2.1.0->keras-rl2) (0.4.3)\n",
            "Requirement already satisfied: google-auth<2,>=1.6.3 in /usr/local/lib/python3.7/dist-packages (from tensorboard~=2.4->tensorflow>=2.1.0->keras-rl2) (1.27.1)\n",
            "Requirement already satisfied: werkzeug>=0.11.15 in /usr/local/lib/python3.7/dist-packages (from tensorboard~=2.4->tensorflow>=2.1.0->keras-rl2) (1.0.1)\n",
            "Requirement already satisfied: certifi>=2017.4.17 in /usr/local/lib/python3.7/dist-packages (from requests<3,>=2.21.0->tensorboard~=2.4->tensorflow>=2.1.0->keras-rl2) (2020.12.5)\n",
            "Requirement already satisfied: chardet<4,>=3.0.2 in /usr/local/lib/python3.7/dist-packages (from requests<3,>=2.21.0->tensorboard~=2.4->tensorflow>=2.1.0->keras-rl2) (3.0.4)\n",
            "Requirement already satisfied: urllib3!=1.25.0,!=1.25.1,<1.26,>=1.21.1 in /usr/local/lib/python3.7/dist-packages (from requests<3,>=2.21.0->tensorboard~=2.4->tensorflow>=2.1.0->keras-rl2) (1.24.3)\n",
            "Requirement already satisfied: idna<3,>=2.5 in /usr/local/lib/python3.7/dist-packages (from requests<3,>=2.21.0->tensorboard~=2.4->tensorflow>=2.1.0->keras-rl2) (2.10)\n",
            "Requirement already satisfied: importlib-metadata; python_version < \"3.8\" in /usr/local/lib/python3.7/dist-packages (from markdown>=2.6.8->tensorboard~=2.4->tensorflow>=2.1.0->keras-rl2) (3.7.2)\n",
            "Requirement already satisfied: requests-oauthlib>=0.7.0 in /usr/local/lib/python3.7/dist-packages (from google-auth-oauthlib<0.5,>=0.4.1->tensorboard~=2.4->tensorflow>=2.1.0->keras-rl2) (1.3.0)\n",
            "Requirement already satisfied: cachetools<5.0,>=2.0.0 in /usr/local/lib/python3.7/dist-packages (from google-auth<2,>=1.6.3->tensorboard~=2.4->tensorflow>=2.1.0->keras-rl2) (4.2.1)\n",
            "Requirement already satisfied: pyasn1-modules>=0.2.1 in /usr/local/lib/python3.7/dist-packages (from google-auth<2,>=1.6.3->tensorboard~=2.4->tensorflow>=2.1.0->keras-rl2) (0.2.8)\n",
            "Requirement already satisfied: rsa<5,>=3.1.4; python_version >= \"3.6\" in /usr/local/lib/python3.7/dist-packages (from google-auth<2,>=1.6.3->tensorboard~=2.4->tensorflow>=2.1.0->keras-rl2) (4.7.2)\n",
            "Requirement already satisfied: zipp>=0.5 in /usr/local/lib/python3.7/dist-packages (from importlib-metadata; python_version < \"3.8\"->markdown>=2.6.8->tensorboard~=2.4->tensorflow>=2.1.0->keras-rl2) (3.4.1)\n",
            "Requirement already satisfied: oauthlib>=3.0.0 in /usr/local/lib/python3.7/dist-packages (from requests-oauthlib>=0.7.0->google-auth-oauthlib<0.5,>=0.4.1->tensorboard~=2.4->tensorflow>=2.1.0->keras-rl2) (3.1.0)\n",
            "Requirement already satisfied: pyasn1<0.5.0,>=0.4.6 in /usr/local/lib/python3.7/dist-packages (from pyasn1-modules>=0.2.1->google-auth<2,>=1.6.3->tensorboard~=2.4->tensorflow>=2.1.0->keras-rl2) (0.4.8)\n",
            "Installing collected packages: keras-rl2\n",
            "Successfully installed keras-rl2-1.0.4\n"
          ],
          "name": "stdout"
        }
      ]
    },
    {
      "cell_type": "code",
      "metadata": {
        "colab": {
          "base_uri": "https://localhost:8080/"
        },
        "id": "zr6MBOzWuFJY",
        "outputId": "0661446d-e197-48b3-c075-8798094585ce"
      },
      "source": [
        "!pip install gym"
      ],
      "execution_count": 2,
      "outputs": [
        {
          "output_type": "stream",
          "text": [
            "Requirement already satisfied: gym in /usr/local/lib/python3.7/dist-packages (0.17.3)\n",
            "Requirement already satisfied: scipy in /usr/local/lib/python3.7/dist-packages (from gym) (1.4.1)\n",
            "Requirement already satisfied: numpy>=1.10.4 in /usr/local/lib/python3.7/dist-packages (from gym) (1.19.5)\n",
            "Requirement already satisfied: cloudpickle<1.7.0,>=1.2.0 in /usr/local/lib/python3.7/dist-packages (from gym) (1.3.0)\n",
            "Requirement already satisfied: pyglet<=1.5.0,>=1.4.0 in /usr/local/lib/python3.7/dist-packages (from gym) (1.5.0)\n",
            "Requirement already satisfied: future in /usr/local/lib/python3.7/dist-packages (from pyglet<=1.5.0,>=1.4.0->gym) (0.16.0)\n"
          ],
          "name": "stdout"
        }
      ]
    },
    {
      "cell_type": "code",
      "metadata": {
        "id": "VCP8mBGnuJ1E"
      },
      "source": [
        "# load the gym module\n",
        "import gym\n",
        "import matplotlib.pyplot as plt\n",
        "# import the usual Keras modules for creating deep neural networks\n",
        "from keras import Sequential\n",
        "from keras.layers import Input, Flatten, Dense\n",
        "from keras.optimizers import Adam\n",
        "\n",
        "ENV_NAME = 'CartPole-v0'\n",
        "env = gym.make(ENV_NAME)"
      ],
      "execution_count": 4,
      "outputs": []
    },
    {
      "cell_type": "code",
      "metadata": {
        "colab": {
          "base_uri": "https://localhost:8080/"
        },
        "id": "mhQ1EbZLwhWD",
        "outputId": "36b2cf90-80ea-4cda-8073-d688fcc5cac6"
      },
      "source": [
        "print(env.observation_space.shape) #gives us a tupel. 0 is the first element of the tupel"
      ],
      "execution_count": 5,
      "outputs": [
        {
          "output_type": "stream",
          "text": [
            "(4,)\n"
          ],
          "name": "stdout"
        }
      ]
    },
    {
      "cell_type": "code",
      "metadata": {
        "colab": {
          "base_uri": "https://localhost:8080/"
        },
        "id": "eUIQR1wtxnwL",
        "outputId": "2a7a65d4-44cf-4a08-faa8-beeaefa45504"
      },
      "source": [
        "#number of actions \n",
        "print(env.action_space.n)"
      ],
      "execution_count": 6,
      "outputs": [
        {
          "output_type": "stream",
          "text": [
            "2\n"
          ],
          "name": "stdout"
        }
      ]
    },
    {
      "cell_type": "code",
      "metadata": {
        "colab": {
          "base_uri": "https://localhost:8080/",
          "height": 1000
        },
        "id": "dEJwofrluTC2",
        "outputId": "b75b412a-3be2-4f82-8072-786639f9d989"
      },
      "source": [
        "import rl\n",
        "from rl.memory import SequentialMemory  # import the exerience replay buffer module\n",
        "from rl.policy import BoltzmannQPolicy, LinearAnnealedPolicy  # import the policy\n",
        "from rl.agents.dqn import DQNAgent      # import the DQN agent\n",
        "\n",
        "memory = SequentialMemory(limit=10000, window_length=1) #setting up the experince replay buffer\n",
        "#limit = the numer of steps of episodes stored in the replay buffer\n",
        "\n",
        "# define the policy (how we select the actions)\n",
        "# setup the Linear annealed policy with the BoltzmannQPolicy as the inner policy\n",
        "policy =  LinearAnnealedPolicy(inner_policy=BoltzmannQPolicy(),   # policy used to select actions\n",
        "                               attr='tau',                        # attribute in the inner policy to vary             \n",
        "                               value_max=1,                       # maximum value of attribute that is varying\n",
        "                               value_min=.1,                      # minimum value of attribute that is varying\n",
        "                               value_test=.05,                    # test if the value selected is < 0.05\n",
        "                               nb_steps=10000)                    # the number of steps between value_max and value_min\n",
        "#BoltzmannQPolicy has a paramaeter tau the higher the value of tau more exploaration will be down. Lower value = less exploration\n",
        "#default value of tau is one -\n",
        "#need to change the value_max and value_min. \n",
        "# Q-Network\n",
        "model = Sequential() #sequnetial model \n",
        "model.add(Input(shape=(1,env.observation_space.shape[0]))) # 1 = one observation and env.observation_space.shape is the number of states within our observation. 0 = the first element of the tupel\n",
        "model.add(Flatten())\n",
        "# extra layers here\n",
        "model.add(Dense(16, activation='relu')) #one layer network\n",
        "model.add(Dense(env.action_space.n, activation='linear'))   # the output is the number of actions in the action space. Activation has to be linear due to how the q value does its calculation\n",
        "print(model.summary())\n",
        "\n",
        "# define the agent using the DQNAgent class\n",
        "dqn = DQNAgent(model=model,                     # Q-Network model created above ^\n",
        "               nb_actions=env.action_space.n,   # number of actions used above - the data from the enviroment\n",
        "               memory=memory,                   # experience replay memory\n",
        "               nb_steps_warmup=10,              # how many steps are waited before starting experience replay\n",
        "               target_model_update=1e-2,        # how often the target network is updated\n",
        "               policy=policy)                   # the action selection policy\n",
        "\n",
        "dqn.compile(Adam(lr=1e-3), metrics=['mae'])\n",
        "\n",
        "history = dqn.fit(env, nb_steps=10000, visualize=False, verbose=2) #visualize false to save time\n",
        "\n",
        "# summarize the history for number  of episode steps\n",
        "plt.plot(history.history['nb_episode_steps'])\n",
        "plt.ylabel('nb_episode_steps')\n",
        "plt.xlabel('episodes')\n",
        "plt.show()\n",
        "\n",
        "dqn.test(env, nb_episodes=20, visualize=False) #testing for 20 episodes, reward should all be 200- evaluating my algortithm "
      ],
      "execution_count": 8,
      "outputs": [
        {
          "output_type": "stream",
          "text": [
            "Model: \"sequential_1\"\n",
            "_________________________________________________________________\n",
            "Layer (type)                 Output Shape              Param #   \n",
            "=================================================================\n",
            "flatten_1 (Flatten)          (None, 4)                 0         \n",
            "_________________________________________________________________\n",
            "dense_2 (Dense)              (None, 16)                80        \n",
            "_________________________________________________________________\n",
            "dense_3 (Dense)              (None, 2)                 34        \n",
            "=================================================================\n",
            "Total params: 114\n",
            "Trainable params: 114\n",
            "Non-trainable params: 0\n",
            "_________________________________________________________________\n",
            "None\n",
            "Training for 10000 steps ...\n"
          ],
          "name": "stdout"
        },
        {
          "output_type": "stream",
          "text": [
            "/usr/local/lib/python3.7/dist-packages/tensorflow/python/keras/engine/training.py:2325: UserWarning: `Model.state_updates` will be removed in a future version. This property should not be used in TensorFlow 2.0, as `updates` are applied automatically.\n",
            "  warnings.warn('`Model.state_updates` will be removed in a future version. '\n",
            "/usr/local/lib/python3.7/dist-packages/rl/memory.py:40: UserWarning: Not enough entries to sample without replacement. Consider increasing your warm-up phase to avoid oversampling!\n",
            "  warnings.warn('Not enough entries to sample without replacement. Consider increasing your warm-up phase to avoid oversampling!')\n"
          ],
          "name": "stderr"
        },
        {
          "output_type": "stream",
          "text": [
            "   17/10000: episode: 1, duration: 0.512s, episode steps:  17, steps per second:  33, episode reward: 17.000, mean reward:  1.000 [ 1.000,  1.000], mean action: 0.647 [0.000, 1.000],  loss: 0.577095, mae: 0.638507, mean_q: 0.254334, mean_tau: 0.998785\n",
            "   44/10000: episode: 2, duration: 0.182s, episode steps:  27, steps per second: 148, episode reward: 27.000, mean reward:  1.000 [ 1.000,  1.000], mean action: 0.556 [0.000, 1.000],  loss: 0.452965, mae: 0.622560, mean_q: 0.362587, mean_tau: 0.997300\n"
          ],
          "name": "stdout"
        },
        {
          "output_type": "stream",
          "text": [
            "/usr/local/lib/python3.7/dist-packages/rl/memory.py:40: UserWarning: Not enough entries to sample without replacement. Consider increasing your warm-up phase to avoid oversampling!\n",
            "  warnings.warn('Not enough entries to sample without replacement. Consider increasing your warm-up phase to avoid oversampling!')\n"
          ],
          "name": "stderr"
        },
        {
          "output_type": "stream",
          "text": [
            "   55/10000: episode: 3, duration: 0.086s, episode steps:  11, steps per second: 128, episode reward: 11.000, mean reward:  1.000 [ 1.000,  1.000], mean action: 0.818 [0.000, 1.000],  loss: 0.375977, mae: 0.604610, mean_q: 0.428774, mean_tau: 0.995590\n",
            "   74/10000: episode: 4, duration: 0.124s, episode steps:  19, steps per second: 153, episode reward: 19.000, mean reward:  1.000 [ 1.000,  1.000], mean action: 0.421 [0.000, 1.000],  loss: 0.396759, mae: 0.661294, mean_q: 0.559907, mean_tau: 0.994240\n",
            "  133/10000: episode: 5, duration: 0.380s, episode steps:  59, steps per second: 155, episode reward: 59.000, mean reward:  1.000 [ 1.000,  1.000], mean action: 0.525 [0.000, 1.000],  loss: 0.417894, mae: 0.682793, mean_q: 0.690476, mean_tau: 0.990730\n",
            "  182/10000: episode: 6, duration: 0.310s, episode steps:  49, steps per second: 158, episode reward: 49.000, mean reward:  1.000 [ 1.000,  1.000], mean action: 0.531 [0.000, 1.000],  loss: 0.352848, mae: 0.733916, mean_q: 0.924944, mean_tau: 0.985870\n",
            "  215/10000: episode: 7, duration: 0.217s, episode steps:  33, steps per second: 152, episode reward: 33.000, mean reward:  1.000 [ 1.000,  1.000], mean action: 0.485 [0.000, 1.000],  loss: 0.353840, mae: 0.808517, mean_q: 1.134209, mean_tau: 0.982180\n",
            "  228/10000: episode: 8, duration: 0.086s, episode steps:  13, steps per second: 152, episode reward: 13.000, mean reward:  1.000 [ 1.000,  1.000], mean action: 0.538 [0.000, 1.000],  loss: 0.321988, mae: 0.874157, mean_q: 1.337240, mean_tau: 0.980110\n",
            "  250/10000: episode: 9, duration: 0.141s, episode steps:  22, steps per second: 156, episode reward: 22.000, mean reward:  1.000 [ 1.000,  1.000], mean action: 0.682 [0.000, 1.000],  loss: 0.266010, mae: 0.890823, mean_q: 1.443720, mean_tau: 0.978535\n",
            "  266/10000: episode: 10, duration: 0.116s, episode steps:  16, steps per second: 138, episode reward: 16.000, mean reward:  1.000 [ 1.000,  1.000], mean action: 0.688 [0.000, 1.000],  loss: 0.277238, mae: 0.951905, mean_q: 1.624946, mean_tau: 0.976825\n",
            "  287/10000: episode: 11, duration: 0.150s, episode steps:  21, steps per second: 140, episode reward: 21.000, mean reward:  1.000 [ 1.000,  1.000], mean action: 0.619 [0.000, 1.000],  loss: 0.255833, mae: 1.007038, mean_q: 1.796913, mean_tau: 0.975160\n",
            "  324/10000: episode: 12, duration: 0.236s, episode steps:  37, steps per second: 157, episode reward: 37.000, mean reward:  1.000 [ 1.000,  1.000], mean action: 0.568 [0.000, 1.000],  loss: 0.268303, mae: 1.107664, mean_q: 1.997260, mean_tau: 0.972550\n",
            "  340/10000: episode: 13, duration: 0.101s, episode steps:  16, steps per second: 159, episode reward: 16.000, mean reward:  1.000 [ 1.000,  1.000], mean action: 0.688 [0.000, 1.000],  loss: 0.255565, mae: 1.233811, mean_q: 2.232307, mean_tau: 0.970165\n",
            "  352/10000: episode: 14, duration: 0.077s, episode steps:  12, steps per second: 156, episode reward: 12.000, mean reward:  1.000 [ 1.000,  1.000], mean action: 0.750 [0.000, 1.000],  loss: 0.225945, mae: 1.275546, mean_q: 2.376107, mean_tau: 0.968905\n",
            "  367/10000: episode: 15, duration: 0.105s, episode steps:  15, steps per second: 142, episode reward: 15.000, mean reward:  1.000 [ 1.000,  1.000], mean action: 0.600 [0.000, 1.000],  loss: 0.243357, mae: 1.337974, mean_q: 2.484141, mean_tau: 0.967690\n",
            "  407/10000: episode: 16, duration: 0.260s, episode steps:  40, steps per second: 154, episode reward: 40.000, mean reward:  1.000 [ 1.000,  1.000], mean action: 0.525 [0.000, 1.000],  loss: 0.250363, mae: 1.429493, mean_q: 2.675748, mean_tau: 0.965215\n",
            "  424/10000: episode: 17, duration: 0.115s, episode steps:  17, steps per second: 148, episode reward: 17.000, mean reward:  1.000 [ 1.000,  1.000], mean action: 0.588 [0.000, 1.000],  loss: 0.241371, mae: 1.517879, mean_q: 2.916876, mean_tau: 0.962650\n",
            "  476/10000: episode: 18, duration: 0.340s, episode steps:  52, steps per second: 153, episode reward: 52.000, mean reward:  1.000 [ 1.000,  1.000], mean action: 0.596 [0.000, 1.000],  loss: 0.249080, mae: 1.661008, mean_q: 3.208838, mean_tau: 0.959545\n",
            "  496/10000: episode: 19, duration: 0.135s, episode steps:  20, steps per second: 149, episode reward: 20.000, mean reward:  1.000 [ 1.000,  1.000], mean action: 0.650 [0.000, 1.000],  loss: 0.240260, mae: 1.813773, mean_q: 3.497384, mean_tau: 0.956305\n",
            "  506/10000: episode: 20, duration: 0.075s, episode steps:  10, steps per second: 133, episode reward: 10.000, mean reward:  1.000 [ 1.000,  1.000], mean action: 0.800 [0.000, 1.000],  loss: 0.256940, mae: 1.865567, mean_q: 3.597727, mean_tau: 0.954955\n",
            "  524/10000: episode: 21, duration: 0.117s, episode steps:  18, steps per second: 154, episode reward: 18.000, mean reward:  1.000 [ 1.000,  1.000], mean action: 0.667 [0.000, 1.000],  loss: 0.381384, mae: 1.981820, mean_q: 3.741495, mean_tau: 0.953695\n",
            "  535/10000: episode: 22, duration: 0.073s, episode steps:  11, steps per second: 152, episode reward: 11.000, mean reward:  1.000 [ 1.000,  1.000], mean action: 0.727 [0.000, 1.000],  loss: 0.275701, mae: 1.991565, mean_q: 3.791452, mean_tau: 0.952390\n",
            "  563/10000: episode: 23, duration: 0.201s, episode steps:  28, steps per second: 139, episode reward: 28.000, mean reward:  1.000 [ 1.000,  1.000], mean action: 0.536 [0.000, 1.000],  loss: 0.274402, mae: 2.071055, mean_q: 3.968910, mean_tau: 0.950635\n",
            "  578/10000: episode: 24, duration: 0.105s, episode steps:  15, steps per second: 142, episode reward: 15.000, mean reward:  1.000 [ 1.000,  1.000], mean action: 0.600 [0.000, 1.000],  loss: 0.262259, mae: 2.154419, mean_q: 4.133213, mean_tau: 0.948700\n",
            "  606/10000: episode: 25, duration: 0.199s, episode steps:  28, steps per second: 141, episode reward: 28.000, mean reward:  1.000 [ 1.000,  1.000], mean action: 0.607 [0.000, 1.000],  loss: 0.325927, mae: 2.261957, mean_q: 4.342072, mean_tau: 0.946765\n",
            "  623/10000: episode: 26, duration: 0.114s, episode steps:  17, steps per second: 149, episode reward: 17.000, mean reward:  1.000 [ 1.000,  1.000], mean action: 0.529 [0.000, 1.000],  loss: 0.339992, mae: 2.354592, mean_q: 4.517266, mean_tau: 0.944740\n",
            "  641/10000: episode: 27, duration: 0.128s, episode steps:  18, steps per second: 141, episode reward: 18.000, mean reward:  1.000 [ 1.000,  1.000], mean action: 0.667 [0.000, 1.000],  loss: 0.261688, mae: 2.408012, mean_q: 4.695662, mean_tau: 0.943165\n",
            "  656/10000: episode: 28, duration: 0.103s, episode steps:  15, steps per second: 146, episode reward: 15.000, mean reward:  1.000 [ 1.000,  1.000], mean action: 0.667 [0.000, 1.000],  loss: 0.380105, mae: 2.511718, mean_q: 4.781676, mean_tau: 0.941680\n",
            "  670/10000: episode: 29, duration: 0.093s, episode steps:  14, steps per second: 151, episode reward: 14.000, mean reward:  1.000 [ 1.000,  1.000], mean action: 0.643 [0.000, 1.000],  loss: 0.288090, mae: 2.541518, mean_q: 4.814829, mean_tau: 0.940375\n",
            "  707/10000: episode: 30, duration: 0.238s, episode steps:  37, steps per second: 155, episode reward: 37.000, mean reward:  1.000 [ 1.000,  1.000], mean action: 0.568 [0.000, 1.000],  loss: 0.456499, mae: 2.663286, mean_q: 5.023715, mean_tau: 0.938080\n",
            "  722/10000: episode: 31, duration: 0.107s, episode steps:  15, steps per second: 140, episode reward: 15.000, mean reward:  1.000 [ 1.000,  1.000], mean action: 0.600 [0.000, 1.000],  loss: 0.405298, mae: 2.733407, mean_q: 5.146673, mean_tau: 0.935740\n",
            "  738/10000: episode: 32, duration: 0.109s, episode steps:  16, steps per second: 147, episode reward: 16.000, mean reward:  1.000 [ 1.000,  1.000], mean action: 0.438 [0.000, 1.000],  loss: 0.419106, mae: 2.795620, mean_q: 5.266092, mean_tau: 0.934345\n",
            "  752/10000: episode: 33, duration: 0.095s, episode steps:  14, steps per second: 148, episode reward: 14.000, mean reward:  1.000 [ 1.000,  1.000], mean action: 0.786 [0.000, 1.000],  loss: 0.347931, mae: 2.830994, mean_q: 5.390453, mean_tau: 0.932995\n",
            "  767/10000: episode: 34, duration: 0.103s, episode steps:  15, steps per second: 145, episode reward: 15.000, mean reward:  1.000 [ 1.000,  1.000], mean action: 0.667 [0.000, 1.000],  loss: 0.516368, mae: 2.934300, mean_q: 5.475160, mean_tau: 0.931690\n",
            "  793/10000: episode: 35, duration: 0.179s, episode steps:  26, steps per second: 145, episode reward: 26.000, mean reward:  1.000 [ 1.000,  1.000], mean action: 0.615 [0.000, 1.000],  loss: 0.463364, mae: 2.995992, mean_q: 5.623980, mean_tau: 0.929845\n",
            "  803/10000: episode: 36, duration: 0.074s, episode steps:  10, steps per second: 135, episode reward: 10.000, mean reward:  1.000 [ 1.000,  1.000], mean action: 0.400 [0.000, 1.000],  loss: 0.493668, mae: 3.060104, mean_q: 5.706761, mean_tau: 0.928225\n",
            "  855/10000: episode: 37, duration: 0.328s, episode steps:  52, steps per second: 159, episode reward: 52.000, mean reward:  1.000 [ 1.000,  1.000], mean action: 0.404 [0.000, 1.000],  loss: 0.507043, mae: 3.169441, mean_q: 5.921430, mean_tau: 0.925435\n",
            "  885/10000: episode: 38, duration: 0.197s, episode steps:  30, steps per second: 153, episode reward: 30.000, mean reward:  1.000 [ 1.000,  1.000], mean action: 0.367 [0.000, 1.000],  loss: 0.511971, mae: 3.279457, mean_q: 6.095281, mean_tau: 0.921745\n",
            "  917/10000: episode: 39, duration: 0.203s, episode steps:  32, steps per second: 158, episode reward: 32.000, mean reward:  1.000 [ 1.000,  1.000], mean action: 0.594 [0.000, 1.000],  loss: 0.431901, mae: 3.361874, mean_q: 6.349374, mean_tau: 0.918955\n",
            "  946/10000: episode: 40, duration: 0.188s, episode steps:  29, steps per second: 154, episode reward: 29.000, mean reward:  1.000 [ 1.000,  1.000], mean action: 0.448 [0.000, 1.000],  loss: 0.577025, mae: 3.475568, mean_q: 6.524474, mean_tau: 0.916210\n",
            "  970/10000: episode: 41, duration: 0.163s, episode steps:  24, steps per second: 147, episode reward: 24.000, mean reward:  1.000 [ 1.000,  1.000], mean action: 0.625 [0.000, 1.000],  loss: 0.562914, mae: 3.560795, mean_q: 6.697226, mean_tau: 0.913825\n",
            "  986/10000: episode: 42, duration: 0.104s, episode steps:  16, steps per second: 154, episode reward: 16.000, mean reward:  1.000 [ 1.000,  1.000], mean action: 0.500 [0.000, 1.000],  loss: 0.443511, mae: 3.632705, mean_q: 6.915554, mean_tau: 0.912025\n",
            " 1015/10000: episode: 43, duration: 0.189s, episode steps:  29, steps per second: 154, episode reward: 29.000, mean reward:  1.000 [ 1.000,  1.000], mean action: 0.483 [0.000, 1.000],  loss: 0.454894, mae: 3.671246, mean_q: 6.970437, mean_tau: 0.910000\n",
            " 1030/10000: episode: 44, duration: 0.110s, episode steps:  15, steps per second: 137, episode reward: 15.000, mean reward:  1.000 [ 1.000,  1.000], mean action: 0.533 [0.000, 1.000],  loss: 0.969495, mae: 3.830811, mean_q: 7.105184, mean_tau: 0.908020\n",
            " 1041/10000: episode: 45, duration: 0.075s, episode steps:  11, steps per second: 146, episode reward: 11.000, mean reward:  1.000 [ 1.000,  1.000], mean action: 0.636 [0.000, 1.000],  loss: 0.570747, mae: 3.793459, mean_q: 7.131073, mean_tau: 0.906850\n",
            " 1054/10000: episode: 46, duration: 0.088s, episode steps:  13, steps per second: 148, episode reward: 13.000, mean reward:  1.000 [ 1.000,  1.000], mean action: 0.615 [0.000, 1.000],  loss: 0.537041, mae: 3.854320, mean_q: 7.329636, mean_tau: 0.905770\n",
            " 1072/10000: episode: 47, duration: 0.136s, episode steps:  18, steps per second: 133, episode reward: 18.000, mean reward:  1.000 [ 1.000,  1.000], mean action: 0.389 [0.000, 1.000],  loss: 0.505800, mae: 3.903881, mean_q: 7.471512, mean_tau: 0.904375\n",
            " 1095/10000: episode: 48, duration: 0.154s, episode steps:  23, steps per second: 150, episode reward: 23.000, mean reward:  1.000 [ 1.000,  1.000], mean action: 0.609 [0.000, 1.000],  loss: 0.673694, mae: 3.986715, mean_q: 7.575259, mean_tau: 0.902530\n",
            " 1109/10000: episode: 49, duration: 0.091s, episode steps:  14, steps per second: 154, episode reward: 14.000, mean reward:  1.000 [ 1.000,  1.000], mean action: 0.214 [0.000, 1.000],  loss: 0.811225, mae: 4.028405, mean_q: 7.580490, mean_tau: 0.900865\n",
            " 1159/10000: episode: 50, duration: 0.326s, episode steps:  50, steps per second: 153, episode reward: 50.000, mean reward:  1.000 [ 1.000,  1.000], mean action: 0.500 [0.000, 1.000],  loss: 0.779733, mae: 4.170816, mean_q: 7.955367, mean_tau: 0.897985\n",
            " 1192/10000: episode: 51, duration: 0.220s, episode steps:  33, steps per second: 150, episode reward: 33.000, mean reward:  1.000 [ 1.000,  1.000], mean action: 0.455 [0.000, 1.000],  loss: 0.801694, mae: 4.298521, mean_q: 8.144827, mean_tau: 0.894250\n",
            " 1217/10000: episode: 52, duration: 0.159s, episode steps:  25, steps per second: 157, episode reward: 25.000, mean reward:  1.000 [ 1.000,  1.000], mean action: 0.440 [0.000, 1.000],  loss: 1.058666, mae: 4.439582, mean_q: 8.327435, mean_tau: 0.891640\n",
            " 1243/10000: episode: 53, duration: 0.176s, episode steps:  26, steps per second: 148, episode reward: 26.000, mean reward:  1.000 [ 1.000,  1.000], mean action: 0.577 [0.000, 1.000],  loss: 0.823691, mae: 4.470042, mean_q: 8.461053, mean_tau: 0.889345\n",
            " 1264/10000: episode: 54, duration: 0.140s, episode steps:  21, steps per second: 150, episode reward: 21.000, mean reward:  1.000 [ 1.000,  1.000], mean action: 0.524 [0.000, 1.000],  loss: 0.804285, mae: 4.543493, mean_q: 8.659643, mean_tau: 0.887230\n",
            " 1285/10000: episode: 55, duration: 0.138s, episode steps:  21, steps per second: 152, episode reward: 21.000, mean reward:  1.000 [ 1.000,  1.000], mean action: 0.476 [0.000, 1.000],  loss: 0.495225, mae: 4.562349, mean_q: 8.836031, mean_tau: 0.885340\n",
            " 1306/10000: episode: 56, duration: 0.139s, episode steps:  21, steps per second: 151, episode reward: 21.000, mean reward:  1.000 [ 1.000,  1.000], mean action: 0.286 [0.000, 1.000],  loss: 1.092252, mae: 4.679208, mean_q: 8.886215, mean_tau: 0.883450\n",
            " 1319/10000: episode: 57, duration: 0.091s, episode steps:  13, steps per second: 143, episode reward: 13.000, mean reward:  1.000 [ 1.000,  1.000], mean action: 0.385 [0.000, 1.000],  loss: 0.846295, mae: 4.743448, mean_q: 9.095406, mean_tau: 0.881920\n",
            " 1338/10000: episode: 58, duration: 0.131s, episode steps:  19, steps per second: 145, episode reward: 19.000, mean reward:  1.000 [ 1.000,  1.000], mean action: 0.316 [0.000, 1.000],  loss: 0.960130, mae: 4.780273, mean_q: 9.081516, mean_tau: 0.880480\n",
            " 1359/10000: episode: 59, duration: 0.142s, episode steps:  21, steps per second: 147, episode reward: 21.000, mean reward:  1.000 [ 1.000,  1.000], mean action: 0.429 [0.000, 1.000],  loss: 0.821769, mae: 4.810664, mean_q: 9.214207, mean_tau: 0.878680\n",
            " 1407/10000: episode: 60, duration: 0.319s, episode steps:  48, steps per second: 150, episode reward: 48.000, mean reward:  1.000 [ 1.000,  1.000], mean action: 0.458 [0.000, 1.000],  loss: 1.277691, mae: 5.017798, mean_q: 9.551009, mean_tau: 0.875575\n",
            " 1444/10000: episode: 61, duration: 0.239s, episode steps:  37, steps per second: 155, episode reward: 37.000, mean reward:  1.000 [ 1.000,  1.000], mean action: 0.405 [0.000, 1.000],  loss: 1.193019, mae: 5.135228, mean_q: 9.733295, mean_tau: 0.871750\n",
            " 1468/10000: episode: 62, duration: 0.160s, episode steps:  24, steps per second: 150, episode reward: 24.000, mean reward:  1.000 [ 1.000,  1.000], mean action: 0.333 [0.000, 1.000],  loss: 1.030341, mae: 5.221431, mean_q: 9.903834, mean_tau: 0.869005\n",
            " 1486/10000: episode: 63, duration: 0.131s, episode steps:  18, steps per second: 138, episode reward: 18.000, mean reward:  1.000 [ 1.000,  1.000], mean action: 0.444 [0.000, 1.000],  loss: 1.252677, mae: 5.293098, mean_q: 10.069530, mean_tau: 0.867115\n",
            " 1496/10000: episode: 64, duration: 0.069s, episode steps:  10, steps per second: 145, episode reward: 10.000, mean reward:  1.000 [ 1.000,  1.000], mean action: 0.100 [0.000, 1.000],  loss: 1.247205, mae: 5.374013, mean_q: 10.336498, mean_tau: 0.865855\n",
            " 1515/10000: episode: 65, duration: 0.125s, episode steps:  19, steps per second: 152, episode reward: 19.000, mean reward:  1.000 [ 1.000,  1.000], mean action: 0.316 [0.000, 1.000],  loss: 1.191930, mae: 5.390941, mean_q: 10.335993, mean_tau: 0.864550\n",
            " 1537/10000: episode: 66, duration: 0.173s, episode steps:  22, steps per second: 127, episode reward: 22.000, mean reward:  1.000 [ 1.000,  1.000], mean action: 0.364 [0.000, 1.000],  loss: 1.452342, mae: 5.472734, mean_q: 10.525803, mean_tau: 0.862705\n",
            " 1550/10000: episode: 67, duration: 0.093s, episode steps:  13, steps per second: 139, episode reward: 13.000, mean reward:  1.000 [ 1.000,  1.000], mean action: 0.231 [0.000, 1.000],  loss: 1.569168, mae: 5.526691, mean_q: 10.493546, mean_tau: 0.861130\n",
            " 1565/10000: episode: 68, duration: 0.108s, episode steps:  15, steps per second: 139, episode reward: 15.000, mean reward:  1.000 [ 1.000,  1.000], mean action: 0.467 [0.000, 1.000],  loss: 1.205047, mae: 5.569252, mean_q: 10.541543, mean_tau: 0.859870\n",
            " 1581/10000: episode: 69, duration: 0.110s, episode steps:  16, steps per second: 145, episode reward: 16.000, mean reward:  1.000 [ 1.000,  1.000], mean action: 0.438 [0.000, 1.000],  loss: 1.193333, mae: 5.568318, mean_q: 10.575862, mean_tau: 0.858475\n",
            " 1602/10000: episode: 70, duration: 0.144s, episode steps:  21, steps per second: 146, episode reward: 21.000, mean reward:  1.000 [ 1.000,  1.000], mean action: 0.429 [0.000, 1.000],  loss: 1.256056, mae: 5.654782, mean_q: 10.855609, mean_tau: 0.856810\n",
            " 1616/10000: episode: 71, duration: 0.091s, episode steps:  14, steps per second: 154, episode reward: 14.000, mean reward:  1.000 [ 1.000,  1.000], mean action: 0.643 [0.000, 1.000],  loss: 1.290783, mae: 5.678363, mean_q: 10.862416, mean_tau: 0.855235\n",
            " 1678/10000: episode: 72, duration: 0.412s, episode steps:  62, steps per second: 150, episode reward: 62.000, mean reward:  1.000 [ 1.000,  1.000], mean action: 0.387 [0.000, 1.000],  loss: 1.222100, mae: 5.794199, mean_q: 11.109763, mean_tau: 0.851815\n",
            " 1693/10000: episode: 73, duration: 0.101s, episode steps:  15, steps per second: 149, episode reward: 15.000, mean reward:  1.000 [ 1.000,  1.000], mean action: 0.467 [0.000, 1.000],  loss: 1.897219, mae: 5.891782, mean_q: 11.172791, mean_tau: 0.848350\n",
            " 1743/10000: episode: 74, duration: 0.326s, episode steps:  50, steps per second: 153, episode reward: 50.000, mean reward:  1.000 [ 1.000,  1.000], mean action: 0.460 [0.000, 1.000],  loss: 1.411770, mae: 5.989146, mean_q: 11.460816, mean_tau: 0.845425\n",
            " 1755/10000: episode: 75, duration: 0.080s, episode steps:  12, steps per second: 150, episode reward: 12.000, mean reward:  1.000 [ 1.000,  1.000], mean action: 0.250 [0.000, 1.000],  loss: 1.592944, mae: 6.059733, mean_q: 11.704472, mean_tau: 0.842635\n",
            " 1769/10000: episode: 76, duration: 0.097s, episode steps:  14, steps per second: 144, episode reward: 14.000, mean reward:  1.000 [ 1.000,  1.000], mean action: 0.286 [0.000, 1.000],  loss: 2.008551, mae: 6.118400, mean_q: 11.641625, mean_tau: 0.841465\n",
            " 1782/10000: episode: 77, duration: 0.097s, episode steps:  13, steps per second: 134, episode reward: 13.000, mean reward:  1.000 [ 1.000,  1.000], mean action: 0.692 [0.000, 1.000],  loss: 1.513364, mae: 6.109565, mean_q: 11.612600, mean_tau: 0.840250\n",
            " 1819/10000: episode: 78, duration: 0.249s, episode steps:  37, steps per second: 149, episode reward: 37.000, mean reward:  1.000 [ 1.000,  1.000], mean action: 0.486 [0.000, 1.000],  loss: 1.955056, mae: 6.231052, mean_q: 11.819690, mean_tau: 0.838000\n",
            " 1854/10000: episode: 79, duration: 0.231s, episode steps:  35, steps per second: 151, episode reward: 35.000, mean reward:  1.000 [ 1.000,  1.000], mean action: 0.543 [0.000, 1.000],  loss: 1.697190, mae: 6.278068, mean_q: 11.930230, mean_tau: 0.834760\n",
            " 1895/10000: episode: 80, duration: 0.274s, episode steps:  41, steps per second: 150, episode reward: 41.000, mean reward:  1.000 [ 1.000,  1.000], mean action: 0.512 [0.000, 1.000],  loss: 1.595331, mae: 6.347997, mean_q: 12.097886, mean_tau: 0.831340\n",
            " 1909/10000: episode: 81, duration: 0.095s, episode steps:  14, steps per second: 147, episode reward: 14.000, mean reward:  1.000 [ 1.000,  1.000], mean action: 0.286 [0.000, 1.000],  loss: 1.581785, mae: 6.507738, mean_q: 12.603007, mean_tau: 0.828865\n",
            " 1983/10000: episode: 82, duration: 0.497s, episode steps:  74, steps per second: 149, episode reward: 74.000, mean reward:  1.000 [ 1.000,  1.000], mean action: 0.514 [0.000, 1.000],  loss: 1.851735, mae: 6.602316, mean_q: 12.636690, mean_tau: 0.824905\n",
            " 2014/10000: episode: 83, duration: 0.204s, episode steps:  31, steps per second: 152, episode reward: 31.000, mean reward:  1.000 [ 1.000,  1.000], mean action: 0.548 [0.000, 1.000],  loss: 1.887687, mae: 6.714317, mean_q: 12.879692, mean_tau: 0.820180\n",
            " 2075/10000: episode: 84, duration: 0.414s, episode steps:  61, steps per second: 147, episode reward: 61.000, mean reward:  1.000 [ 1.000,  1.000], mean action: 0.492 [0.000, 1.000],  loss: 1.803950, mae: 6.848447, mean_q: 13.180883, mean_tau: 0.816040\n",
            " 2094/10000: episode: 85, duration: 0.125s, episode steps:  19, steps per second: 152, episode reward: 19.000, mean reward:  1.000 [ 1.000,  1.000], mean action: 0.474 [0.000, 1.000],  loss: 1.730018, mae: 6.938167, mean_q: 13.327301, mean_tau: 0.812440\n",
            " 2118/10000: episode: 86, duration: 0.159s, episode steps:  24, steps per second: 151, episode reward: 24.000, mean reward:  1.000 [ 1.000,  1.000], mean action: 0.500 [0.000, 1.000],  loss: 1.813797, mae: 7.003617, mean_q: 13.463505, mean_tau: 0.810505\n",
            " 2157/10000: episode: 87, duration: 0.253s, episode steps:  39, steps per second: 154, episode reward: 39.000, mean reward:  1.000 [ 1.000,  1.000], mean action: 0.487 [0.000, 1.000],  loss: 1.792962, mae: 7.083072, mean_q: 13.722723, mean_tau: 0.807670\n",
            " 2200/10000: episode: 88, duration: 0.278s, episode steps:  43, steps per second: 155, episode reward: 43.000, mean reward:  1.000 [ 1.000,  1.000], mean action: 0.442 [0.000, 1.000],  loss: 2.747672, mae: 7.219789, mean_q: 13.688387, mean_tau: 0.803980\n",
            " 2227/10000: episode: 89, duration: 0.177s, episode steps:  27, steps per second: 153, episode reward: 27.000, mean reward:  1.000 [ 1.000,  1.000], mean action: 0.444 [0.000, 1.000],  loss: 2.553415, mae: 7.260754, mean_q: 13.736537, mean_tau: 0.800830\n",
            " 2279/10000: episode: 90, duration: 0.339s, episode steps:  52, steps per second: 154, episode reward: 52.000, mean reward:  1.000 [ 1.000,  1.000], mean action: 0.462 [0.000, 1.000],  loss: 1.651011, mae: 7.358015, mean_q: 14.274432, mean_tau: 0.797275\n",
            " 2358/10000: episode: 91, duration: 0.502s, episode steps:  79, steps per second: 157, episode reward: 79.000, mean reward:  1.000 [ 1.000,  1.000], mean action: 0.557 [0.000, 1.000],  loss: 2.796682, mae: 7.529127, mean_q: 14.314873, mean_tau: 0.791380\n",
            " 2418/10000: episode: 92, duration: 0.387s, episode steps:  60, steps per second: 155, episode reward: 60.000, mean reward:  1.000 [ 1.000,  1.000], mean action: 0.450 [0.000, 1.000],  loss: 2.732367, mae: 7.638110, mean_q: 14.552553, mean_tau: 0.785125\n",
            " 2471/10000: episode: 93, duration: 0.347s, episode steps:  53, steps per second: 153, episode reward: 53.000, mean reward:  1.000 [ 1.000,  1.000], mean action: 0.528 [0.000, 1.000],  loss: 1.873182, mae: 7.786035, mean_q: 15.112566, mean_tau: 0.780040\n",
            " 2502/10000: episode: 94, duration: 0.199s, episode steps:  31, steps per second: 156, episode reward: 31.000, mean reward:  1.000 [ 1.000,  1.000], mean action: 0.548 [0.000, 1.000],  loss: 2.601500, mae: 7.905698, mean_q: 15.204703, mean_tau: 0.776260\n",
            " 2525/10000: episode: 95, duration: 0.158s, episode steps:  23, steps per second: 145, episode reward: 23.000, mean reward:  1.000 [ 1.000,  1.000], mean action: 0.522 [0.000, 1.000],  loss: 1.966602, mae: 8.029985, mean_q: 15.615114, mean_tau: 0.773830\n",
            " 2542/10000: episode: 96, duration: 0.126s, episode steps:  17, steps per second: 135, episode reward: 17.000, mean reward:  1.000 [ 1.000,  1.000], mean action: 0.529 [0.000, 1.000],  loss: 2.353043, mae: 8.059575, mean_q: 15.584888, mean_tau: 0.772030\n",
            " 2575/10000: episode: 97, duration: 0.218s, episode steps:  33, steps per second: 151, episode reward: 33.000, mean reward:  1.000 [ 1.000,  1.000], mean action: 0.515 [0.000, 1.000],  loss: 2.104066, mae: 8.095096, mean_q: 15.685819, mean_tau: 0.769780\n",
            " 2635/10000: episode: 98, duration: 0.402s, episode steps:  60, steps per second: 149, episode reward: 60.000, mean reward:  1.000 [ 1.000,  1.000], mean action: 0.550 [0.000, 1.000],  loss: 2.524297, mae: 8.211588, mean_q: 15.883425, mean_tau: 0.765595\n",
            " 2691/10000: episode: 99, duration: 0.371s, episode steps:  56, steps per second: 151, episode reward: 56.000, mean reward:  1.000 [ 1.000,  1.000], mean action: 0.464 [0.000, 1.000],  loss: 2.517137, mae: 8.364429, mean_q: 16.255920, mean_tau: 0.760375\n",
            " 2737/10000: episode: 100, duration: 0.306s, episode steps:  46, steps per second: 150, episode reward: 46.000, mean reward:  1.000 [ 1.000,  1.000], mean action: 0.522 [0.000, 1.000],  loss: 2.865246, mae: 8.553177, mean_q: 16.599182, mean_tau: 0.755785\n",
            " 2753/10000: episode: 101, duration: 0.111s, episode steps:  16, steps per second: 144, episode reward: 16.000, mean reward:  1.000 [ 1.000,  1.000], mean action: 0.500 [0.000, 1.000],  loss: 4.251627, mae: 8.679772, mean_q: 16.510627, mean_tau: 0.752995\n",
            " 2780/10000: episode: 102, duration: 0.184s, episode steps:  27, steps per second: 147, episode reward: 27.000, mean reward:  1.000 [ 1.000,  1.000], mean action: 0.519 [0.000, 1.000],  loss: 2.240969, mae: 8.559507, mean_q: 16.608387, mean_tau: 0.751060\n",
            " 2807/10000: episode: 103, duration: 0.176s, episode steps:  27, steps per second: 153, episode reward: 27.000, mean reward:  1.000 [ 1.000,  1.000], mean action: 0.481 [0.000, 1.000],  loss: 2.612609, mae: 8.692832, mean_q: 16.948715, mean_tau: 0.748630\n",
            " 2836/10000: episode: 104, duration: 0.198s, episode steps:  29, steps per second: 146, episode reward: 29.000, mean reward:  1.000 [ 1.000,  1.000], mean action: 0.483 [0.000, 1.000],  loss: 3.255598, mae: 8.844288, mean_q: 17.139878, mean_tau: 0.746110\n",
            " 2896/10000: episode: 105, duration: 0.386s, episode steps:  60, steps per second: 155, episode reward: 60.000, mean reward:  1.000 [ 1.000,  1.000], mean action: 0.483 [0.000, 1.000],  loss: 2.895584, mae: 8.937821, mean_q: 17.375921, mean_tau: 0.742105\n",
            " 2932/10000: episode: 106, duration: 0.232s, episode steps:  36, steps per second: 155, episode reward: 36.000, mean reward:  1.000 [ 1.000,  1.000], mean action: 0.500 [0.000, 1.000],  loss: 3.624040, mae: 9.030378, mean_q: 17.465534, mean_tau: 0.737785\n",
            " 2991/10000: episode: 107, duration: 0.403s, episode steps:  59, steps per second: 146, episode reward: 59.000, mean reward:  1.000 [ 1.000,  1.000], mean action: 0.492 [0.000, 1.000],  loss: 2.875295, mae: 9.133505, mean_q: 17.762396, mean_tau: 0.733510\n",
            " 3050/10000: episode: 108, duration: 0.397s, episode steps:  59, steps per second: 149, episode reward: 59.000, mean reward:  1.000 [ 1.000,  1.000], mean action: 0.492 [0.000, 1.000],  loss: 3.302335, mae: 9.317755, mean_q: 18.072567, mean_tau: 0.728200\n",
            " 3084/10000: episode: 109, duration: 0.221s, episode steps:  34, steps per second: 154, episode reward: 34.000, mean reward:  1.000 [ 1.000,  1.000], mean action: 0.500 [0.000, 1.000],  loss: 2.714461, mae: 9.401872, mean_q: 18.317958, mean_tau: 0.724015\n",
            " 3143/10000: episode: 110, duration: 0.370s, episode steps:  59, steps per second: 160, episode reward: 59.000, mean reward:  1.000 [ 1.000,  1.000], mean action: 0.508 [0.000, 1.000],  loss: 3.179623, mae: 9.507637, mean_q: 18.472437, mean_tau: 0.719830\n",
            " 3174/10000: episode: 111, duration: 0.201s, episode steps:  31, steps per second: 155, episode reward: 31.000, mean reward:  1.000 [ 1.000,  1.000], mean action: 0.516 [0.000, 1.000],  loss: 3.500429, mae: 9.604732, mean_q: 18.654149, mean_tau: 0.715780\n",
            " 3242/10000: episode: 112, duration: 0.427s, episode steps:  68, steps per second: 159, episode reward: 68.000, mean reward:  1.000 [ 1.000,  1.000], mean action: 0.471 [0.000, 1.000],  loss: 3.223271, mae: 9.715981, mean_q: 18.867028, mean_tau: 0.711325\n",
            " 3343/10000: episode: 113, duration: 0.666s, episode steps: 101, steps per second: 152, episode reward: 101.000, mean reward:  1.000 [ 1.000,  1.000], mean action: 0.515 [0.000, 1.000],  loss: 4.108930, mae: 9.949999, mean_q: 19.185842, mean_tau: 0.703720\n",
            " 3396/10000: episode: 114, duration: 0.341s, episode steps:  53, steps per second: 156, episode reward: 53.000, mean reward:  1.000 [ 1.000,  1.000], mean action: 0.472 [0.000, 1.000],  loss: 3.968497, mae: 10.090772, mean_q: 19.565308, mean_tau: 0.696790\n",
            " 3436/10000: episode: 115, duration: 0.260s, episode steps:  40, steps per second: 154, episode reward: 40.000, mean reward:  1.000 [ 1.000,  1.000], mean action: 0.475 [0.000, 1.000],  loss: 4.090376, mae: 10.235937, mean_q: 19.795324, mean_tau: 0.692605\n",
            " 3486/10000: episode: 116, duration: 0.351s, episode steps:  50, steps per second: 142, episode reward: 50.000, mean reward:  1.000 [ 1.000,  1.000], mean action: 0.480 [0.000, 1.000],  loss: 3.988424, mae: 10.276220, mean_q: 19.853466, mean_tau: 0.688555\n",
            " 3536/10000: episode: 117, duration: 0.325s, episode steps:  50, steps per second: 154, episode reward: 50.000, mean reward:  1.000 [ 1.000,  1.000], mean action: 0.480 [0.000, 1.000],  loss: 3.188888, mae: 10.401973, mean_q: 20.307945, mean_tau: 0.684055\n",
            " 3611/10000: episode: 118, duration: 0.497s, episode steps:  75, steps per second: 151, episode reward: 75.000, mean reward:  1.000 [ 1.000,  1.000], mean action: 0.507 [0.000, 1.000],  loss: 3.918282, mae: 10.496201, mean_q: 20.349556, mean_tau: 0.678430\n",
            " 3646/10000: episode: 119, duration: 0.236s, episode steps:  35, steps per second: 148, episode reward: 35.000, mean reward:  1.000 [ 1.000,  1.000], mean action: 0.486 [0.000, 1.000],  loss: 4.240813, mae: 10.638478, mean_q: 20.601303, mean_tau: 0.673480\n",
            " 3732/10000: episode: 120, duration: 0.560s, episode steps:  86, steps per second: 154, episode reward: 86.000, mean reward:  1.000 [ 1.000,  1.000], mean action: 0.523 [0.000, 1.000],  loss: 4.037725, mae: 10.712576, mean_q: 20.794319, mean_tau: 0.668035\n",
            " 3789/10000: episode: 121, duration: 0.371s, episode steps:  57, steps per second: 154, episode reward: 57.000, mean reward:  1.000 [ 1.000,  1.000], mean action: 0.474 [0.000, 1.000],  loss: 3.399675, mae: 10.835090, mean_q: 21.144230, mean_tau: 0.661600\n",
            " 3845/10000: episode: 122, duration: 0.360s, episode steps:  56, steps per second: 156, episode reward: 56.000, mean reward:  1.000 [ 1.000,  1.000], mean action: 0.518 [0.000, 1.000],  loss: 4.007638, mae: 11.066468, mean_q: 21.574442, mean_tau: 0.656515\n",
            " 3933/10000: episode: 123, duration: 0.568s, episode steps:  88, steps per second: 155, episode reward: 88.000, mean reward:  1.000 [ 1.000,  1.000], mean action: 0.489 [0.000, 1.000],  loss: 3.994652, mae: 11.120856, mean_q: 21.657922, mean_tau: 0.650035\n",
            " 4003/10000: episode: 124, duration: 0.446s, episode steps:  70, steps per second: 157, episode reward: 70.000, mean reward:  1.000 [ 1.000,  1.000], mean action: 0.514 [0.000, 1.000],  loss: 5.073375, mae: 11.335458, mean_q: 21.933541, mean_tau: 0.642925\n",
            " 4041/10000: episode: 125, duration: 0.248s, episode steps:  38, steps per second: 153, episode reward: 38.000, mean reward:  1.000 [ 1.000,  1.000], mean action: 0.474 [0.000, 1.000],  loss: 4.265710, mae: 11.399670, mean_q: 22.110864, mean_tau: 0.638065\n",
            " 4071/10000: episode: 126, duration: 0.189s, episode steps:  30, steps per second: 159, episode reward: 30.000, mean reward:  1.000 [ 1.000,  1.000], mean action: 0.467 [0.000, 1.000],  loss: 4.441486, mae: 11.388398, mean_q: 22.115183, mean_tau: 0.635005\n",
            " 4148/10000: episode: 127, duration: 0.516s, episode steps:  77, steps per second: 149, episode reward: 77.000, mean reward:  1.000 [ 1.000,  1.000], mean action: 0.481 [0.000, 1.000],  loss: 4.950583, mae: 11.591605, mean_q: 22.432588, mean_tau: 0.630190\n",
            " 4298/10000: episode: 128, duration: 0.931s, episode steps: 150, steps per second: 161, episode reward: 150.000, mean reward:  1.000 [ 1.000,  1.000], mean action: 0.493 [0.000, 1.000],  loss: 4.410244, mae: 11.721623, mean_q: 22.743489, mean_tau: 0.619975\n",
            " 4331/10000: episode: 129, duration: 0.207s, episode steps:  33, steps per second: 160, episode reward: 33.000, mean reward:  1.000 [ 1.000,  1.000], mean action: 0.485 [0.000, 1.000],  loss: 4.221826, mae: 11.858362, mean_q: 23.082338, mean_tau: 0.611740\n",
            " 4396/10000: episode: 130, duration: 0.418s, episode steps:  65, steps per second: 156, episode reward: 65.000, mean reward:  1.000 [ 1.000,  1.000], mean action: 0.477 [0.000, 1.000],  loss: 4.622717, mae: 11.932243, mean_q: 23.272956, mean_tau: 0.607330\n",
            " 4475/10000: episode: 131, duration: 0.501s, episode steps:  79, steps per second: 158, episode reward: 79.000, mean reward:  1.000 [ 1.000,  1.000], mean action: 0.468 [0.000, 1.000],  loss: 4.164406, mae: 12.058276, mean_q: 23.526378, mean_tau: 0.600850\n",
            " 4553/10000: episode: 132, duration: 0.505s, episode steps:  78, steps per second: 155, episode reward: 78.000, mean reward:  1.000 [ 1.000,  1.000], mean action: 0.462 [0.000, 1.000],  loss: 5.781456, mae: 12.274878, mean_q: 23.810773, mean_tau: 0.593785\n",
            " 4603/10000: episode: 133, duration: 0.325s, episode steps:  50, steps per second: 154, episode reward: 50.000, mean reward:  1.000 [ 1.000,  1.000], mean action: 0.500 [0.000, 1.000],  loss: 3.806809, mae: 12.286983, mean_q: 24.048994, mean_tau: 0.588025\n",
            " 4638/10000: episode: 134, duration: 0.245s, episode steps:  35, steps per second: 143, episode reward: 35.000, mean reward:  1.000 [ 1.000,  1.000], mean action: 0.486 [0.000, 1.000],  loss: 6.677536, mae: 12.481555, mean_q: 24.180432, mean_tau: 0.584200\n",
            " 4690/10000: episode: 135, duration: 0.331s, episode steps:  52, steps per second: 157, episode reward: 52.000, mean reward:  1.000 [ 1.000,  1.000], mean action: 0.462 [0.000, 1.000],  loss: 4.236977, mae: 12.398653, mean_q: 24.265247, mean_tau: 0.580285\n",
            " 4800/10000: episode: 136, duration: 0.696s, episode steps: 110, steps per second: 158, episode reward: 110.000, mean reward:  1.000 [ 1.000,  1.000], mean action: 0.518 [0.000, 1.000],  loss: 4.433142, mae: 12.588564, mean_q: 24.711995, mean_tau: 0.572995\n",
            " 4890/10000: episode: 137, duration: 0.575s, episode steps:  90, steps per second: 156, episode reward: 90.000, mean reward:  1.000 [ 1.000,  1.000], mean action: 0.478 [0.000, 1.000],  loss: 4.996926, mae: 12.827284, mean_q: 25.136209, mean_tau: 0.563995\n",
            " 4967/10000: episode: 138, duration: 0.502s, episode steps:  77, steps per second: 153, episode reward: 77.000, mean reward:  1.000 [ 1.000,  1.000], mean action: 0.532 [0.000, 1.000],  loss: 4.423174, mae: 13.033197, mean_q: 25.612387, mean_tau: 0.556480\n",
            " 5015/10000: episode: 139, duration: 0.307s, episode steps:  48, steps per second: 157, episode reward: 48.000, mean reward:  1.000 [ 1.000,  1.000], mean action: 0.458 [0.000, 1.000],  loss: 3.720842, mae: 13.091806, mean_q: 25.787927, mean_tau: 0.550855\n",
            " 5104/10000: episode: 140, duration: 0.576s, episode steps:  89, steps per second: 154, episode reward: 89.000, mean reward:  1.000 [ 1.000,  1.000], mean action: 0.483 [0.000, 1.000],  loss: 4.041755, mae: 13.310224, mean_q: 26.291697, mean_tau: 0.544690\n",
            " 5170/10000: episode: 141, duration: 0.440s, episode steps:  66, steps per second: 150, episode reward: 66.000, mean reward:  1.000 [ 1.000,  1.000], mean action: 0.470 [0.000, 1.000],  loss: 5.884387, mae: 13.473257, mean_q: 26.346031, mean_tau: 0.537715\n",
            " 5268/10000: episode: 142, duration: 0.623s, episode steps:  98, steps per second: 157, episode reward: 98.000, mean reward:  1.000 [ 1.000,  1.000], mean action: 0.469 [0.000, 1.000],  loss: 5.486183, mae: 13.581922, mean_q: 26.605011, mean_tau: 0.530335\n",
            " 5312/10000: episode: 143, duration: 0.281s, episode steps:  44, steps per second: 157, episode reward: 44.000, mean reward:  1.000 [ 1.000,  1.000], mean action: 0.545 [0.000, 1.000],  loss: 5.556916, mae: 13.748265, mean_q: 26.941912, mean_tau: 0.523945\n",
            " 5396/10000: episode: 144, duration: 0.543s, episode steps:  84, steps per second: 155, episode reward: 84.000, mean reward:  1.000 [ 1.000,  1.000], mean action: 0.524 [0.000, 1.000],  loss: 5.001770, mae: 13.776303, mean_q: 27.084291, mean_tau: 0.518185\n",
            " 5443/10000: episode: 145, duration: 0.293s, episode steps:  47, steps per second: 161, episode reward: 47.000, mean reward:  1.000 [ 1.000,  1.000], mean action: 0.468 [0.000, 1.000],  loss: 6.189267, mae: 14.026326, mean_q: 27.484325, mean_tau: 0.512290\n",
            " 5502/10000: episode: 146, duration: 0.389s, episode steps:  59, steps per second: 152, episode reward: 59.000, mean reward:  1.000 [ 1.000,  1.000], mean action: 0.441 [0.000, 1.000],  loss: 4.956995, mae: 13.961539, mean_q: 27.460710, mean_tau: 0.507520\n",
            " 5616/10000: episode: 147, duration: 0.725s, episode steps: 114, steps per second: 157, episode reward: 114.000, mean reward:  1.000 [ 1.000,  1.000], mean action: 0.518 [0.000, 1.000],  loss: 5.219733, mae: 14.183665, mean_q: 27.879862, mean_tau: 0.499735\n",
            " 5686/10000: episode: 148, duration: 0.456s, episode steps:  70, steps per second: 154, episode reward: 70.000, mean reward:  1.000 [ 1.000,  1.000], mean action: 0.471 [0.000, 1.000],  loss: 5.047899, mae: 14.397861, mean_q: 28.390078, mean_tau: 0.491455\n",
            " 5769/10000: episode: 149, duration: 0.556s, episode steps:  83, steps per second: 149, episode reward: 83.000, mean reward:  1.000 [ 1.000,  1.000], mean action: 0.470 [0.000, 1.000],  loss: 5.327809, mae: 14.506506, mean_q: 28.502069, mean_tau: 0.484570\n",
            " 5845/10000: episode: 150, duration: 0.507s, episode steps:  76, steps per second: 150, episode reward: 76.000, mean reward:  1.000 [ 1.000,  1.000], mean action: 0.447 [0.000, 1.000],  loss: 5.067294, mae: 14.624946, mean_q: 28.833786, mean_tau: 0.477415\n",
            " 5968/10000: episode: 151, duration: 0.772s, episode steps: 123, steps per second: 159, episode reward: 123.000, mean reward:  1.000 [ 1.000,  1.000], mean action: 0.520 [0.000, 1.000],  loss: 6.424724, mae: 14.826084, mean_q: 29.110081, mean_tau: 0.468460\n",
            " 6116/10000: episode: 152, duration: 0.928s, episode steps: 148, steps per second: 159, episode reward: 148.000, mean reward:  1.000 [ 1.000,  1.000], mean action: 0.514 [0.000, 1.000],  loss: 5.338088, mae: 15.027223, mean_q: 29.655559, mean_tau: 0.456265\n",
            " 6196/10000: episode: 153, duration: 0.526s, episode steps:  80, steps per second: 152, episode reward: 80.000, mean reward:  1.000 [ 1.000,  1.000], mean action: 0.450 [0.000, 1.000],  loss: 4.795175, mae: 15.229119, mean_q: 30.020689, mean_tau: 0.446005\n",
            " 6343/10000: episode: 154, duration: 0.946s, episode steps: 147, steps per second: 155, episode reward: 147.000, mean reward:  1.000 [ 1.000,  1.000], mean action: 0.476 [0.000, 1.000],  loss: 6.236522, mae: 15.443898, mean_q: 30.382371, mean_tau: 0.435790\n",
            " 6408/10000: episode: 155, duration: 0.417s, episode steps:  65, steps per second: 156, episode reward: 65.000, mean reward:  1.000 [ 1.000,  1.000], mean action: 0.446 [0.000, 1.000],  loss: 5.841557, mae: 15.567836, mean_q: 30.626447, mean_tau: 0.426250\n",
            " 6498/10000: episode: 156, duration: 0.587s, episode steps:  90, steps per second: 153, episode reward: 90.000, mean reward:  1.000 [ 1.000,  1.000], mean action: 0.456 [0.000, 1.000],  loss: 6.327381, mae: 15.761795, mean_q: 31.089243, mean_tau: 0.419275\n",
            " 6609/10000: episode: 157, duration: 0.723s, episode steps: 111, steps per second: 153, episode reward: 111.000, mean reward:  1.000 [ 1.000,  1.000], mean action: 0.459 [0.000, 1.000],  loss: 5.145561, mae: 15.839598, mean_q: 31.293097, mean_tau: 0.410230\n",
            " 6700/10000: episode: 158, duration: 0.589s, episode steps:  91, steps per second: 155, episode reward: 91.000, mean reward:  1.000 [ 1.000,  1.000], mean action: 0.462 [0.000, 1.000],  loss: 4.644321, mae: 15.984628, mean_q: 31.641735, mean_tau: 0.401140\n",
            " 6826/10000: episode: 159, duration: 0.807s, episode steps: 126, steps per second: 156, episode reward: 126.000, mean reward:  1.000 [ 1.000,  1.000], mean action: 0.468 [0.000, 1.000],  loss: 5.343832, mae: 16.274668, mean_q: 32.255614, mean_tau: 0.391375\n",
            " 6901/10000: episode: 160, duration: 0.470s, episode steps:  75, steps per second: 160, episode reward: 75.000, mean reward:  1.000 [ 1.000,  1.000], mean action: 0.520 [0.000, 1.000],  loss: 6.615306, mae: 16.415057, mean_q: 32.473783, mean_tau: 0.382330\n",
            " 7012/10000: episode: 161, duration: 0.715s, episode steps: 111, steps per second: 155, episode reward: 111.000, mean reward:  1.000 [ 1.000,  1.000], mean action: 0.514 [0.000, 1.000],  loss: 5.409502, mae: 16.521080, mean_q: 32.683366, mean_tau: 0.373960\n",
            " 7173/10000: episode: 162, duration: 1.022s, episode steps: 161, steps per second: 158, episode reward: 161.000, mean reward:  1.000 [ 1.000,  1.000], mean action: 0.472 [0.000, 1.000],  loss: 7.649769, mae: 16.848994, mean_q: 33.222908, mean_tau: 0.361720\n",
            " 7330/10000: episode: 163, duration: 0.995s, episode steps: 157, steps per second: 158, episode reward: 157.000, mean reward:  1.000 [ 1.000,  1.000], mean action: 0.522 [0.000, 1.000],  loss: 6.667174, mae: 17.016642, mean_q: 33.636956, mean_tau: 0.347410\n",
            " 7530/10000: episode: 164, duration: 1.298s, episode steps: 200, steps per second: 154, episode reward: 200.000, mean reward:  1.000 [ 1.000,  1.000], mean action: 0.510 [0.000, 1.000],  loss: 6.156155, mae: 17.331407, mean_q: 34.361299, mean_tau: 0.331345\n",
            " 7668/10000: episode: 165, duration: 0.917s, episode steps: 138, steps per second: 151, episode reward: 138.000, mean reward:  1.000 [ 1.000,  1.000], mean action: 0.457 [0.000, 1.000],  loss: 7.832826, mae: 17.608458, mean_q: 34.730225, mean_tau: 0.316135\n",
            " 7823/10000: episode: 166, duration: 0.994s, episode steps: 155, steps per second: 156, episode reward: 155.000, mean reward:  1.000 [ 1.000,  1.000], mean action: 0.458 [0.000, 1.000],  loss: 6.651241, mae: 17.803938, mean_q: 35.193189, mean_tau: 0.302950\n",
            " 7977/10000: episode: 167, duration: 0.979s, episode steps: 154, steps per second: 157, episode reward: 154.000, mean reward:  1.000 [ 1.000,  1.000], mean action: 0.455 [0.000, 1.000],  loss: 5.801001, mae: 18.083758, mean_q: 35.828180, mean_tau: 0.289045\n",
            " 8124/10000: episode: 168, duration: 0.935s, episode steps: 147, steps per second: 157, episode reward: 147.000, mean reward:  1.000 [ 1.000,  1.000], mean action: 0.463 [0.000, 1.000],  loss: 6.720350, mae: 18.285963, mean_q: 36.201018, mean_tau: 0.275500\n",
            " 8290/10000: episode: 169, duration: 1.071s, episode steps: 166, steps per second: 155, episode reward: 166.000, mean reward:  1.000 [ 1.000,  1.000], mean action: 0.464 [0.000, 1.000],  loss: 7.293790, mae: 18.502976, mean_q: 36.625064, mean_tau: 0.261415\n",
            " 8490/10000: episode: 170, duration: 1.281s, episode steps: 200, steps per second: 156, episode reward: 200.000, mean reward:  1.000 [ 1.000,  1.000], mean action: 0.485 [0.000, 1.000],  loss: 7.670532, mae: 18.703848, mean_q: 37.038198, mean_tau: 0.244945\n",
            " 8682/10000: episode: 171, duration: 1.214s, episode steps: 192, steps per second: 158, episode reward: 192.000, mean reward:  1.000 [ 1.000,  1.000], mean action: 0.479 [0.000, 1.000],  loss: 6.473673, mae: 19.057582, mean_q: 37.850596, mean_tau: 0.227305\n",
            " 8837/10000: episode: 172, duration: 0.997s, episode steps: 155, steps per second: 155, episode reward: 155.000, mean reward:  1.000 [ 1.000,  1.000], mean action: 0.471 [0.000, 1.000],  loss: 7.753268, mae: 19.316574, mean_q: 38.268439, mean_tau: 0.211690\n",
            " 9037/10000: episode: 173, duration: 1.280s, episode steps: 200, steps per second: 156, episode reward: 200.000, mean reward:  1.000 [ 1.000,  1.000], mean action: 0.475 [0.000, 1.000],  loss: 7.330695, mae: 19.546376, mean_q: 38.773803, mean_tau: 0.195715\n",
            " 9237/10000: episode: 174, duration: 1.268s, episode steps: 200, steps per second: 158, episode reward: 200.000, mean reward:  1.000 [ 1.000,  1.000], mean action: 0.480 [0.000, 1.000],  loss: 7.371597, mae: 19.784669, mean_q: 39.269139, mean_tau: 0.177715\n",
            " 9437/10000: episode: 175, duration: 1.289s, episode steps: 200, steps per second: 155, episode reward: 200.000, mean reward:  1.000 [ 1.000,  1.000], mean action: 0.490 [0.000, 1.000],  loss: 8.224055, mae: 20.116561, mean_q: 39.950925, mean_tau: 0.159715\n",
            " 9602/10000: episode: 176, duration: 1.054s, episode steps: 165, steps per second: 156, episode reward: 165.000, mean reward:  1.000 [ 1.000,  1.000], mean action: 0.473 [0.000, 1.000],  loss: 7.821775, mae: 20.316382, mean_q: 40.399957, mean_tau: 0.143290\n",
            " 9781/10000: episode: 177, duration: 1.165s, episode steps: 179, steps per second: 154, episode reward: 179.000, mean reward:  1.000 [ 1.000,  1.000], mean action: 0.480 [0.000, 1.000],  loss: 8.058986, mae: 20.565195, mean_q: 40.848813, mean_tau: 0.127810\n",
            " 9981/10000: episode: 178, duration: 1.280s, episode steps: 200, steps per second: 156, episode reward: 200.000, mean reward:  1.000 [ 1.000,  1.000], mean action: 0.485 [0.000, 1.000],  loss: 8.112255, mae: 20.903043, mean_q: 41.551165, mean_tau: 0.110755\n",
            "done, took 65.632 seconds\n"
          ],
          "name": "stdout"
        },
        {
          "output_type": "display_data",
          "data": {
            "image/png": "[encoded data removed]",
            "text/plain": [
              "<Figure size 432x288 with 1 Axes>"
            ]
          },
          "metadata": {
            "tags": [],
            "needs_background": "light"
          }
        },
        {
          "output_type": "stream",
          "text": [
            "Testing for 20 episodes ...\n",
            "Episode 1: reward: 200.000, steps: 200\n",
            "Episode 2: reward: 200.000, steps: 200\n",
            "Episode 3: reward: 200.000, steps: 200\n",
            "Episode 4: reward: 200.000, steps: 200\n",
            "Episode 5: reward: 200.000, steps: 200\n",
            "Episode 6: reward: 200.000, steps: 200\n",
            "Episode 7: reward: 200.000, steps: 200\n",
            "Episode 8: reward: 200.000, steps: 200\n",
            "Episode 9: reward: 200.000, steps: 200\n",
            "Episode 10: reward: 200.000, steps: 200\n",
            "Episode 11: reward: 200.000, steps: 200\n",
            "Episode 12: reward: 200.000, steps: 200\n",
            "Episode 13: reward: 200.000, steps: 200\n",
            "Episode 14: reward: 200.000, steps: 200\n",
            "Episode 15: reward: 200.000, steps: 200\n",
            "Episode 16: reward: 200.000, steps: 200\n",
            "Episode 17: reward: 200.000, steps: 200\n",
            "Episode 18: reward: 200.000, steps: 200\n",
            "Episode 19: reward: 200.000, steps: 200\n",
            "Episode 20: reward: 200.000, steps: 200\n"
          ],
          "name": "stdout"
        },
        {
          "output_type": "execute_result",
          "data": {
            "text/plain": [
              "<tensorflow.python.keras.callbacks.History at 0x7f52ae6cded0>"
            ]
          },
          "metadata": {
            "tags": []
          },
          "execution_count": 8
        }
      ]
    }
  ]
}