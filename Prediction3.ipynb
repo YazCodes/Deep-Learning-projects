{
  "nbformat": 4,
  "nbformat_minor": 0,
  "metadata": {
    "colab": {
      "name": "Prediction3.ipynb",
      "provenance": [],
      "authorship_tag": "ABX9TyMCd4ogcxeG+FUK7dLDlP9V",
      "include_colab_link": true
    },
    "kernelspec": {
      "name": "python3",
      "display_name": "Python 3"
    },
    "language_info": {
      "name": "python"
    }
  },
  "cells": [
    {
      "cell_type": "markdown",
      "metadata": {
        "id": "view-in-github",
        "colab_type": "text"
      },
      "source": [
        "<a href=\"https://colab.research.google.com/github/YazCodes/Deep-Learning-projects/blob/main/Prediction3.ipynb\" target=\"_parent\"><img src=\"https://colab.research.google.com/assets/colab-badge.svg\" alt=\"Open In Colab\"/></a>"
      ]
    },
    {
      "cell_type": "markdown",
      "metadata": {
        "id": "_CUKWUcft3Hg"
      },
      "source": [
        "DQN for cartpole"
      ]
    },
    {
      "cell_type": "code",
      "metadata": {
        "colab": {
          "base_uri": "https://localhost:8080/"
        },
        "id": "aQNVaN0XtuNB",
        "outputId": "a0dddcd4-7e11-4081-97ed-26791a02eac8"
      },
      "source": [
        "# install keras rl2 (we need to install keras-rl2 so it works with the tensorflow 2 version that comes pre-installed with colab)\n",
        "!pip install keras-rl2"
      ],
      "execution_count": 1,
      "outputs": [
        {
          "output_type": "stream",
          "text": [
            "Collecting keras-rl2\n",
            "\u001b[?25l  Downloading https://files.pythonhosted.org/packages/dd/34/94ffeab44eef43e22a01d82aa0ca062a97392c2c2415ba8b210e72053285/keras_rl2-1.0.4-py3-none-any.whl (53kB)\n",
            "\r\u001b[K     |██████▏                         | 10kB 15.2MB/s eta 0:00:01\r\u001b[K     |████████████▎                   | 20kB 18.3MB/s eta 0:00:01\r\u001b[K     |██████████████████▌             | 30kB 10.0MB/s eta 0:00:01\r\u001b[K     |████████████████████████▋       | 40kB 8.2MB/s eta 0:00:01\r\u001b[K     |██████████████████████████████▉ | 51kB 4.8MB/s eta 0:00:01\r\u001b[K     |████████████████████████████████| 61kB 3.1MB/s \n",
            "\u001b[?25hRequirement already satisfied: tensorflow>=2.1.0 in /usr/local/lib/python3.7/dist-packages (from keras-rl2) (2.4.1)\n",
            "Requirement already satisfied: gast==0.3.3 in /usr/local/lib/python3.7/dist-packages (from tensorflow>=2.1.0->keras-rl2) (0.3.3)\n",
            "Requirement already satisfied: astunparse~=1.6.3 in /usr/local/lib/python3.7/dist-packages (from tensorflow>=2.1.0->keras-rl2) (1.6.3)\n",
            "Requirement already satisfied: h5py~=2.10.0 in /usr/local/lib/python3.7/dist-packages (from tensorflow>=2.1.0->keras-rl2) (2.10.0)\n",
            "Requirement already satisfied: tensorboard~=2.4 in /usr/local/lib/python3.7/dist-packages (from tensorflow>=2.1.0->keras-rl2) (2.4.1)\n",
            "Requirement already satisfied: grpcio~=1.32.0 in /usr/local/lib/python3.7/dist-packages (from tensorflow>=2.1.0->keras-rl2) (1.32.0)\n",
            "Requirement already satisfied: keras-preprocessing~=1.1.2 in /usr/local/lib/python3.7/dist-packages (from tensorflow>=2.1.0->keras-rl2) (1.1.2)\n",
            "Requirement already satisfied: tensorflow-estimator<2.5.0,>=2.4.0 in /usr/local/lib/python3.7/dist-packages (from tensorflow>=2.1.0->keras-rl2) (2.4.0)\n",
            "Requirement already satisfied: flatbuffers~=1.12.0 in /usr/local/lib/python3.7/dist-packages (from tensorflow>=2.1.0->keras-rl2) (1.12)\n",
            "Requirement already satisfied: typing-extensions~=3.7.4 in /usr/local/lib/python3.7/dist-packages (from tensorflow>=2.1.0->keras-rl2) (3.7.4.3)\n",
            "Requirement already satisfied: six~=1.15.0 in /usr/local/lib/python3.7/dist-packages (from tensorflow>=2.1.0->keras-rl2) (1.15.0)\n",
            "Requirement already satisfied: protobuf>=3.9.2 in /usr/local/lib/python3.7/dist-packages (from tensorflow>=2.1.0->keras-rl2) (3.12.4)\n",
            "Requirement already satisfied: wrapt~=1.12.1 in /usr/local/lib/python3.7/dist-packages (from tensorflow>=2.1.0->keras-rl2) (1.12.1)\n",
            "Requirement already satisfied: opt-einsum~=3.3.0 in /usr/local/lib/python3.7/dist-packages (from tensorflow>=2.1.0->keras-rl2) (3.3.0)\n",
            "Requirement already satisfied: termcolor~=1.1.0 in /usr/local/lib/python3.7/dist-packages (from tensorflow>=2.1.0->keras-rl2) (1.1.0)\n",
            "Requirement already satisfied: wheel~=0.35 in /usr/local/lib/python3.7/dist-packages (from tensorflow>=2.1.0->keras-rl2) (0.36.2)\n",
            "Requirement already satisfied: numpy~=1.19.2 in /usr/local/lib/python3.7/dist-packages (from tensorflow>=2.1.0->keras-rl2) (1.19.5)\n",
            "Requirement already satisfied: google-pasta~=0.2 in /usr/local/lib/python3.7/dist-packages (from tensorflow>=2.1.0->keras-rl2) (0.2.0)\n",
            "Requirement already satisfied: absl-py~=0.10 in /usr/local/lib/python3.7/dist-packages (from tensorflow>=2.1.0->keras-rl2) (0.10.0)\n",
            "Requirement already satisfied: requests<3,>=2.21.0 in /usr/local/lib/python3.7/dist-packages (from tensorboard~=2.4->tensorflow>=2.1.0->keras-rl2) (2.23.0)\n",
            "Requirement already satisfied: tensorboard-plugin-wit>=1.6.0 in /usr/local/lib/python3.7/dist-packages (from tensorboard~=2.4->tensorflow>=2.1.0->keras-rl2) (1.8.0)\n",
            "Requirement already satisfied: markdown>=2.6.8 in /usr/local/lib/python3.7/dist-packages (from tensorboard~=2.4->tensorflow>=2.1.0->keras-rl2) (3.3.4)\n",
            "Requirement already satisfied: setuptools>=41.0.0 in /usr/local/lib/python3.7/dist-packages (from tensorboard~=2.4->tensorflow>=2.1.0->keras-rl2) (54.1.2)\n",
            "Requirement already satisfied: google-auth-oauthlib<0.5,>=0.4.1 in /usr/local/lib/python3.7/dist-packages (from tensorboard~=2.4->tensorflow>=2.1.0->keras-rl2) (0.4.3)\n",
            "Requirement already satisfied: google-auth<2,>=1.6.3 in /usr/local/lib/python3.7/dist-packages (from tensorboard~=2.4->tensorflow>=2.1.0->keras-rl2) (1.27.1)\n",
            "Requirement already satisfied: werkzeug>=0.11.15 in /usr/local/lib/python3.7/dist-packages (from tensorboard~=2.4->tensorflow>=2.1.0->keras-rl2) (1.0.1)\n",
            "Requirement already satisfied: certifi>=2017.4.17 in /usr/local/lib/python3.7/dist-packages (from requests<3,>=2.21.0->tensorboard~=2.4->tensorflow>=2.1.0->keras-rl2) (2020.12.5)\n",
            "Requirement already satisfied: chardet<4,>=3.0.2 in /usr/local/lib/python3.7/dist-packages (from requests<3,>=2.21.0->tensorboard~=2.4->tensorflow>=2.1.0->keras-rl2) (3.0.4)\n",
            "Requirement already satisfied: urllib3!=1.25.0,!=1.25.1,<1.26,>=1.21.1 in /usr/local/lib/python3.7/dist-packages (from requests<3,>=2.21.0->tensorboard~=2.4->tensorflow>=2.1.0->keras-rl2) (1.24.3)\n",
            "Requirement already satisfied: idna<3,>=2.5 in /usr/local/lib/python3.7/dist-packages (from requests<3,>=2.21.0->tensorboard~=2.4->tensorflow>=2.1.0->keras-rl2) (2.10)\n",
            "Requirement already satisfied: importlib-metadata; python_version < \"3.8\" in /usr/local/lib/python3.7/dist-packages (from markdown>=2.6.8->tensorboard~=2.4->tensorflow>=2.1.0->keras-rl2) (3.7.2)\n",
            "Requirement already satisfied: requests-oauthlib>=0.7.0 in /usr/local/lib/python3.7/dist-packages (from google-auth-oauthlib<0.5,>=0.4.1->tensorboard~=2.4->tensorflow>=2.1.0->keras-rl2) (1.3.0)\n",
            "Requirement already satisfied: cachetools<5.0,>=2.0.0 in /usr/local/lib/python3.7/dist-packages (from google-auth<2,>=1.6.3->tensorboard~=2.4->tensorflow>=2.1.0->keras-rl2) (4.2.1)\n",
            "Requirement already satisfied: pyasn1-modules>=0.2.1 in /usr/local/lib/python3.7/dist-packages (from google-auth<2,>=1.6.3->tensorboard~=2.4->tensorflow>=2.1.0->keras-rl2) (0.2.8)\n",
            "Requirement already satisfied: rsa<5,>=3.1.4; python_version >= \"3.6\" in /usr/local/lib/python3.7/dist-packages (from google-auth<2,>=1.6.3->tensorboard~=2.4->tensorflow>=2.1.0->keras-rl2) (4.7.2)\n",
            "Requirement already satisfied: zipp>=0.5 in /usr/local/lib/python3.7/dist-packages (from importlib-metadata; python_version < \"3.8\"->markdown>=2.6.8->tensorboard~=2.4->tensorflow>=2.1.0->keras-rl2) (3.4.1)\n",
            "Requirement already satisfied: oauthlib>=3.0.0 in /usr/local/lib/python3.7/dist-packages (from requests-oauthlib>=0.7.0->google-auth-oauthlib<0.5,>=0.4.1->tensorboard~=2.4->tensorflow>=2.1.0->keras-rl2) (3.1.0)\n",
            "Requirement already satisfied: pyasn1<0.5.0,>=0.4.6 in /usr/local/lib/python3.7/dist-packages (from pyasn1-modules>=0.2.1->google-auth<2,>=1.6.3->tensorboard~=2.4->tensorflow>=2.1.0->keras-rl2) (0.4.8)\n",
            "Installing collected packages: keras-rl2\n",
            "Successfully installed keras-rl2-1.0.4\n"
          ],
          "name": "stdout"
        }
      ]
    },
    {
      "cell_type": "code",
      "metadata": {
        "colab": {
          "base_uri": "https://localhost:8080/"
        },
        "id": "zr6MBOzWuFJY",
        "outputId": "0661446d-e197-48b3-c075-8798094585ce"
      },
      "source": [
        "!pip install gym"
      ],
      "execution_count": 2,
      "outputs": [
        {
          "output_type": "stream",
          "text": [
            "Requirement already satisfied: gym in /usr/local/lib/python3.7/dist-packages (0.17.3)\n",
            "Requirement already satisfied: scipy in /usr/local/lib/python3.7/dist-packages (from gym) (1.4.1)\n",
            "Requirement already satisfied: numpy>=1.10.4 in /usr/local/lib/python3.7/dist-packages (from gym) (1.19.5)\n",
            "Requirement already satisfied: cloudpickle<1.7.0,>=1.2.0 in /usr/local/lib/python3.7/dist-packages (from gym) (1.3.0)\n",
            "Requirement already satisfied: pyglet<=1.5.0,>=1.4.0 in /usr/local/lib/python3.7/dist-packages (from gym) (1.5.0)\n",
            "Requirement already satisfied: future in /usr/local/lib/python3.7/dist-packages (from pyglet<=1.5.0,>=1.4.0->gym) (0.16.0)\n"
          ],
          "name": "stdout"
        }
      ]
    },
    {
      "cell_type": "code",
      "metadata": {
        "id": "VCP8mBGnuJ1E"
      },
      "source": [
        "# load the gym module\n",
        "import gym\n",
        "import matplotlib.pyplot as plt\n",
        "# import the usual Keras modules for creating deep neural networks\n",
        "from keras import Sequential\n",
        "from keras.layers import Input, Flatten, Dense\n",
        "from keras.optimizers import Adam\n",
        "\n",
        "ENV_NAME = 'CartPole-v0'\n",
        "env = gym.make(ENV_NAME)"
      ],
      "execution_count": 4,
      "outputs": []
    },
    {
      "cell_type": "code",
      "metadata": {
        "colab": {
          "base_uri": "https://localhost:8080/"
        },
        "id": "mhQ1EbZLwhWD",
        "outputId": "36b2cf90-80ea-4cda-8073-d688fcc5cac6"
      },
      "source": [
        "print(env.observation_space.shape) #gives us a tupel. 0 is the first element of the tupel"
      ],
      "execution_count": 5,
      "outputs": [
        {
          "output_type": "stream",
          "text": [
            "(4,)\n"
          ],
          "name": "stdout"
        }
      ]
    },
    {
      "cell_type": "code",
      "metadata": {
        "colab": {
          "base_uri": "https://localhost:8080/"
        },
        "id": "eUIQR1wtxnwL",
        "outputId": "2a7a65d4-44cf-4a08-faa8-beeaefa45504"
      },
      "source": [
        "#number of actions \n",
        "print(env.action_space.n)"
      ],
      "execution_count": 6,
      "outputs": [
        {
          "output_type": "stream",
          "text": [
            "2\n"
          ],
          "name": "stdout"
        }
      ]
    },
    {
      "cell_type": "code",
      "metadata": {
        "colab": {
          "base_uri": "https://localhost:8080/",
          "height": 1000
        },
        "id": "dEJwofrluTC2",
        "outputId": "38ed14d9-93eb-4486-c2b6-388cb20b52b0"
      },
      "source": [
        "import rl\n",
        "from rl.memory import SequentialMemory  # import the exerience replay buffer module\n",
        "from rl.policy import BoltzmannQPolicy, LinearAnnealedPolicy  # import the policy\n",
        "from rl.agents.dqn import DQNAgent      # import the DQN agent\n",
        "\n",
        "memory = SequentialMemory(limit=1000, window_length=1) #setting up the experince replay buffer\n",
        "#limit = the numer of steps of episodes stored in the replay buffer\n",
        "\n",
        "# define the policy (how we select the actions)\n",
        "# setup the Linear annealed policy with the BoltzmannQPolicy as the inner policy\n",
        "policy =  LinearAnnealedPolicy(inner_policy=BoltzmannQPolicy(),   # policy used to select actions\n",
        "                               attr='tau',                        # attribute in the inner policy to vary             \n",
        "                               value_max=1,                       # maximum value of attribute that is varying\n",
        "                               value_min=.1,                      # minimum value of attribute that is varying\n",
        "                               value_test=.05,                    # test if the value selected is < 0.05\n",
        "                               nb_steps=10000)                    # the number of steps between value_max and value_min\n",
        "#BoltzmannQPolicy has a paramaeter tau the higher the value of tau more exploaration will be down. Lower value = less exploration\n",
        "#default value of tau is one -\n",
        "#need to change the value_max and value_min. \n",
        "# Q-Network\n",
        "model = Sequential() #sequnetial model \n",
        "model.add(Input(shape=(1,env.observation_space.shape[0]))) # 1 = one observation and env.observation_space.shape is the number of states within our observation. 0 = the first element of the tupel\n",
        "model.add(Flatten())\n",
        "# extra layers here\n",
        "model.add(Dense(16, activation='relu')) #one layer network\n",
        "model.add(Dense(env.action_space.n, activation='linear'))   # the output is the number of actions in the action space. Activation has to be linear due to how the q value does its calculation\n",
        "print(model.summary())\n",
        "\n",
        "# define the agent using the DQNAgent class\n",
        "dqn = DQNAgent(model=model,                     # Q-Network model created above ^\n",
        "               nb_actions=env.action_space.n,   # number of actions used above - the data from the enviroment\n",
        "               memory=memory,                   # experience replay memory\n",
        "               nb_steps_warmup=10,              # how many steps are waited before starting experience replay\n",
        "               target_model_update=1e-2,        # how often the target network is updated\n",
        "               policy=policy)                   # the action selection policy\n",
        "\n",
        "dqn.compile(Adam(lr=1e-3), metrics=['mae'])\n",
        "\n",
        "history = dqn.fit(env, nb_steps=1000, visualize=False, verbose=2) #visualize false to save time\n",
        "\n",
        "# summarize the history for number  of episode steps\n",
        "plt.plot(history.history['nb_episode_steps'])\n",
        "plt.ylabel('nb_episode_steps')\n",
        "plt.xlabel('episodes')\n",
        "plt.show()\n",
        "\n",
        "dqn.test(env, nb_episodes=20, visualize=False) #testing for 20 episodes, reward should all be 200- evaluating my algortithm "
      ],
      "execution_count": 7,
      "outputs": [
        {
          "output_type": "stream",
          "text": [
            "Model: \"sequential\"\n",
            "_________________________________________________________________\n",
            "Layer (type)                 Output Shape              Param #   \n",
            "=================================================================\n",
            "flatten (Flatten)            (None, 4)                 0         \n",
            "_________________________________________________________________\n",
            "dense (Dense)                (None, 16)                80        \n",
            "_________________________________________________________________\n",
            "dense_1 (Dense)              (None, 2)                 34        \n",
            "=================================================================\n",
            "Total params: 114\n",
            "Trainable params: 114\n",
            "Non-trainable params: 0\n",
            "_________________________________________________________________\n",
            "None\n",
            "Training for 1000 steps ...\n"
          ],
          "name": "stdout"
        },
        {
          "output_type": "stream",
          "text": [
            "/usr/local/lib/python3.7/dist-packages/tensorflow/python/keras/engine/training.py:2325: UserWarning: `Model.state_updates` will be removed in a future version. This property should not be used in TensorFlow 2.0, as `updates` are applied automatically.\n",
            "  warnings.warn('`Model.state_updates` will be removed in a future version. '\n",
            "/usr/local/lib/python3.7/dist-packages/rl/memory.py:40: UserWarning: Not enough entries to sample without replacement. Consider increasing your warm-up phase to avoid oversampling!\n",
            "  warnings.warn('Not enough entries to sample without replacement. Consider increasing your warm-up phase to avoid oversampling!')\n"
          ],
          "name": "stderr"
        },
        {
          "output_type": "stream",
          "text": [
            "  11/1000: episode: 1, duration: 0.550s, episode steps:  11, steps per second:  20, episode reward: 11.000, mean reward:  1.000 [ 1.000,  1.000], mean action: 0.818 [0.000, 1.000],  loss: --, mae: --, mean_q: --, mean_tau: --\n",
            "  20/1000: episode: 2, duration: 0.065s, episode steps:   9, steps per second: 138, episode reward:  9.000, mean reward:  1.000 [ 1.000,  1.000], mean action: 1.000 [1.000, 1.000],  loss: 0.626360, mae: 0.636915, mean_q: 0.413036, mean_tau: 0.998650\n"
          ],
          "name": "stdout"
        },
        {
          "output_type": "stream",
          "text": [
            "/usr/local/lib/python3.7/dist-packages/rl/memory.py:40: UserWarning: Not enough entries to sample without replacement. Consider increasing your warm-up phase to avoid oversampling!\n",
            "  warnings.warn('Not enough entries to sample without replacement. Consider increasing your warm-up phase to avoid oversampling!')\n",
            "/usr/local/lib/python3.7/dist-packages/rl/memory.py:40: UserWarning: Not enough entries to sample without replacement. Consider increasing your warm-up phase to avoid oversampling!\n",
            "  warnings.warn('Not enough entries to sample without replacement. Consider increasing your warm-up phase to avoid oversampling!')\n"
          ],
          "name": "stderr"
        },
        {
          "output_type": "stream",
          "text": [
            "  54/1000: episode: 3, duration: 0.225s, episode steps:  34, steps per second: 151, episode reward: 34.000, mean reward:  1.000 [ 1.000,  1.000], mean action: 0.382 [0.000, 1.000],  loss: 0.471892, mae: 0.551483, mean_q: 0.471547, mean_tau: 0.996715\n",
            "  72/1000: episode: 4, duration: 0.117s, episode steps:  18, steps per second: 154, episode reward: 18.000, mean reward:  1.000 [ 1.000,  1.000], mean action: 0.500 [0.000, 1.000],  loss: 0.374249, mae: 0.576852, mean_q: 0.548346, mean_tau: 0.994375\n",
            " 106/1000: episode: 5, duration: 0.219s, episode steps:  34, steps per second: 155, episode reward: 34.000, mean reward:  1.000 [ 1.000,  1.000], mean action: 0.529 [0.000, 1.000],  loss: 0.290928, mae: 0.622760, mean_q: 0.696092, mean_tau: 0.992035\n",
            " 116/1000: episode: 6, duration: 0.071s, episode steps:  10, steps per second: 141, episode reward: 10.000, mean reward:  1.000 [ 1.000,  1.000], mean action: 0.300 [0.000, 1.000],  loss: 0.237107, mae: 0.666648, mean_q: 0.796593, mean_tau: 0.990055\n",
            " 148/1000: episode: 7, duration: 0.201s, episode steps:  32, steps per second: 159, episode reward: 32.000, mean reward:  1.000 [ 1.000,  1.000], mean action: 0.531 [0.000, 1.000],  loss: 0.226356, mae: 0.723601, mean_q: 0.947235, mean_tau: 0.988165\n",
            " 165/1000: episode: 8, duration: 0.108s, episode steps:  17, steps per second: 157, episode reward: 17.000, mean reward:  1.000 [ 1.000,  1.000], mean action: 0.588 [0.000, 1.000],  loss: 0.212918, mae: 0.790103, mean_q: 1.110774, mean_tau: 0.985960\n",
            " 197/1000: episode: 9, duration: 0.209s, episode steps:  32, steps per second: 153, episode reward: 32.000, mean reward:  1.000 [ 1.000,  1.000], mean action: 0.656 [0.000, 1.000],  loss: 0.199993, mae: 0.846978, mean_q: 1.237719, mean_tau: 0.983755\n",
            " 224/1000: episode: 10, duration: 0.165s, episode steps:  27, steps per second: 163, episode reward: 27.000, mean reward:  1.000 [ 1.000,  1.000], mean action: 0.481 [0.000, 1.000],  loss: 0.167485, mae: 0.934136, mean_q: 1.489322, mean_tau: 0.981100\n",
            " 236/1000: episode: 11, duration: 0.084s, episode steps:  12, steps per second: 142, episode reward: 12.000, mean reward:  1.000 [ 1.000,  1.000], mean action: 0.250 [0.000, 1.000],  loss: 0.212764, mae: 1.035212, mean_q: 1.693809, mean_tau: 0.979345\n",
            " 257/1000: episode: 12, duration: 0.148s, episode steps:  21, steps per second: 142, episode reward: 21.000, mean reward:  1.000 [ 1.000,  1.000], mean action: 0.571 [0.000, 1.000],  loss: 0.169652, mae: 1.068933, mean_q: 1.776923, mean_tau: 0.977860\n",
            " 277/1000: episode: 13, duration: 0.131s, episode steps:  20, steps per second: 152, episode reward: 20.000, mean reward:  1.000 [ 1.000,  1.000], mean action: 0.650 [0.000, 1.000],  loss: 0.202885, mae: 1.137554, mean_q: 1.928981, mean_tau: 0.976015\n",
            " 292/1000: episode: 14, duration: 0.101s, episode steps:  15, steps per second: 149, episode reward: 15.000, mean reward:  1.000 [ 1.000,  1.000], mean action: 0.267 [0.000, 1.000],  loss: 0.192388, mae: 1.215976, mean_q: 2.099580, mean_tau: 0.974440\n",
            " 306/1000: episode: 15, duration: 0.088s, episode steps:  14, steps per second: 159, episode reward: 14.000, mean reward:  1.000 [ 1.000,  1.000], mean action: 0.286 [0.000, 1.000],  loss: 0.209599, mae: 1.262263, mean_q: 2.208606, mean_tau: 0.973135\n",
            " 318/1000: episode: 16, duration: 0.085s, episode steps:  12, steps per second: 141, episode reward: 12.000, mean reward:  1.000 [ 1.000,  1.000], mean action: 0.750 [0.000, 1.000],  loss: 0.156375, mae: 1.303593, mean_q: 2.328147, mean_tau: 0.971965\n",
            " 329/1000: episode: 17, duration: 0.075s, episode steps:  11, steps per second: 146, episode reward: 11.000, mean reward:  1.000 [ 1.000,  1.000], mean action: 0.091 [0.000, 1.000],  loss: 0.187222, mae: 1.372182, mean_q: 2.448443, mean_tau: 0.970930\n",
            " 365/1000: episode: 18, duration: 0.237s, episode steps:  36, steps per second: 152, episode reward: 36.000, mean reward:  1.000 [ 1.000,  1.000], mean action: 0.528 [0.000, 1.000],  loss: 0.226393, mae: 1.469947, mean_q: 2.657442, mean_tau: 0.968815\n",
            " 394/1000: episode: 19, duration: 0.182s, episode steps:  29, steps per second: 160, episode reward: 29.000, mean reward:  1.000 [ 1.000,  1.000], mean action: 0.414 [0.000, 1.000],  loss: 0.238118, mae: 1.596045, mean_q: 2.896410, mean_tau: 0.965890\n",
            " 414/1000: episode: 20, duration: 0.135s, episode steps:  20, steps per second: 149, episode reward: 20.000, mean reward:  1.000 [ 1.000,  1.000], mean action: 0.500 [0.000, 1.000],  loss: 0.297084, mae: 1.693749, mean_q: 3.118000, mean_tau: 0.963685\n",
            " 438/1000: episode: 21, duration: 0.151s, episode steps:  24, steps per second: 159, episode reward: 24.000, mean reward:  1.000 [ 1.000,  1.000], mean action: 0.375 [0.000, 1.000],  loss: 0.338031, mae: 1.797932, mean_q: 3.291353, mean_tau: 0.961705\n",
            " 450/1000: episode: 22, duration: 0.081s, episode steps:  12, steps per second: 148, episode reward: 12.000, mean reward:  1.000 [ 1.000,  1.000], mean action: 0.417 [0.000, 1.000],  loss: 0.346845, mae: 1.893494, mean_q: 3.457148, mean_tau: 0.960085\n",
            " 463/1000: episode: 23, duration: 0.081s, episode steps:  13, steps per second: 161, episode reward: 13.000, mean reward:  1.000 [ 1.000,  1.000], mean action: 0.692 [0.000, 1.000],  loss: 0.322390, mae: 1.909067, mean_q: 3.530414, mean_tau: 0.958960\n",
            " 477/1000: episode: 24, duration: 0.092s, episode steps:  14, steps per second: 153, episode reward: 14.000, mean reward:  1.000 [ 1.000,  1.000], mean action: 0.786 [0.000, 1.000],  loss: 0.398586, mae: 1.989260, mean_q: 3.683423, mean_tau: 0.957745\n",
            " 487/1000: episode: 25, duration: 0.074s, episode steps:  10, steps per second: 134, episode reward: 10.000, mean reward:  1.000 [ 1.000,  1.000], mean action: 0.200 [0.000, 1.000],  loss: 0.411831, mae: 2.062679, mean_q: 3.807962, mean_tau: 0.956665\n",
            " 516/1000: episode: 26, duration: 0.188s, episode steps:  29, steps per second: 155, episode reward: 29.000, mean reward:  1.000 [ 1.000,  1.000], mean action: 0.448 [0.000, 1.000],  loss: 0.432065, mae: 2.136625, mean_q: 3.970503, mean_tau: 0.954910\n",
            " 529/1000: episode: 27, duration: 0.088s, episode steps:  13, steps per second: 147, episode reward: 13.000, mean reward:  1.000 [ 1.000,  1.000], mean action: 0.308 [0.000, 1.000],  loss: 0.519577, mae: 2.218297, mean_q: 4.080802, mean_tau: 0.953020\n",
            " 544/1000: episode: 28, duration: 0.100s, episode steps:  15, steps per second: 150, episode reward: 15.000, mean reward:  1.000 [ 1.000,  1.000], mean action: 0.400 [0.000, 1.000],  loss: 0.276884, mae: 2.227663, mean_q: 4.226355, mean_tau: 0.951760\n",
            " 558/1000: episode: 29, duration: 0.093s, episode steps:  14, steps per second: 150, episode reward: 14.000, mean reward:  1.000 [ 1.000,  1.000], mean action: 0.714 [0.000, 1.000],  loss: 0.467638, mae: 2.328163, mean_q: 4.427208, mean_tau: 0.950455\n",
            " 589/1000: episode: 30, duration: 0.199s, episode steps:  31, steps per second: 156, episode reward: 31.000, mean reward:  1.000 [ 1.000,  1.000], mean action: 0.645 [0.000, 1.000],  loss: 0.407868, mae: 2.405523, mean_q: 4.568752, mean_tau: 0.948430\n",
            " 626/1000: episode: 31, duration: 0.233s, episode steps:  37, steps per second: 159, episode reward: 37.000, mean reward:  1.000 [ 1.000,  1.000], mean action: 0.459 [0.000, 1.000],  loss: 0.482164, mae: 2.562804, mean_q: 4.857639, mean_tau: 0.945370\n",
            " 636/1000: episode: 32, duration: 0.067s, episode steps:  10, steps per second: 149, episode reward: 10.000, mean reward:  1.000 [ 1.000,  1.000], mean action: 0.800 [0.000, 1.000],  loss: 0.639326, mae: 2.690672, mean_q: 5.043664, mean_tau: 0.943255\n",
            " 654/1000: episode: 33, duration: 0.126s, episode steps:  18, steps per second: 143, episode reward: 18.000, mean reward:  1.000 [ 1.000,  1.000], mean action: 0.556 [0.000, 1.000],  loss: 0.745550, mae: 2.772065, mean_q: 5.095797, mean_tau: 0.941995\n",
            " 668/1000: episode: 34, duration: 0.096s, episode steps:  14, steps per second: 147, episode reward: 14.000, mean reward:  1.000 [ 1.000,  1.000], mean action: 0.357 [0.000, 1.000],  loss: 0.557425, mae: 2.781278, mean_q: 5.155202, mean_tau: 0.940555\n",
            " 696/1000: episode: 35, duration: 0.177s, episode steps:  28, steps per second: 158, episode reward: 28.000, mean reward:  1.000 [ 1.000,  1.000], mean action: 0.429 [0.000, 1.000],  loss: 0.546142, mae: 2.849062, mean_q: 5.370765, mean_tau: 0.938665\n",
            " 707/1000: episode: 36, duration: 0.079s, episode steps:  11, steps per second: 140, episode reward: 11.000, mean reward:  1.000 [ 1.000,  1.000], mean action: 0.818 [0.000, 1.000],  loss: 0.599159, mae: 2.937281, mean_q: 5.508155, mean_tau: 0.936910\n",
            " 721/1000: episode: 37, duration: 0.090s, episode steps:  14, steps per second: 156, episode reward: 14.000, mean reward:  1.000 [ 1.000,  1.000], mean action: 0.571 [0.000, 1.000],  loss: 0.515639, mae: 2.951434, mean_q: 5.576334, mean_tau: 0.935785\n",
            " 732/1000: episode: 38, duration: 0.073s, episode steps:  11, steps per second: 150, episode reward: 11.000, mean reward:  1.000 [ 1.000,  1.000], mean action: 0.818 [0.000, 1.000],  loss: 0.656296, mae: 3.019902, mean_q: 5.683106, mean_tau: 0.934660\n",
            " 771/1000: episode: 39, duration: 0.259s, episode steps:  39, steps per second: 151, episode reward: 39.000, mean reward:  1.000 [ 1.000,  1.000], mean action: 0.385 [0.000, 1.000],  loss: 0.863216, mae: 3.146980, mean_q: 5.801273, mean_tau: 0.932410\n",
            " 784/1000: episode: 40, duration: 0.086s, episode steps:  13, steps per second: 151, episode reward: 13.000, mean reward:  1.000 [ 1.000,  1.000], mean action: 0.923 [0.000, 1.000],  loss: 0.902238, mae: 3.229305, mean_q: 5.982770, mean_tau: 0.930070\n",
            " 802/1000: episode: 41, duration: 0.125s, episode steps:  18, steps per second: 144, episode reward: 18.000, mean reward:  1.000 [ 1.000,  1.000], mean action: 0.389 [0.000, 1.000],  loss: 0.768588, mae: 3.279842, mean_q: 6.139078, mean_tau: 0.928675\n",
            " 823/1000: episode: 42, duration: 0.132s, episode steps:  21, steps per second: 160, episode reward: 21.000, mean reward:  1.000 [ 1.000,  1.000], mean action: 0.667 [0.000, 1.000],  loss: 0.807611, mae: 3.346234, mean_q: 6.234502, mean_tau: 0.926920\n",
            " 854/1000: episode: 43, duration: 0.199s, episode steps:  31, steps per second: 156, episode reward: 31.000, mean reward:  1.000 [ 1.000,  1.000], mean action: 0.419 [0.000, 1.000],  loss: 0.930289, mae: 3.454520, mean_q: 6.412260, mean_tau: 0.924580\n",
            " 882/1000: episode: 44, duration: 0.182s, episode steps:  28, steps per second: 154, episode reward: 28.000, mean reward:  1.000 [ 1.000,  1.000], mean action: 0.500 [0.000, 1.000],  loss: 0.854435, mae: 3.531671, mean_q: 6.550453, mean_tau: 0.921925\n",
            " 908/1000: episode: 45, duration: 0.167s, episode steps:  26, steps per second: 156, episode reward: 26.000, mean reward:  1.000 [ 1.000,  1.000], mean action: 0.577 [0.000, 1.000],  loss: 0.926667, mae: 3.636638, mean_q: 6.838120, mean_tau: 0.919495\n",
            " 932/1000: episode: 46, duration: 0.157s, episode steps:  24, steps per second: 153, episode reward: 24.000, mean reward:  1.000 [ 1.000,  1.000], mean action: 0.292 [0.000, 1.000],  loss: 0.780215, mae: 3.689068, mean_q: 6.912023, mean_tau: 0.917245\n",
            " 945/1000: episode: 47, duration: 0.088s, episode steps:  13, steps per second: 147, episode reward: 13.000, mean reward:  1.000 [ 1.000,  1.000], mean action: 0.308 [0.000, 1.000],  loss: 0.771567, mae: 3.751127, mean_q: 7.062967, mean_tau: 0.915580\n",
            " 958/1000: episode: 48, duration: 0.090s, episode steps:  13, steps per second: 145, episode reward: 13.000, mean reward:  1.000 [ 1.000,  1.000], mean action: 0.308 [0.000, 1.000],  loss: 0.906866, mae: 3.828079, mean_q: 7.160945, mean_tau: 0.914410\n",
            " 973/1000: episode: 49, duration: 0.102s, episode steps:  15, steps per second: 147, episode reward: 15.000, mean reward:  1.000 [ 1.000,  1.000], mean action: 0.400 [0.000, 1.000],  loss: 1.165805, mae: 3.915676, mean_q: 7.206572, mean_tau: 0.913150\n",
            " 992/1000: episode: 50, duration: 0.130s, episode steps:  19, steps per second: 146, episode reward: 19.000, mean reward:  1.000 [ 1.000,  1.000], mean action: 0.684 [0.000, 1.000],  loss: 0.975704, mae: 3.927870, mean_q: 7.270434, mean_tau: 0.911620\n",
            "done, took 7.090 seconds\n"
          ],
          "name": "stdout"
        },
        {
          "output_type": "display_data",
          "data": {
            "image/png": "[encoded data removed]",
            "text/plain": [
              "<Figure size 432x288 with 1 Axes>"
            ]
          },
          "metadata": {
            "tags": [],
            "needs_background": "light"
          }
        },
        {
          "output_type": "stream",
          "text": [
            "Testing for 20 episodes ...\n",
            "Episode 1: reward: 15.000, steps: 15\n",
            "Episode 2: reward: 15.000, steps: 15\n",
            "Episode 3: reward: 15.000, steps: 15\n",
            "Episode 4: reward: 13.000, steps: 13\n",
            "Episode 5: reward: 17.000, steps: 17\n",
            "Episode 6: reward: 15.000, steps: 15\n",
            "Episode 7: reward: 17.000, steps: 17\n",
            "Episode 8: reward: 13.000, steps: 13\n",
            "Episode 9: reward: 15.000, steps: 15\n",
            "Episode 10: reward: 17.000, steps: 17\n",
            "Episode 11: reward: 15.000, steps: 15\n",
            "Episode 12: reward: 13.000, steps: 13\n",
            "Episode 13: reward: 19.000, steps: 19\n",
            "Episode 14: reward: 16.000, steps: 16\n",
            "Episode 15: reward: 20.000, steps: 20\n",
            "Episode 16: reward: 18.000, steps: 18\n",
            "Episode 17: reward: 16.000, steps: 16\n",
            "Episode 18: reward: 15.000, steps: 15\n",
            "Episode 19: reward: 18.000, steps: 18\n",
            "Episode 20: reward: 13.000, steps: 13\n"
          ],
          "name": "stdout"
        },
        {
          "output_type": "execute_result",
          "data": {
            "text/plain": [
              "<tensorflow.python.keras.callbacks.History at 0x7f52ae7a6250>"
            ]
          },
          "metadata": {
            "tags": []
          },
          "execution_count": 7
        }
      ]
    }
  ]
}